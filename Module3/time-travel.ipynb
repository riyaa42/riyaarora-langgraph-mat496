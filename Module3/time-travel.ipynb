{
 "cells": [
  {
   "cell_type": "markdown",
   "id": "9902a6a3",
   "metadata": {},
   "source": [
    "[![Open in Colab](https://colab.research.google.com/assets/colab-badge.svg)](https://colab.research.google.com/github/langchain-ai/langchain-academy/blob/main/module-3/time-travel.ipynb) [![Open in LangChain Academy](https://cdn.prod.website-files.com/65b8cd72835ceeacd4449a53/66e9eba12c7b7688aa3dbb5e_LCA-badge-green.svg)](https://academy.langchain.com/courses/take/intro-to-langgraph/lessons/58239536-lesson-5-time-travel)"
   ]
  },
  {
   "cell_type": "markdown",
   "id": "ba98beac-d461-4d7d-878a-11beca03ea1c",
   "metadata": {},
   "source": [
    "# Time travel\n",
    "\n",
    "## Review\n",
    "\n",
    "We discussed motivations for human-in-the-loop:\n",
    "\n",
    "(1) `Approval` - We can interrupt our agent, surface state to a user, and allow the user to accept an action\n",
    "\n",
    "(2) `Debugging` - We can rewind the graph to reproduce or avoid issues\n",
    "\n",
    "(3) `Editing` - You can modify the state \n",
    "\n",
    "We showed how breakpoints can stop the graph at specific nodes or allow the graph to dynamically interrupt itself.\n",
    "\n",
    "Then we showed how to proceed with human approval or directly edit the graph state with human feedback.\n",
    "\n",
    "## Goals\n",
    "\n",
    "Now, let's show how LangGraph [supports debugging](https://langchain-ai.github.io/langgraph/how-tos/human_in_the_loop/time-travel/) by viewing, re-playing, and even forking from past states. \n",
    "\n",
    "We call this `time travel`."
   ]
  },
  {
   "cell_type": "code",
   "execution_count": null,
   "id": "bd48aeb6-8478-4cb4-aef1-d524b80824d3",
   "metadata": {},
   "outputs": [],
   "source": [
    "%%capture --no-stderr\n",
    "%pip install --quiet -U langgraph langchain_openai langgraph_sdk langgraph-prebuilt"
   ]
  },
  {
   "cell_type": "code",
   "execution_count": null,
   "id": "7d32093f",
   "metadata": {},
   "outputs": [],
   "source": [
    "import os, getpass\n",
    "\n",
    "def _set_env(var: str):\n",
    "    if not os.environ.get(var):\n",
    "        os.environ[var] = getpass.getpass(f\"{var}: \")\n",
    "\n",
    "_set_env(\"OPENAI_API_KEY\")"
   ]
  },
  {
   "cell_type": "code",
   "execution_count": 1,
   "id": "d29078d6-f277-4200-bded-041194763d92",
   "metadata": {},
   "outputs": [
    {
     "data": {
      "text/plain": [
       "True"
      ]
     },
     "execution_count": 1,
     "metadata": {},
     "output_type": "execute_result"
    }
   ],
   "source": [
    "from dotenv import load_dotenv\n",
    "load_dotenv(dotenv_path=\"C:/Users/riyaa/Documents/code/mat496/langgraphmod3/studio/.env\", override=True) #path to my env folder"
   ]
  },
  {
   "cell_type": "code",
   "execution_count": 2,
   "id": "a9e6a2db-3b83-4212-8c49-9638f052ee62",
   "metadata": {},
   "outputs": [],
   "source": [
    "from langchain_google_genai import ChatGoogleGenerativeAI\n",
    "llm = ChatGoogleGenerativeAI(\n",
    "    model=\"gemini-2.0-flash\", \n",
    "    temperature=0.7,\n",
    ")"
   ]
  },
  {
   "cell_type": "markdown",
   "id": "0497d316-832a-4668-b133-fd317ee81220",
   "metadata": {},
   "source": [
    "Let's build our agent."
   ]
  },
  {
   "cell_type": "code",
   "execution_count": 3,
   "id": "d64ab3a1-b39c-4176-88c7-791a0b80c725",
   "metadata": {},
   "outputs": [],
   "source": [
    "def multiply(a: int, b: int) -> int:\n",
    "    \"\"\"Multiply a and b.\n",
    "    Args:\n",
    "        a: first int\n",
    "        b: second int\n",
    "    \"\"\"\n",
    "    return a * b\n",
    "\n",
    "def divide(a: float, b: float) -> float:\n",
    "    \"\"\"Divide a by b.\n",
    "    Args:\n",
    "        a: numerator\n",
    "        b: denominator\n",
    "    \"\"\"\n",
    "    if b == 0:\n",
    "        return \"Error: Cannot divide by zero\"\n",
    "    return a / b\n",
    "\n",
    "def add(a: int, b: int) -> int:\n",
    "    \"\"\"Add a and b.\n",
    "    Args:\n",
    "        a: first int\n",
    "        b: second int\n",
    "    \"\"\"\n",
    "    return a + b\n",
    "\n",
    "def subtract(a: int, b: int) -> int:\n",
    "    \"\"\"Subtract b from a.\n",
    "    Args:\n",
    "        a: first int\n",
    "        b: second int\n",
    "    \"\"\"\n",
    "    return a - b\n",
    "\n",
    "def square(a: float) -> float:\n",
    "    \"\"\"Calculate the square of a number (a²).\n",
    "    \n",
    "    Args:\n",
    "        a: the number to square\n",
    "    \"\"\"\n",
    "    return a ** 2\n",
    "\n",
    "def square_root(a: float) -> float:\n",
    "    \"\"\"Calculate the square root of a number (√a).\n",
    "    \n",
    "    Args:\n",
    "        a: the number to find square root of (must be non-negative)\n",
    "    \"\"\"\n",
    "    import math\n",
    "    if a < 0:\n",
    "        return \"Error: Cannot calculate square root of negative number\"\n",
    "    return math.sqrt(a)\n",
    "\n",
    "def modulo(a: int, b: int) -> int:\n",
    "    \"\"\"Calculate the remainder when a is divided by b (a % b).\n",
    "    \n",
    "    Args:\n",
    "        a: the dividend\n",
    "        b: the divisor\n",
    "    \"\"\"\n",
    "    if b == 0:\n",
    "        return \"Error: Cannot divide by zero\"\n",
    "    return a % b\n",
    "def get_current_time() -> str:\n",
    "    \"\"\"Get the current date and time.\n",
    "    No arguments needed.\n",
    "    \"\"\"\n",
    "    from datetime import datetime\n",
    "    return datetime.now()\n",
    "\n",
    "def get_weather(location: str) -> str:\n",
    "    \"\"\"Get the current weather for a location.\n",
    "    Args:\n",
    "        location: city name or location \n",
    "    \"\"\"\n",
    "    import requests\n",
    "    \n",
    "    # Using Open-Meteo API \n",
    "    \n",
    "    geocoding_url = f\"https://geocoding-api.open-meteo.com/v1/search?name={location}&count=1&language=en&format=json\"\n",
    "    \n",
    "    try:\n",
    "        geo_response = requests.get(geocoding_url)\n",
    "        geo_data = geo_response.json()\n",
    "        \n",
    "        if not geo_data.get(\"results\"):\n",
    "            return f\"Location '{location}' not found\"\n",
    "        \n",
    "        lat = geo_data[\"results\"][0][\"latitude\"]\n",
    "        lon = geo_data[\"results\"][0][\"longitude\"]\n",
    "        city_name = geo_data[\"results\"][0][\"name\"]\n",
    "        \n",
    "        # Get weather data\n",
    "        weather_url = f\"https://api.open-meteo.com/v1/forecast?latitude={lat}&longitude={lon}&current=temperature_2m,weather_code&temperature_unit=celsius\"\n",
    "        weather_response = requests.get(weather_url)\n",
    "        weather_data = weather_response.json()\n",
    "        \n",
    "        temp = weather_data[\"current\"][\"temperature_2m\"]\n",
    "        \n",
    "        return f\"Current weather in {city_name}: {temp}°C\"\n",
    "    \n",
    "    except Exception as e:\n",
    "        return f\"Error getting weather: {str(e)}\"\n",
    "\n",
    "# Bind all tools to the LLM\n",
    "tools=[multiply, divide, add, subtract, square, square_root, modulo, get_current_time, get_weather]\n",
    "llm_with_tools = llm.bind_tools(tools, parallel_tool_calls=False)"
   ]
  },
  {
   "cell_type": "code",
   "execution_count": 4,
   "id": "1d8622a9-57cd-44dc-8696-46c5ab32d0b9",
   "metadata": {},
   "outputs": [
    {
     "data": {
      "image/png": "[encoded data removed]",
      "text/plain": [
       "<IPython.core.display.Image object>"
      ]
     },
     "metadata": {},
     "output_type": "display_data"
    }
   ],
   "source": [
    "from IPython.display import Image, display\n",
    "\n",
    "from langgraph.checkpoint.memory import MemorySaver\n",
    "from langgraph.graph import MessagesState\n",
    "from langgraph.graph import START, END, StateGraph\n",
    "from langgraph.prebuilt import tools_condition, ToolNode\n",
    "\n",
    "from langchain_core.messages import AIMessage, HumanMessage, SystemMessage\n",
    "\n",
    "# System message\n",
    "sys_msg = SystemMessage(content=\"You are a helpful assistant tasked with two things, if the input is arithemetic or numerically related, then to perform arithmetic on the set of inputs, secondly, if the input asks for environmental variables like date/time/weather then to assist in this.\")\n",
    "\n",
    "# Node\n",
    "def assistant(state: MessagesState):\n",
    "   return {\"messages\": [llm_with_tools.invoke([sys_msg] + state[\"messages\"])]}\n",
    "\n",
    "# Graph\n",
    "builder = StateGraph(MessagesState)\n",
    "\n",
    "# Define nodes: these do the work\n",
    "builder.add_node(\"assistant\", assistant)\n",
    "builder.add_node(\"tools\", ToolNode(tools))\n",
    "\n",
    "# Define edges: these determine the control flow\n",
    "builder.add_edge(START, \"assistant\")\n",
    "builder.add_conditional_edges(\n",
    "    \"assistant\",\n",
    "    # If the latest message (result) from assistant is a tool call -> tools_condition routes to tools\n",
    "    # If the latest message (result) from assistant is a not a tool call -> tools_condition routes to END\n",
    "    tools_condition,\n",
    ")\n",
    "builder.add_edge(\"tools\", \"assistant\")\n",
    "\n",
    "memory = MemorySaver()\n",
    "graph = builder.compile(checkpointer=MemorySaver())\n",
    "\n",
    "# Show\n",
    "display(Image(graph.get_graph(xray=True).draw_mermaid_png()))"
   ]
  },
  {
   "cell_type": "markdown",
   "id": "fab18a04-1329-47ac-a25b-4e01bf756e2a",
   "metadata": {},
   "source": [
    "Let's run it, as before."
   ]
  },
  {
   "cell_type": "code",
   "execution_count": 5,
   "id": "05b2ab62-82bc-4356-8d5b-2d4f49069fdd",
   "metadata": {},
   "outputs": [
    {
     "name": "stdout",
     "output_type": "stream",
     "text": [
      "================================\u001b[1m Human Message \u001b[0m=================================\n",
      "\n",
      "Give the modulo of 53 by 6 then square the output and then add 6 to the output and then find the square root\n",
      "==================================\u001b[1m Ai Message \u001b[0m==================================\n",
      "Tool Calls:\n",
      "  modulo (e41db872-9b25-46d9-98a3-61fddc0c7d4e)\n",
      " Call ID: e41db872-9b25-46d9-98a3-61fddc0c7d4e\n",
      "  Args:\n",
      "    a: 53\n",
      "    b: 6\n",
      "=================================\u001b[1m Tool Message \u001b[0m=================================\n",
      "Name: modulo\n",
      "\n",
      "5\n",
      "==================================\u001b[1m Ai Message \u001b[0m==================================\n",
      "Tool Calls:\n",
      "  square (b1114350-c120-4a0d-a25a-b31a02651de2)\n",
      " Call ID: b1114350-c120-4a0d-a25a-b31a02651de2\n",
      "  Args:\n",
      "    a: 5\n",
      "=================================\u001b[1m Tool Message \u001b[0m=================================\n",
      "Name: square\n",
      "\n",
      "25.0\n",
      "==================================\u001b[1m Ai Message \u001b[0m==================================\n",
      "Tool Calls:\n",
      "  add (6923bfef-37f9-4738-b832-9cbc23e2fce6)\n",
      " Call ID: 6923bfef-37f9-4738-b832-9cbc23e2fce6\n",
      "  Args:\n",
      "    a: 25\n",
      "    b: 6\n",
      "=================================\u001b[1m Tool Message \u001b[0m=================================\n",
      "Name: add\n",
      "\n",
      "31\n",
      "==================================\u001b[1m Ai Message \u001b[0m==================================\n",
      "Tool Calls:\n",
      "  square_root (4e7d9c06-eb7a-42e0-8621-46c78d37ede4)\n",
      " Call ID: 4e7d9c06-eb7a-42e0-8621-46c78d37ede4\n",
      "  Args:\n",
      "    a: 31\n",
      "=================================\u001b[1m Tool Message \u001b[0m=================================\n",
      "Name: square_root\n",
      "\n",
      "5.5677643628300215\n",
      "==================================\u001b[1m Ai Message \u001b[0m==================================\n",
      "\n",
      "5.  5677643628300215\n"
     ]
    }
   ],
   "source": [
    "# Input\n",
    "initial_input = {\"messages\": HumanMessage(content=\"Give the modulo of 53 by 6 then square the output and then add 6 to the output and then find the square root\")}\n",
    "\n",
    "# Thread\n",
    "thread = {\"configurable\": {\"thread_id\": \"1\"}}\n",
    "\n",
    "# Run the graph until the first interruption\n",
    "for event in graph.stream(initial_input, thread, stream_mode=\"values\"):\n",
    "    event['messages'][-1].pretty_print()"
   ]
  },
  {
   "cell_type": "markdown",
   "id": "268cfa43-22d1-4d63-8d81-a3ce00f1f2c8",
   "metadata": {},
   "source": [
    "## Browsing History\n",
    "\n",
    "We can use `get_state` to look at the **current** state of our graph, given the `thread_id`!"
   ]
  },
  {
   "cell_type": "code",
   "execution_count": 6,
   "id": "161eb053-18f6-4c99-8674-8cbd11cae57e",
   "metadata": {},
   "outputs": [
    {
     "data": {
      "text/plain": [
       "StateSnapshot(values={'messages': [HumanMessage(content='Give the modulo of 53 by 6 then square the output and then add 6 to the output and then find the square root', additional_kwargs={}, response_metadata={}, id='9016c91a-9946-4a69-8ee7-ff6893e20cce'), AIMessage(content='', additional_kwargs={'function_call': {'name': 'modulo', 'arguments': '{\"a\": 53, \"b\": 6}'}}, response_metadata={'prompt_feedback': {'block_reason': 0, 'safety_ratings': []}, 'finish_reason': 'STOP', 'model_name': 'gemini-2.0-flash', 'safety_ratings': [], 'grounding_metadata': {}, 'model_provider': 'google_genai'}, id='lc_run--114800aa-00b5-4574-b909-c9d2d3a7931c-0', tool_calls=[{'name': 'modulo', 'args': {'a': 53, 'b': 6}, 'id': 'e41db872-9b25-46d9-98a3-61fddc0c7d4e', 'type': 'tool_call'}], usage_metadata={'input_tokens': 311, 'output_tokens': 5, 'total_tokens': 316, 'input_token_details': {'cache_read': 0}}), ToolMessage(content='5', name='modulo', id='a9fb3c99-d8ce-4d02-a135-023d26f2f8b3', tool_call_id='e41db872-9b25-46d9-98a3-61fddc0c7d4e'), AIMessage(content='', additional_kwargs={'function_call': {'name': 'square', 'arguments': '{\"a\": 5}'}}, response_metadata={'prompt_feedback': {'block_reason': 0, 'safety_ratings': []}, 'finish_reason': 'STOP', 'model_name': 'gemini-2.0-flash', 'safety_ratings': [], 'grounding_metadata': {}, 'model_provider': 'google_genai'}, id='lc_run--3bd2b01c-a644-4a7f-9c30-ced535fb6438-0', tool_calls=[{'name': 'square', 'args': {'a': 5}, 'id': 'b1114350-c120-4a0d-a25a-b31a02651de2', 'type': 'tool_call'}], usage_metadata={'input_tokens': 319, 'output_tokens': 3, 'total_tokens': 322, 'input_token_details': {'cache_read': 0}}), ToolMessage(content='25.0', name='square', id='cee93c68-c07c-4a91-834b-39be243c73c1', tool_call_id='b1114350-c120-4a0d-a25a-b31a02651de2'), AIMessage(content='', additional_kwargs={'function_call': {'name': 'add', 'arguments': '{\"a\": 25, \"b\": 6}'}}, response_metadata={'prompt_feedback': {'block_reason': 0, 'safety_ratings': []}, 'finish_reason': 'STOP', 'model_name': 'gemini-2.0-flash', 'safety_ratings': [], 'grounding_metadata': {}, 'model_provider': 'google_genai'}, id='lc_run--7306cbf5-ad67-4367-b942-a28bc0c2225f-0', tool_calls=[{'name': 'add', 'args': {'a': 25, 'b': 6}, 'id': '6923bfef-37f9-4738-b832-9cbc23e2fce6', 'type': 'tool_call'}], usage_metadata={'input_tokens': 325, 'output_tokens': 5, 'total_tokens': 330, 'input_token_details': {'cache_read': 0}}), ToolMessage(content='31', name='add', id='d1f35c17-8fb4-41e9-9dbe-8effc7b2ffca', tool_call_id='6923bfef-37f9-4738-b832-9cbc23e2fce6'), AIMessage(content='', additional_kwargs={'function_call': {'name': 'square_root', 'arguments': '{\"a\": 31}'}}, response_metadata={'prompt_feedback': {'block_reason': 0, 'safety_ratings': []}, 'finish_reason': 'STOP', 'model_name': 'gemini-2.0-flash', 'safety_ratings': [], 'grounding_metadata': {}, 'model_provider': 'google_genai'}, id='lc_run--ec4c27f9-d0d7-4352-ab8c-00632b215876-0', tool_calls=[{'name': 'square_root', 'args': {'a': 31}, 'id': '4e7d9c06-eb7a-42e0-8621-46c78d37ede4', 'type': 'tool_call'}], usage_metadata={'input_tokens': 333, 'output_tokens': 5, 'total_tokens': 338, 'input_token_details': {'cache_read': 0}}), ToolMessage(content='5.5677643628300215', name='square_root', id='167414cb-3305-4a0f-b84e-65b7fd98ed58', tool_call_id='4e7d9c06-eb7a-42e0-8621-46c78d37ede4'), AIMessage(content='5.  5677643628300215', additional_kwargs={}, response_metadata={'prompt_feedback': {'block_reason': 0, 'safety_ratings': []}, 'finish_reason': 'STOP', 'model_name': 'gemini-2.0-flash', 'safety_ratings': [], 'grounding_metadata': {}, 'model_provider': 'google_genai'}, id='lc_run--23958927-4f38-40f0-b08b-c286649bd46a-0', usage_metadata={'input_tokens': 343, 'output_tokens': 20, 'total_tokens': 363, 'input_token_details': {'cache_read': 0}})]}, next=(), config={'configurable': {'thread_id': '1', 'checkpoint_ns': '', 'checkpoint_id': '1f0b36e0-0822-67d4-8009-4459e58619f2'}}, metadata={'source': 'loop', 'step': 9, 'parents': {}}, created_at='2025-10-27T19:49:08.478963+00:00', parent_config={'configurable': {'thread_id': '1', 'checkpoint_ns': '', 'checkpoint_id': '1f0b36df-fcae-660c-8008-d16e0ff41c0d'}}, tasks=(), interrupts=())"
      ]
     },
     "execution_count": 6,
     "metadata": {},
     "output_type": "execute_result"
    }
   ],
   "source": [
    "graph.get_state({'configurable': {'thread_id': '1'}})"
   ]
  },
  {
   "cell_type": "markdown",
   "id": "8d00869e-7b41-4d71-ad3c-cacf8f9c029f",
   "metadata": {},
   "source": [
    "We can also browse the state history of our agent.\n",
    "\n",
    "`get_state_history` lets us get the state at all prior steps.\n"
   ]
  },
  {
   "cell_type": "code",
   "execution_count": 7,
   "id": "3010169c-3bfa-498c-a30c-7ba53744e4d5",
   "metadata": {},
   "outputs": [],
   "source": [
    "all_states = [s for s in graph.get_state_history(thread)]"
   ]
  },
  {
   "cell_type": "code",
   "execution_count": 8,
   "id": "c4612ccf-59fc-4848-8845-0433fee2ca8e",
   "metadata": {},
   "outputs": [
    {
     "data": {
      "text/plain": [
       "11"
      ]
     },
     "execution_count": 8,
     "metadata": {},
     "output_type": "execute_result"
    }
   ],
   "source": [
    "len(all_states)"
   ]
  },
  {
   "cell_type": "markdown",
   "id": "af30f269-1152-4fa1-a7c6-2947acad9a27",
   "metadata": {},
   "source": [
    "The first element is the current state, just as we got from `get_state`."
   ]
  },
  {
   "cell_type": "code",
   "execution_count": 9,
   "id": "4e60b292-8efc-4cc3-b836-51f060fa608b",
   "metadata": {},
   "outputs": [
    {
     "data": {
      "text/plain": [
       "StateSnapshot(values={'messages': [HumanMessage(content='Give the modulo of 53 by 6 then square the output and then add 6 to the output and then find the square root', additional_kwargs={}, response_metadata={}, id='9016c91a-9946-4a69-8ee7-ff6893e20cce')]}, next=('assistant',), config={'configurable': {'thread_id': '1', 'checkpoint_ns': '', 'checkpoint_id': '1f0b36df-d180-6838-8000-099ef726e73e'}}, metadata={'source': 'loop', 'step': 0, 'parents': {}}, created_at='2025-10-27T19:49:02.750308+00:00', parent_config={'configurable': {'thread_id': '1', 'checkpoint_ns': '', 'checkpoint_id': '1f0b36df-d17e-61f6-bfff-1a2ae16afb06'}}, tasks=(PregelTask(id='31b7ff44-8544-cb20-6583-0af15a035da1', name='assistant', path=('__pregel_pull', 'assistant'), error=None, interrupts=(), state=None, result={'messages': [AIMessage(content='', additional_kwargs={'function_call': {'name': 'modulo', 'arguments': '{\"a\": 53, \"b\": 6}'}}, response_metadata={'prompt_feedback': {'block_reason': 0, 'safety_ratings': []}, 'finish_reason': 'STOP', 'model_name': 'gemini-2.0-flash', 'safety_ratings': [], 'grounding_metadata': {}, 'model_provider': 'google_genai'}, id='lc_run--114800aa-00b5-4574-b909-c9d2d3a7931c-0', tool_calls=[{'name': 'modulo', 'args': {'a': 53, 'b': 6}, 'id': 'e41db872-9b25-46d9-98a3-61fddc0c7d4e', 'type': 'tool_call'}], usage_metadata={'input_tokens': 311, 'output_tokens': 5, 'total_tokens': 316, 'input_token_details': {'cache_read': 0}})]}),), interrupts=())"
      ]
     },
     "execution_count": 9,
     "metadata": {},
     "output_type": "execute_result"
    }
   ],
   "source": [
    "all_states[-2]"
   ]
  },
  {
   "attachments": {},
   "cell_type": "markdown",
   "id": "4148a710-ceed-413b-b93c-070c6c792fa2",
   "metadata": {},
   "source": [
    "Everything above we can visualize here: \n",
    "\n",
    "![fig1.jpg](https://cdn.prod.website-files.com/65b8cd72835ceeacd4449a53/66dbb038211b544898570be3_time-travel1.png)"
   ]
  },
  {
   "attachments": {},
   "cell_type": "markdown",
   "id": "a5ad554a-faf3-489f-a9a9-774f4ec2a526",
   "metadata": {},
   "source": [
    "## Replaying \n",
    "\n",
    "We can re-run our agent from any of the prior steps.\n",
    "\n",
    "![fig2.jpg](https://cdn.prod.website-files.com/65b8cd72835ceeacd4449a53/66dbb038a0bd34b541c78fb8_time-travel2.png)"
   ]
  },
  {
   "cell_type": "markdown",
   "id": "e135d2db-d613-42da-877e-d429f21aaefd",
   "metadata": {},
   "source": [
    "Let's look back at the step that recieved human input!"
   ]
  },
  {
   "cell_type": "code",
   "execution_count": 10,
   "id": "3688e511-a440-4330-a450-e5ed889c3b30",
   "metadata": {},
   "outputs": [],
   "source": [
    "to_replay = all_states[-2]"
   ]
  },
  {
   "cell_type": "code",
   "execution_count": 11,
   "id": "72adf296-d519-4bdc-af03-3b29799e9534",
   "metadata": {},
   "outputs": [
    {
     "data": {
      "text/plain": [
       "StateSnapshot(values={'messages': [HumanMessage(content='Give the modulo of 53 by 6 then square the output and then add 6 to the output and then find the square root', additional_kwargs={}, response_metadata={}, id='9016c91a-9946-4a69-8ee7-ff6893e20cce')]}, next=('assistant',), config={'configurable': {'thread_id': '1', 'checkpoint_ns': '', 'checkpoint_id': '1f0b36df-d180-6838-8000-099ef726e73e'}}, metadata={'source': 'loop', 'step': 0, 'parents': {}}, created_at='2025-10-27T19:49:02.750308+00:00', parent_config={'configurable': {'thread_id': '1', 'checkpoint_ns': '', 'checkpoint_id': '1f0b36df-d17e-61f6-bfff-1a2ae16afb06'}}, tasks=(PregelTask(id='31b7ff44-8544-cb20-6583-0af15a035da1', name='assistant', path=('__pregel_pull', 'assistant'), error=None, interrupts=(), state=None, result={'messages': [AIMessage(content='', additional_kwargs={'function_call': {'name': 'modulo', 'arguments': '{\"a\": 53, \"b\": 6}'}}, response_metadata={'prompt_feedback': {'block_reason': 0, 'safety_ratings': []}, 'finish_reason': 'STOP', 'model_name': 'gemini-2.0-flash', 'safety_ratings': [], 'grounding_metadata': {}, 'model_provider': 'google_genai'}, id='lc_run--114800aa-00b5-4574-b909-c9d2d3a7931c-0', tool_calls=[{'name': 'modulo', 'args': {'a': 53, 'b': 6}, 'id': 'e41db872-9b25-46d9-98a3-61fddc0c7d4e', 'type': 'tool_call'}], usage_metadata={'input_tokens': 311, 'output_tokens': 5, 'total_tokens': 316, 'input_token_details': {'cache_read': 0}})]}),), interrupts=())"
      ]
     },
     "execution_count": 11,
     "metadata": {},
     "output_type": "execute_result"
    }
   ],
   "source": [
    "to_replay"
   ]
  },
  {
   "cell_type": "markdown",
   "id": "571e7894-6546-48ff-9c25-fa6d120391b3",
   "metadata": {},
   "source": [
    "Look at the state."
   ]
  },
  {
   "cell_type": "code",
   "execution_count": 12,
   "id": "6fe69428-f364-4330-bf5d-aa966c7f3b07",
   "metadata": {},
   "outputs": [
    {
     "data": {
      "text/plain": [
       "{'messages': [HumanMessage(content='Give the modulo of 53 by 6 then square the output and then add 6 to the output and then find the square root', additional_kwargs={}, response_metadata={}, id='9016c91a-9946-4a69-8ee7-ff6893e20cce')]}"
      ]
     },
     "execution_count": 12,
     "metadata": {},
     "output_type": "execute_result"
    }
   ],
   "source": [
    "to_replay.values"
   ]
  },
  {
   "cell_type": "markdown",
   "id": "ff2df545-cc80-4962-a34a-faac7af8eb3d",
   "metadata": {},
   "source": [
    "We can see the next node to call."
   ]
  },
  {
   "cell_type": "code",
   "execution_count": 13,
   "id": "d2f333f9-9b2b-46f6-ac3a-525f86b20f1b",
   "metadata": {},
   "outputs": [
    {
     "data": {
      "text/plain": [
       "('assistant',)"
      ]
     },
     "execution_count": 13,
     "metadata": {},
     "output_type": "execute_result"
    }
   ],
   "source": [
    "to_replay.next"
   ]
  },
  {
   "cell_type": "markdown",
   "id": "b8938c18-5c22-47df-b71e-40afa73c87af",
   "metadata": {},
   "source": [
    "We also get the config, which tells us the `checkpoint_id` as well as the `thread_id`."
   ]
  },
  {
   "cell_type": "code",
   "execution_count": 14,
   "id": "b1298786-afa5-4277-927e-708a8629231b",
   "metadata": {},
   "outputs": [
    {
     "data": {
      "text/plain": [
       "{'configurable': {'thread_id': '1',\n",
       "  'checkpoint_ns': '',\n",
       "  'checkpoint_id': '1f0b36df-d180-6838-8000-099ef726e73e'}}"
      ]
     },
     "execution_count": 14,
     "metadata": {},
     "output_type": "execute_result"
    }
   ],
   "source": [
    "to_replay.config"
   ]
  },
  {
   "cell_type": "markdown",
   "id": "1d93b5eb-f541-4f82-93b1-48f54bf5cf83",
   "metadata": {},
   "source": [
    "To replay from here, we simply pass the config back to the agent!\n",
    "\n",
    "The graph knows that this checkpoint has aleady been executed. \n",
    "\n",
    "It just re-plays from this checkpoint!"
   ]
  },
  {
   "cell_type": "code",
   "execution_count": 15,
   "id": "531b4cd1-54f6-44aa-9ffe-cf5403dad65d",
   "metadata": {},
   "outputs": [
    {
     "name": "stdout",
     "output_type": "stream",
     "text": [
      "================================\u001b[1m Human Message \u001b[0m=================================\n",
      "\n",
      "Give the modulo of 53 by 6 then square the output and then add 6 to the output and then find the square root\n",
      "==================================\u001b[1m Ai Message \u001b[0m==================================\n",
      "Tool Calls:\n",
      "  modulo (1cdbaa5e-7884-48de-bff2-1e4140a880ea)\n",
      " Call ID: 1cdbaa5e-7884-48de-bff2-1e4140a880ea\n",
      "  Args:\n",
      "    a: 53\n",
      "    b: 6\n",
      "=================================\u001b[1m Tool Message \u001b[0m=================================\n",
      "Name: modulo\n",
      "\n",
      "5\n",
      "==================================\u001b[1m Ai Message \u001b[0m==================================\n",
      "Tool Calls:\n",
      "  square (94873c4b-a99d-42bf-9230-a579ab732608)\n",
      " Call ID: 94873c4b-a99d-42bf-9230-a579ab732608\n",
      "  Args:\n",
      "    a: 5\n",
      "=================================\u001b[1m Tool Message \u001b[0m=================================\n",
      "Name: square\n",
      "\n",
      "25.0\n",
      "==================================\u001b[1m Ai Message \u001b[0m==================================\n",
      "Tool Calls:\n",
      "  add (e49fd0a9-5fbd-4a08-b976-a0af83890a07)\n",
      " Call ID: e49fd0a9-5fbd-4a08-b976-a0af83890a07\n",
      "  Args:\n",
      "    a: 25\n",
      "    b: 6\n",
      "=================================\u001b[1m Tool Message \u001b[0m=================================\n",
      "Name: add\n",
      "\n",
      "31\n",
      "==================================\u001b[1m Ai Message \u001b[0m==================================\n",
      "Tool Calls:\n",
      "  square_root (7696cdc1-f87e-412c-afd4-f86bedaf7990)\n",
      " Call ID: 7696cdc1-f87e-412c-afd4-f86bedaf7990\n",
      "  Args:\n",
      "    a: 31\n",
      "=================================\u001b[1m Tool Message \u001b[0m=================================\n",
      "Name: square_root\n",
      "\n",
      "5.5677643628300215\n",
      "==================================\u001b[1m Ai Message \u001b[0m==================================\n",
      "\n",
      "5.  5677643628300215\n"
     ]
    }
   ],
   "source": [
    "for event in graph.stream(None, to_replay.config, stream_mode=\"values\"):\n",
    "    event['messages'][-1].pretty_print()"
   ]
  },
  {
   "cell_type": "markdown",
   "id": "7d7a914e-63e6-4424-970f-15059ce9b4c3",
   "metadata": {},
   "source": [
    "Now, we can see our current state after the agent re-ran."
   ]
  },
  {
   "attachments": {},
   "cell_type": "markdown",
   "id": "5a5a1f03-19f2-4d22-ba54-1c065ff08e85",
   "metadata": {},
   "source": [
    "## Forking\n",
    "\n",
    "What if we want to run from that same step, but with a different input.\n",
    "\n",
    "This is forking.\n",
    "\n",
    "![fig3.jpg](https://cdn.prod.website-files.com/65b8cd72835ceeacd4449a53/66dbb038f89f2d847ee5c336_time-travel3.png)"
   ]
  },
  {
   "cell_type": "code",
   "execution_count": 16,
   "id": "cdeb5bf2-1566-4d8c-8ea5-65894e3a7038",
   "metadata": {},
   "outputs": [
    {
     "data": {
      "text/plain": [
       "[HumanMessage(content='Give the modulo of 53 by 6 then square the output and then add 6 to the output and then find the square root', additional_kwargs={}, response_metadata={}, id='9016c91a-9946-4a69-8ee7-ff6893e20cce')]"
      ]
     },
     "execution_count": 16,
     "metadata": {},
     "output_type": "execute_result"
    }
   ],
   "source": [
    "to_fork = all_states[-2]\n",
    "to_fork.values[\"messages\"]"
   ]
  },
  {
   "cell_type": "markdown",
   "id": "4a15f6a6-6eaa-48d6-92bb-864ea3a31b6a",
   "metadata": {},
   "source": [
    "Again, we have the config."
   ]
  },
  {
   "cell_type": "code",
   "execution_count": 17,
   "id": "d1621b27-ee51-4dc3-81c4-1d05317280db",
   "metadata": {},
   "outputs": [
    {
     "data": {
      "text/plain": [
       "{'configurable': {'thread_id': '1',\n",
       "  'checkpoint_ns': '',\n",
       "  'checkpoint_id': '1f0b36df-d180-6838-8000-099ef726e73e'}}"
      ]
     },
     "execution_count": 17,
     "metadata": {},
     "output_type": "execute_result"
    }
   ],
   "source": [
    "to_fork.config"
   ]
  },
  {
   "cell_type": "markdown",
   "id": "c2102195-0583-4dbe-ad2f-02fac7915585",
   "metadata": {},
   "source": [
    "Let's modify the state at this checkpoint.\n",
    "\n",
    "We can just run `update_state` with the `checkpoint_id` supplied. \n",
    "\n",
    "Remember how our reducer on `messages` works: \n",
    "\n",
    "* It will append, unless we supply a message ID.\n",
    "* We supply the message ID to overwrite the message, rather than appending to state!\n",
    "\n",
    "So, to overwrite the the message, we just supply the message ID, which we have `to_fork.values[\"messages\"].id`."
   ]
  },
  {
   "cell_type": "code",
   "execution_count": 20,
   "id": "0b4a918d-858a-41ac-a5d4-e99260e2d6ec",
   "metadata": {},
   "outputs": [],
   "source": [
    "fork_config = graph.update_state(\n",
    "    to_fork.config,\n",
    "    {\"messages\": [HumanMessage(content='Multiply 5 and 3 then square the output', \n",
    "                               id=to_fork.values[\"messages\"][0].id)]},\n",
    ")"
   ]
  },
  {
   "cell_type": "code",
   "execution_count": 21,
   "id": "8ff4e9bb-8221-42d1-b7d0-b0cbd5dc374a",
   "metadata": {},
   "outputs": [
    {
     "data": {
      "text/plain": [
       "{'configurable': {'thread_id': '1',\n",
       "  'checkpoint_ns': '',\n",
       "  'checkpoint_id': '1f0b36e4-f0c3-6153-8001-2979304610f4'}}"
      ]
     },
     "execution_count": 21,
     "metadata": {},
     "output_type": "execute_result"
    }
   ],
   "source": [
    "fork_config"
   ]
  },
  {
   "cell_type": "markdown",
   "id": "bebfe6fd-c94b-4291-a125-ec6170e35bc5",
   "metadata": {},
   "source": [
    "This creates a new, forked checkpoint.\n",
    " \n",
    "But, the metadata - e.g., where to go next - is perserved! \n",
    "\n",
    "We can see the current state of our agent has been updated with our fork."
   ]
  },
  {
   "cell_type": "code",
   "execution_count": 22,
   "id": "586ce86c-1257-45e9-ba30-6287932b9484",
   "metadata": {},
   "outputs": [
    {
     "data": {
      "text/plain": [
       "[HumanMessage(content='Multiply 5 and 3 then square the output', additional_kwargs={}, response_metadata={}, id='9016c91a-9946-4a69-8ee7-ff6893e20cce'),\n",
       " AIMessage(content='', additional_kwargs={'function_call': {'name': 'modulo', 'arguments': '{\"a\": 53, \"b\": 6}'}}, response_metadata={'prompt_feedback': {'block_reason': 0, 'safety_ratings': []}, 'finish_reason': 'STOP', 'model_name': 'gemini-2.0-flash', 'safety_ratings': [], 'grounding_metadata': {}, 'model_provider': 'google_genai'}, id='lc_run--114800aa-00b5-4574-b909-c9d2d3a7931c-0', tool_calls=[{'name': 'modulo', 'args': {'a': 53, 'b': 6}, 'id': 'e41db872-9b25-46d9-98a3-61fddc0c7d4e', 'type': 'tool_call'}], usage_metadata={'input_tokens': 311, 'output_tokens': 5, 'total_tokens': 316, 'input_token_details': {'cache_read': 0}})]"
      ]
     },
     "execution_count": 22,
     "metadata": {},
     "output_type": "execute_result"
    }
   ],
   "source": [
    "all_states = [state for state in graph.get_state_history(thread) ]\n",
    "all_states[0].values[\"messages\"]"
   ]
  },
  {
   "cell_type": "code",
   "execution_count": 23,
   "id": "12e19798-25d8-49e8-8542-13d2b3bdf58e",
   "metadata": {},
   "outputs": [
    {
     "data": {
      "text/plain": [
       "StateSnapshot(values={'messages': [HumanMessage(content='Multiply 5 and 3 then square the output', additional_kwargs={}, response_metadata={}, id='9016c91a-9946-4a69-8ee7-ff6893e20cce'), AIMessage(content='', additional_kwargs={'function_call': {'name': 'modulo', 'arguments': '{\"a\": 53, \"b\": 6}'}}, response_metadata={'prompt_feedback': {'block_reason': 0, 'safety_ratings': []}, 'finish_reason': 'STOP', 'model_name': 'gemini-2.0-flash', 'safety_ratings': [], 'grounding_metadata': {}, 'model_provider': 'google_genai'}, id='lc_run--114800aa-00b5-4574-b909-c9d2d3a7931c-0', tool_calls=[{'name': 'modulo', 'args': {'a': 53, 'b': 6}, 'id': 'e41db872-9b25-46d9-98a3-61fddc0c7d4e', 'type': 'tool_call'}], usage_metadata={'input_tokens': 311, 'output_tokens': 5, 'total_tokens': 316, 'input_token_details': {'cache_read': 0}})]}, next=('tools',), config={'configurable': {'thread_id': '1', 'checkpoint_ns': '', 'checkpoint_id': '1f0b36e4-f0c3-6153-8001-2979304610f4'}}, metadata={'source': 'update', 'step': 1, 'parents': {}}, created_at='2025-10-27T19:51:20.245889+00:00', parent_config={'configurable': {'thread_id': '1', 'checkpoint_ns': '', 'checkpoint_id': '1f0b36df-d180-6838-8000-099ef726e73e'}}, tasks=(PregelTask(id='8dbbd2c2-411e-fee6-3f42-20545bab6d3b', name='tools', path=('__pregel_pull', 'tools'), error=None, interrupts=(), state=None, result=None),), interrupts=())"
      ]
     },
     "execution_count": 23,
     "metadata": {},
     "output_type": "execute_result"
    }
   ],
   "source": [
    "graph.get_state({'configurable': {'thread_id': '1'}})"
   ]
  },
  {
   "cell_type": "markdown",
   "id": "78c641e2-b8e9-4461-b854-8725006a5eb6",
   "metadata": {},
   "source": [
    "Now, when we stream, the graph knows this checkpoint has never been executed.\n",
    "\n",
    "So, the graph runs, rather than simply re-playing."
   ]
  },
  {
   "cell_type": "code",
   "execution_count": 24,
   "id": "1c49f2a8-b325-45e4-b36c-17fab1b37cc0",
   "metadata": {},
   "outputs": [
    {
     "name": "stdout",
     "output_type": "stream",
     "text": [
      "==================================\u001b[1m Ai Message \u001b[0m==================================\n",
      "Tool Calls:\n",
      "  modulo (e41db872-9b25-46d9-98a3-61fddc0c7d4e)\n",
      " Call ID: e41db872-9b25-46d9-98a3-61fddc0c7d4e\n",
      "  Args:\n",
      "    a: 53\n",
      "    b: 6\n",
      "=================================\u001b[1m Tool Message \u001b[0m=================================\n",
      "Name: modulo\n",
      "\n",
      "5\n",
      "==================================\u001b[1m Ai Message \u001b[0m==================================\n",
      "Tool Calls:\n",
      "  multiply (6bacbd72-14d7-4198-8ed4-59d9f849034d)\n",
      " Call ID: 6bacbd72-14d7-4198-8ed4-59d9f849034d\n",
      "  Args:\n",
      "    a: 5\n",
      "    b: 3\n",
      "=================================\u001b[1m Tool Message \u001b[0m=================================\n",
      "Name: multiply\n",
      "\n",
      "15\n",
      "==================================\u001b[1m Ai Message \u001b[0m==================================\n",
      "Tool Calls:\n",
      "  square (ea194019-d3ea-40d0-ad97-43c7ff8e7132)\n",
      " Call ID: ea194019-d3ea-40d0-ad97-43c7ff8e7132\n",
      "  Args:\n",
      "    a: 15\n",
      "=================================\u001b[1m Tool Message \u001b[0m=================================\n",
      "Name: square\n",
      "\n",
      "225.0\n",
      "==================================\u001b[1m Ai Message \u001b[0m==================================\n",
      "\n",
      "The result of multiplying 5 and 3, then squaring the output is 225.\n"
     ]
    }
   ],
   "source": [
    "for event in graph.stream(None, fork_config, stream_mode=\"values\"):\n",
    "    event['messages'][-1].pretty_print()"
   ]
  },
  {
   "cell_type": "markdown",
   "id": "428d7f80-ee60-4147-b51f-ee3b0cf5cbba",
   "metadata": {},
   "source": [
    "Now, we can see the current state is the end of our agent run."
   ]
  },
  {
   "cell_type": "code",
   "execution_count": 25,
   "id": "132ef840-64c7-479c-ad34-3f177f4b2524",
   "metadata": {},
   "outputs": [
    {
     "data": {
      "text/plain": [
       "StateSnapshot(values={'messages': [HumanMessage(content='Multiply 5 and 3 then square the output', additional_kwargs={}, response_metadata={}, id='9016c91a-9946-4a69-8ee7-ff6893e20cce'), AIMessage(content='', additional_kwargs={'function_call': {'name': 'modulo', 'arguments': '{\"a\": 53, \"b\": 6}'}}, response_metadata={'prompt_feedback': {'block_reason': 0, 'safety_ratings': []}, 'finish_reason': 'STOP', 'model_name': 'gemini-2.0-flash', 'safety_ratings': [], 'grounding_metadata': {}, 'model_provider': 'google_genai'}, id='lc_run--114800aa-00b5-4574-b909-c9d2d3a7931c-0', tool_calls=[{'name': 'modulo', 'args': {'a': 53, 'b': 6}, 'id': 'e41db872-9b25-46d9-98a3-61fddc0c7d4e', 'type': 'tool_call'}], usage_metadata={'input_tokens': 311, 'output_tokens': 5, 'total_tokens': 316, 'input_token_details': {'cache_read': 0}}), ToolMessage(content='5', name='modulo', id='b858f4d2-c7d7-4cad-b3a2-df8ad3ea5ed1', tool_call_id='e41db872-9b25-46d9-98a3-61fddc0c7d4e'), AIMessage(content='', additional_kwargs={'function_call': {'name': 'multiply', 'arguments': '{\"a\": 5, \"b\": 3}'}}, response_metadata={'prompt_feedback': {'block_reason': 0, 'safety_ratings': []}, 'finish_reason': 'STOP', 'model_name': 'gemini-2.0-flash', 'safety_ratings': [], 'grounding_metadata': {}, 'model_provider': 'google_genai'}, id='lc_run--ed2f18e2-1f09-4066-9d51-033128a388e2-0', tool_calls=[{'name': 'multiply', 'args': {'a': 5, 'b': 3}, 'id': '6bacbd72-14d7-4198-8ed4-59d9f849034d', 'type': 'tool_call'}], usage_metadata={'input_tokens': 301, 'output_tokens': 5, 'total_tokens': 306, 'input_token_details': {'cache_read': 0}}), ToolMessage(content='15', name='multiply', id='d7981690-87cc-42c4-a691-38c7fbe4e3a9', tool_call_id='6bacbd72-14d7-4198-8ed4-59d9f849034d'), AIMessage(content='', additional_kwargs={'function_call': {'name': 'square', 'arguments': '{\"a\": 15}'}}, response_metadata={'prompt_feedback': {'block_reason': 0, 'safety_ratings': []}, 'finish_reason': 'STOP', 'model_name': 'gemini-2.0-flash', 'safety_ratings': [], 'grounding_metadata': {}, 'model_provider': 'google_genai'}, id='lc_run--54a50ecf-aa81-4633-a809-5226947a9880-0', tool_calls=[{'name': 'square', 'args': {'a': 15}, 'id': 'ea194019-d3ea-40d0-ad97-43c7ff8e7132', 'type': 'tool_call'}], usage_metadata={'input_tokens': 309, 'output_tokens': 3, 'total_tokens': 312, 'input_token_details': {'cache_read': 0}}), ToolMessage(content='225.0', name='square', id='b1f982cc-0225-4f35-a47d-75f7eb7238da', tool_call_id='ea194019-d3ea-40d0-ad97-43c7ff8e7132'), AIMessage(content='The result of multiplying 5 and 3, then squaring the output is 225.', additional_kwargs={}, response_metadata={'prompt_feedback': {'block_reason': 0, 'safety_ratings': []}, 'finish_reason': 'STOP', 'model_name': 'gemini-2.0-flash', 'safety_ratings': [], 'grounding_metadata': {}, 'model_provider': 'google_genai'}, id='lc_run--599867ab-a38b-47a8-b489-b65975ef31aa-0', usage_metadata={'input_tokens': 315, 'output_tokens': 21, 'total_tokens': 336, 'input_token_details': {'cache_read': 0}})]}, next=(), config={'configurable': {'thread_id': '1', 'checkpoint_ns': '', 'checkpoint_id': '1f0b36e8-ece9-6802-8007-17f310c0cd8f'}}, metadata={'source': 'loop', 'step': 7, 'parents': {}}, created_at='2025-10-27T19:53:07.216375+00:00', parent_config={'configurable': {'thread_id': '1', 'checkpoint_ns': '', 'checkpoint_id': '1f0b36e8-e352-6130-8006-8ddae0d7617b'}}, tasks=(), interrupts=())"
      ]
     },
     "execution_count": 25,
     "metadata": {},
     "output_type": "execute_result"
    }
   ],
   "source": [
    "graph.get_state({'configurable': {'thread_id': '1'}})"
   ]
  },
  {
   "attachments": {},
   "cell_type": "markdown",
   "id": "2ceb5f31-97b0-466c-9b3b-ae4df7cd462a",
   "metadata": {},
   "source": [
    "### Time travel with LangGraph API\n",
    "\n",
    "**⚠️ Notice**\n",
    "\n",
    "Since filming these videos, we've updated Studio so that it can now be run locally and accessed through your browser. This is the preferred way to run Studio instead of using the Desktop App shown in the video. It is now called _LangSmith Studio_ instead of _LangGraph Studio_. Detailed setup instructions are available in the \"Getting Setup\" guide at the start of the course. You can find a description of Studio [here](https://docs.langchain.com/langsmith/studio), and specific details for local deployment [here](https://docs.langchain.com/langsmith/quick-start-studio#local-development-server).  \n",
    "To start the local development server, run the following command in your terminal in the `/studio` directory in this module:\n",
    "\n",
    "```\n",
    "langgraph dev\n",
    "```\n",
    "\n",
    "You should see the following output:\n",
    "```\n",
    "- 🚀 API: http://127.0.0.1:2024\n",
    "- 🎨 Studio UI: https://smith.langchain.com/studio/?baseUrl=http://127.0.0.1:2024\n",
    "- 📚 API Docs: http://127.0.0.1:2024/docs\n",
    "```\n",
    "\n",
    "Open your browser and navigate to the **Studio UI** URL shown above.\n",
    "\n",
    "We connect to it via the SDK and show how the LangGraph API [supports time travel](https://langchain-ai.github.io/langgraph/cloud/how-tos/human_in_the_loop_time_travel/#initial-invocation). "
   ]
  },
  {
   "cell_type": "code",
   "execution_count": null,
   "id": "891defdb-746c-48e4-8efa-bb5f138dc4bd",
   "metadata": {},
   "outputs": [],
   "source": [
    "if 'google.colab' in str(get_ipython()):\n",
    "    raise Exception(\"Unfortunately LangGraph Studio is currently not supported on Google Colab\")"
   ]
  },
  {
   "cell_type": "code",
   "execution_count": 26,
   "id": "a317925d-1788-4cfc-9c12-336b17b4d859",
   "metadata": {},
   "outputs": [],
   "source": [
    "from langgraph_sdk import get_client\n",
    "client = get_client(url=\"http://127.0.0.1:2024\")"
   ]
  },
  {
   "cell_type": "markdown",
   "id": "815d5e03-0ab8-4c7f-a1ee-f410b6aadc03",
   "metadata": {},
   "source": [
    "#### Re-playing \n",
    "\n",
    "Let's run our agent streaming `updates` to the state of the graph after each node is called."
   ]
  },
  {
   "cell_type": "code",
   "execution_count": 27,
   "id": "9d4d01da-7b64-4c92-96b7-29ec93332d0b",
   "metadata": {},
   "outputs": [],
   "source": [
    "initial_input = {\"messages\": HumanMessage(content=\"Give the modulo of 53 by 6 then square the output and then add 6 to the output and then find the square root\")}\n",
    "thread = await client.threads.create()\n",
    "async for chunk in client.runs.stream(\n",
    "    thread[\"thread_id\"],\n",
    "    assistant_id = \"agent\",\n",
    "    input=initial_input,\n",
    "    stream_mode=\"updates\",\n",
    "):\n",
    "    if chunk.data:\n",
    "        assisant_node = chunk.data.get('assistant', {}).get('messages', [])\n",
    "        tool_node = chunk.data.get('tools', {}).get('messages', [])\n",
    "        if assisant_node:\n",
    "            print(\"-\" * 20+\"Assistant Node\"+\"-\" * 20)\n",
    "            print(assisant_node[-1])\n",
    "        elif tool_node:\n",
    "            print(\"-\" * 20+\"Tools Node\"+\"-\" * 20)\n",
    "            print(tool_node[-1])"
   ]
  },
  {
   "cell_type": "markdown",
   "id": "8cc3bab2",
   "metadata": {},
   "source": [
    "Now, let's look at **replaying** from a specified checkpoint. \n",
    "\n",
    "We simply need to pass the `checkpoint_id`."
   ]
  },
  {
   "cell_type": "code",
   "execution_count": 28,
   "id": "d8ecc4fd",
   "metadata": {},
   "outputs": [
    {
     "data": {
      "text/plain": [
       "{'values': {'messages': [{'content': 'Give the modulo of 53 by 6 then square the output and then add 6 to the output and then find the square root',\n",
       "    'additional_kwargs': {},\n",
       "    'response_metadata': {},\n",
       "    'type': 'human',\n",
       "    'name': None,\n",
       "    'id': 'f4fac5b1-3a16-48b0-8fbe-0c51a36f7c3b'}]},\n",
       " 'next': ['assistant'],\n",
       " 'tasks': [{'id': 'ddb7fba2-d8d2-1bc6-91ed-989ff2d4978e',\n",
       "   'name': 'assistant',\n",
       "   'path': ['__pregel_pull', 'assistant'],\n",
       "   'error': None,\n",
       "   'interrupts': [],\n",
       "   'checkpoint': None,\n",
       "   'state': None,\n",
       "   'result': None}],\n",
       " 'metadata': {'langgraph_auth_user': None,\n",
       "  'langgraph_auth_user_id': '',\n",
       "  'langgraph_auth_permissions': [],\n",
       "  'langgraph_request_id': '28266f4f-d56f-4554-94d8-c1192803e6e2',\n",
       "  'graph_id': 'agent',\n",
       "  'assistant_id': 'fe096781-5601-53d2-b2f6-0d3403f7e9ca',\n",
       "  'user_id': '',\n",
       "  'created_by': 'system',\n",
       "  'run_attempt': 1,\n",
       "  'langgraph_version': '1.0.1',\n",
       "  'langgraph_api_version': '0.4.46',\n",
       "  'langgraph_plan': 'developer',\n",
       "  'langgraph_host': 'self-hosted',\n",
       "  'langgraph_api_url': 'http://127.0.0.1:2024',\n",
       "  'run_id': '019a273d-0719-7758-b872-a98b9113de6c',\n",
       "  'thread_id': '227f15b8-11e8-459f-a140-36f25f790fb8',\n",
       "  'source': 'loop',\n",
       "  'step': 0,\n",
       "  'parents': {}},\n",
       " 'created_at': '2025-10-27T19:55:03.030311+00:00',\n",
       " 'checkpoint': {'checkpoint_id': '1f0b36ed-3d66-65e4-8000-94a6ffd85a18',\n",
       "  'thread_id': '227f15b8-11e8-459f-a140-36f25f790fb8',\n",
       "  'checkpoint_ns': ''},\n",
       " 'parent_checkpoint': {'checkpoint_id': '1f0b36ed-3d64-60cf-bfff-8566e0810ba5',\n",
       "  'thread_id': '227f15b8-11e8-459f-a140-36f25f790fb8',\n",
       "  'checkpoint_ns': ''},\n",
       " 'interrupts': [],\n",
       " 'checkpoint_id': '1f0b36ed-3d66-65e4-8000-94a6ffd85a18',\n",
       " 'parent_checkpoint_id': '1f0b36ed-3d64-60cf-bfff-8566e0810ba5'}"
      ]
     },
     "execution_count": 28,
     "metadata": {},
     "output_type": "execute_result"
    }
   ],
   "source": [
    "states = await client.threads.get_history(thread['thread_id'])\n",
    "to_replay = states[-2]\n",
    "to_replay"
   ]
  },
  {
   "cell_type": "markdown",
   "id": "e33f865a",
   "metadata": {},
   "source": [
    "Let's stream with `stream_mode=\"values\"` to see the full state at every node as we replay. "
   ]
  },
  {
   "cell_type": "code",
   "execution_count": 29,
   "id": "325e8272",
   "metadata": {},
   "outputs": [
    {
     "name": "stdout",
     "output_type": "stream",
     "text": [
      "Receiving new event of type: metadata...\n",
      "{'run_id': '019a273d-4094-75f0-9d51-93b30309baee', 'attempt': 1}\n",
      "\n",
      "\n",
      "\n",
      "Receiving new event of type: values...\n",
      "{'messages': [{'content': 'Give the modulo of 53 by 6 then square the output and then add 6 to the output and then find the square root', 'additional_kwargs': {}, 'response_metadata': {}, 'type': 'human', 'name': None, 'id': 'f4fac5b1-3a16-48b0-8fbe-0c51a36f7c3b'}]}\n",
      "\n",
      "\n",
      "\n",
      "Receiving new event of type: values...\n",
      "{'messages': [{'content': 'Give the modulo of 53 by 6 then square the output and then add 6 to the output and then find the square root', 'additional_kwargs': {}, 'response_metadata': {}, 'type': 'human', 'name': None, 'id': 'f4fac5b1-3a16-48b0-8fbe-0c51a36f7c3b'}, {'content': '', 'additional_kwargs': {'function_call': {'name': 'modulo', 'arguments': '{\"a\": 53, \"b\": 6}'}}, 'response_metadata': {'prompt_feedback': {'block_reason': 0, 'safety_ratings': []}, 'finish_reason': 'STOP', 'model_name': 'gemini-2.0-flash', 'safety_ratings': [], 'grounding_metadata': {}, 'model_provider': 'google_genai'}, 'type': 'ai', 'name': None, 'id': 'lc_run--12d57078-0149-44bd-afb8-b0d2429605ce-0', 'tool_calls': [{'name': 'modulo', 'args': {'a': 53, 'b': 6}, 'id': '1d5b11f0-6fa0-411d-be95-4d188a426069', 'type': 'tool_call'}], 'invalid_tool_calls': [], 'usage_metadata': {'input_tokens': 311, 'output_tokens': 5, 'total_tokens': 316, 'input_token_details': {'cache_read': 0}}}]}\n",
      "\n",
      "\n",
      "\n"
     ]
    }
   ],
   "source": [
    "async for chunk in client.runs.stream(\n",
    "    thread[\"thread_id\"],\n",
    "    assistant_id=\"agent\",\n",
    "    input=None,\n",
    "    stream_mode=\"values\",\n",
    "    checkpoint_id=to_replay['checkpoint_id']\n",
    "):      \n",
    "    print(f\"Receiving new event of type: {chunk.event}...\")\n",
    "    print(chunk.data)\n",
    "    print(\"\\n\\n\")"
   ]
  },
  {
   "cell_type": "markdown",
   "id": "14c153b3",
   "metadata": {},
   "source": [
    "We can all view this as streaming only `updates` to state made by the nodes that we reply."
   ]
  },
  {
   "cell_type": "code",
   "execution_count": 30,
   "id": "9e608e93",
   "metadata": {},
   "outputs": [
    {
     "name": "stdout",
     "output_type": "stream",
     "text": [
      "--------------------Assistant Node--------------------\n",
      "{'content': '', 'additional_kwargs': {'function_call': {'name': 'modulo', 'arguments': '{\"a\": 53, \"b\": 6}'}}, 'response_metadata': {'prompt_feedback': {'block_reason': 0, 'safety_ratings': []}, 'finish_reason': 'STOP', 'model_name': 'gemini-2.0-flash', 'safety_ratings': [], 'grounding_metadata': {}, 'model_provider': 'google_genai'}, 'type': 'ai', 'name': None, 'id': 'lc_run--fca3a833-1ca4-4a8c-b6d0-656e8bb672a0-0', 'tool_calls': [{'name': 'modulo', 'args': {'a': 53, 'b': 6}, 'id': '6b5f436e-a833-434c-b360-c1d55d18687e', 'type': 'tool_call'}], 'invalid_tool_calls': [], 'usage_metadata': {'input_tokens': 311, 'output_tokens': 5, 'total_tokens': 316, 'input_token_details': {'cache_read': 0}}}\n"
     ]
    }
   ],
   "source": [
    "async for chunk in client.runs.stream(\n",
    "    thread[\"thread_id\"],\n",
    "    assistant_id=\"agent\",\n",
    "    input=None,\n",
    "    stream_mode=\"updates\",\n",
    "    checkpoint_id=to_replay['checkpoint_id']\n",
    "):\n",
    "    if chunk.data:\n",
    "        assisant_node = chunk.data.get('assistant', {}).get('messages', [])\n",
    "        tool_node = chunk.data.get('tools', {}).get('messages', [])\n",
    "        if assisant_node:\n",
    "            print(\"-\" * 20+\"Assistant Node\"+\"-\" * 20)\n",
    "            print(assisant_node[-1])\n",
    "        elif tool_node:\n",
    "            print(\"-\" * 20+\"Tools Node\"+\"-\" * 20)\n",
    "            print(tool_node[-1])"
   ]
  },
  {
   "cell_type": "markdown",
   "id": "8e66e0e8",
   "metadata": {},
   "source": [
    "#### Forking\n",
    "\n",
    "Now, let's look at forking.\n",
    "\n",
    "Let's get the same step as we worked with above, the human input.\n",
    "\n",
    "Let's create a new thread with our agent."
   ]
  },
  {
   "cell_type": "code",
   "execution_count": 31,
   "id": "01af5ed4",
   "metadata": {},
   "outputs": [],
   "source": [
    "initial_input = {\"messages\": HumanMessage(content=\"Multiply 2 and 3\")}\n",
    "thread = await client.threads.create()\n",
    "async for chunk in client.runs.stream(\n",
    "    thread[\"thread_id\"],\n",
    "    assistant_id=\"agent\",\n",
    "    input=initial_input,\n",
    "    stream_mode=\"updates\",\n",
    "):\n",
    "    if chunk.data:\n",
    "        assisant_node = chunk.data.get('assistant', {}).get('messages', [])\n",
    "        tool_node = chunk.data.get('tools', {}).get('messages', [])\n",
    "        if assisant_node:\n",
    "            print(\"-\" * 20+\"Assistant Node\"+\"-\" * 20)\n",
    "            print(assisant_node[-1])\n",
    "        elif tool_node:\n",
    "            print(\"-\" * 20+\"Tools Node\"+\"-\" * 20)\n",
    "            print(tool_node[-1])"
   ]
  },
  {
   "cell_type": "code",
   "execution_count": 32,
   "id": "3dbc8795-c3f5-4559-a00e-dc410c0a927f",
   "metadata": {},
   "outputs": [
    {
     "data": {
      "text/plain": [
       "{'messages': [{'content': 'Multiply 2 and 3',\n",
       "   'additional_kwargs': {},\n",
       "   'response_metadata': {},\n",
       "   'type': 'human',\n",
       "   'name': None,\n",
       "   'id': 'e7b631b1-5727-4e9f-94e8-1ed4fb58f911'}]}"
      ]
     },
     "execution_count": 32,
     "metadata": {},
     "output_type": "execute_result"
    }
   ],
   "source": [
    "states = await client.threads.get_history(thread['thread_id'])\n",
    "to_fork = states[-2]\n",
    "to_fork['values']"
   ]
  },
  {
   "cell_type": "code",
   "execution_count": 33,
   "id": "11e6cde1-0388-43ea-b994-1c4e9ca1199b",
   "metadata": {},
   "outputs": [
    {
     "data": {
      "text/plain": [
       "'e7b631b1-5727-4e9f-94e8-1ed4fb58f911'"
      ]
     },
     "execution_count": 33,
     "metadata": {},
     "output_type": "execute_result"
    }
   ],
   "source": [
    "to_fork['values']['messages'][0]['id']"
   ]
  },
  {
   "cell_type": "code",
   "execution_count": 34,
   "id": "0c1e2300-c8b2-4994-a96d-1be19c04b6a8",
   "metadata": {},
   "outputs": [
    {
     "data": {
      "text/plain": [
       "['assistant']"
      ]
     },
     "execution_count": 34,
     "metadata": {},
     "output_type": "execute_result"
    }
   ],
   "source": [
    "to_fork['next']"
   ]
  },
  {
   "cell_type": "code",
   "execution_count": 35,
   "id": "9d31d5aa-524f-42f4-ba7e-713a029610d6",
   "metadata": {},
   "outputs": [
    {
     "data": {
      "text/plain": [
       "'1f0b36ee-51c7-6e46-8000-8893a0fafb92'"
      ]
     },
     "execution_count": 35,
     "metadata": {},
     "output_type": "execute_result"
    }
   ],
   "source": [
    "to_fork['checkpoint_id']"
   ]
  },
  {
   "cell_type": "markdown",
   "id": "8f11e1d9-9fe7-4243-a06f-9b07e38a12ad",
   "metadata": {},
   "source": [
    "Let's edit the state.\n",
    "\n",
    "Remember how our reducer on `messages` works: \n",
    "\n",
    "* It will append, unless we supply a message ID.\n",
    "* We supply the message ID to overwrite the message, rather than appending to state!"
   ]
  },
  {
   "cell_type": "code",
   "execution_count": 36,
   "id": "0198f1b8-2f57-4c6e-ac6a-c6fb80cce0bd",
   "metadata": {},
   "outputs": [],
   "source": [
    "forked_input = {\"messages\": HumanMessage(content=\"Multiply 3 and 3\",\n",
    "                                         id=to_fork['values']['messages'][0]['id'])}\n",
    "\n",
    "forked_config = await client.threads.update_state(\n",
    "    thread[\"thread_id\"],\n",
    "    forked_input,\n",
    "    checkpoint_id=to_fork['checkpoint_id']\n",
    ")"
   ]
  },
  {
   "cell_type": "code",
   "execution_count": 37,
   "id": "1dcd5b8e-6bb1-4967-84cf-4af710b8bf46",
   "metadata": {},
   "outputs": [
    {
     "data": {
      "text/plain": [
       "{'checkpoint': {'thread_id': '99fe94f2-571d-44d3-8b52-73d22dc18357',\n",
       "  'checkpoint_ns': '',\n",
       "  'checkpoint_id': '1f0b36ee-ca42-6e23-8001-6b633d43ddd5'},\n",
       " 'configurable': {'thread_id': '99fe94f2-571d-44d3-8b52-73d22dc18357',\n",
       "  'checkpoint_ns': '',\n",
       "  'checkpoint_id': '1f0b36ee-ca42-6e23-8001-6b633d43ddd5'},\n",
       " 'checkpoint_id': '1f0b36ee-ca42-6e23-8001-6b633d43ddd5'}"
      ]
     },
     "execution_count": 37,
     "metadata": {},
     "output_type": "execute_result"
    }
   ],
   "source": [
    "forked_config"
   ]
  },
  {
   "cell_type": "code",
   "execution_count": 38,
   "id": "015ac68a-5cc1-4c42-90a2-5b2b4865a153",
   "metadata": {},
   "outputs": [
    {
     "data": {
      "text/plain": [
       "{'values': {'messages': [{'content': 'Multiply 3 and 3',\n",
       "    'additional_kwargs': {},\n",
       "    'response_metadata': {},\n",
       "    'type': 'human',\n",
       "    'name': None,\n",
       "    'id': 'e7b631b1-5727-4e9f-94e8-1ed4fb58f911'}]},\n",
       " 'next': ['assistant'],\n",
       " 'tasks': [{'id': 'bf8f3d35-f70f-b85d-b3e4-2e0775300c55',\n",
       "   'name': 'assistant',\n",
       "   'path': ['__pregel_pull', 'assistant'],\n",
       "   'error': None,\n",
       "   'interrupts': [],\n",
       "   'checkpoint': None,\n",
       "   'state': None,\n",
       "   'result': None}],\n",
       " 'metadata': {'graph_id': 'agent',\n",
       "  'thread_id': '99fe94f2-571d-44d3-8b52-73d22dc18357',\n",
       "  'checkpoint_id': '1f0b36ee-51c7-6e46-8000-8893a0fafb92',\n",
       "  'checkpoint_ns': '',\n",
       "  'source': 'update',\n",
       "  'step': 1,\n",
       "  'parents': {}},\n",
       " 'created_at': '2025-10-27T19:55:44.644239+00:00',\n",
       " 'checkpoint': {'checkpoint_id': '1f0b36ee-ca42-6e23-8001-6b633d43ddd5',\n",
       "  'thread_id': '99fe94f2-571d-44d3-8b52-73d22dc18357',\n",
       "  'checkpoint_ns': ''},\n",
       " 'parent_checkpoint': {'checkpoint_id': '1f0b36ee-51c7-6e46-8000-8893a0fafb92',\n",
       "  'thread_id': '99fe94f2-571d-44d3-8b52-73d22dc18357',\n",
       "  'checkpoint_ns': ''},\n",
       " 'interrupts': [],\n",
       " 'checkpoint_id': '1f0b36ee-ca42-6e23-8001-6b633d43ddd5',\n",
       " 'parent_checkpoint_id': '1f0b36ee-51c7-6e46-8000-8893a0fafb92'}"
      ]
     },
     "execution_count": 38,
     "metadata": {},
     "output_type": "execute_result"
    }
   ],
   "source": [
    "states = await client.threads.get_history(thread['thread_id'])\n",
    "states[0]"
   ]
  },
  {
   "cell_type": "markdown",
   "id": "3de80029-b987-49c5-890d-6cd70cbc8de7",
   "metadata": {},
   "source": [
    "To rerun, we pass in the `checkpoint_id`."
   ]
  },
  {
   "cell_type": "code",
   "execution_count": 39,
   "id": "da005240-d3f0-4c89-9aca-dfcb5d410ceb",
   "metadata": {},
   "outputs": [
    {
     "name": "stdout",
     "output_type": "stream",
     "text": [
      "--------------------Assistant Node--------------------\n",
      "{'content': '', 'additional_kwargs': {'function_call': {'name': 'multiply', 'arguments': '{\"a\": 3, \"b\": 3}'}}, 'response_metadata': {'prompt_feedback': {'block_reason': 0, 'safety_ratings': []}, 'finish_reason': 'STOP', 'model_name': 'gemini-2.0-flash', 'safety_ratings': [], 'grounding_metadata': {}, 'model_provider': 'google_genai'}, 'type': 'ai', 'name': None, 'id': 'lc_run--17eaa9e2-7a44-47e3-8b37-9291d615dfc2-0', 'tool_calls': [{'name': 'multiply', 'args': {'a': 3, 'b': 3}, 'id': '2f475ced-9774-4531-9776-f1278393bdef', 'type': 'tool_call'}], 'invalid_tool_calls': [], 'usage_metadata': {'input_tokens': 289, 'output_tokens': 5, 'total_tokens': 294, 'input_token_details': {'cache_read': 0}}}\n"
     ]
    }
   ],
   "source": [
    "async for chunk in client.runs.stream(\n",
    "    thread[\"thread_id\"],\n",
    "    assistant_id=\"agent\",\n",
    "    input=None,\n",
    "    stream_mode=\"updates\",\n",
    "    checkpoint_id=forked_config['checkpoint_id']\n",
    "):\n",
    "    if chunk.data:\n",
    "        assisant_node = chunk.data.get('assistant', {}).get('messages', [])\n",
    "        tool_node = chunk.data.get('tools', {}).get('messages', [])\n",
    "        if assisant_node:\n",
    "            print(\"-\" * 20+\"Assistant Node\"+\"-\" * 20)\n",
    "            print(assisant_node[-1])\n",
    "        elif tool_node:\n",
    "            print(\"-\" * 20+\"Tools Node\"+\"-\" * 20)\n",
    "            print(tool_node[-1])"
   ]
  },
  {
   "cell_type": "markdown",
   "id": "36956571-a2b8-4f1b-8e30-51f02f155a6f",
   "metadata": {},
   "source": [
    "### LangGraph Studio\n",
    "\n",
    "Let's look at forking in the Studio UI with our `agent`, which uses `module-1/studio/agent.py` set in `module-1/studio/langgraph.json`."
   ]
  }
 ],
 "metadata": {
  "kernelspec": {
   "display_name": "Python [conda env:base] *",
   "language": "python",
   "name": "conda-base-py"
  },
  "language_info": {
   "codemirror_mode": {
    "name": "ipython",
    "version": 3
   },
   "file_extension": ".py",
   "mimetype": "text/x-python",
   "name": "python",
   "nbconvert_exporter": "python",
   "pygments_lexer": "ipython3",
   "version": "3.13.5"
  }
 },
 "nbformat": 4,
 "nbformat_minor": 5
}
