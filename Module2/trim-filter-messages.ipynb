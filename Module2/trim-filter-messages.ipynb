{
 "cells": [
  {
   "cell_type": "markdown",
   "id": "fb0ebaf1",
   "metadata": {},
   "source": [
    "[![Open in Colab](https://colab.research.google.com/assets/colab-badge.svg)](https://colab.research.google.com/github/langchain-ai/langchain-academy/blob/main/module-2/trim-filter-messages.ipynb) [![Open in LangChain Academy](https://cdn.prod.website-files.com/65b8cd72835ceeacd4449a53/66e9eba12c7b7688aa3dbb5e_LCA-badge-green.svg)](https://academy.langchain.com/courses/take/intro-to-langgraph/lessons/58239435-lesson-4-trim-and-filter-messages)"
   ]
  },
  {
   "cell_type": "markdown",
   "id": "c52ea2f9-03ff-4647-b782-46867ebed04e",
   "metadata": {},
   "source": [
    "# Filtering and trimming messages\n",
    "\n",
    "## Review\n",
    "\n",
    "Now, we have a deeper understanding of a few things: \n",
    "\n",
    "* How to customize the graph state schema\n",
    "* How to define custom state reducers\n",
    "* How to use multiple graph state schemas\n",
    "\n",
    "## Goals\n",
    "\n",
    "Now, we can start using these concepts with models in LangGraph!\n",
    " \n",
    "In the next few sessions, we'll build towards a chatbot that has long-term memory.\n",
    "\n",
    "Because our chatbot will use messages, let's first talk a bit more about advanced ways to work with messages in graph state."
   ]
  },
  {
   "cell_type": "code",
   "execution_count": 1,
   "id": "d5197aba-5d46-421b-ae3b-4e3034edcfda",
   "metadata": {},
   "outputs": [],
   "source": [
    "%%capture --no-stderr\n",
    "%pip install --quiet -U langchain_core langgraph langchain_openai"
   ]
  },
  {
   "cell_type": "code",
   "execution_count": null,
   "id": "768dc606-d5f2-468d-96ea-910b264e0f8a",
   "metadata": {},
   "outputs": [],
   "source": [
    "import os, getpass\n",
    "\n",
    "def _set_env(var: str):\n",
    "    if not os.environ.get(var):\n",
    "        os.environ[var] = getpass.getpass(f\"{var}: \")\n",
    "\n",
    "_set_env(\"OPENAI_API_KEY\")"
   ]
  },
  {
   "cell_type": "markdown",
   "id": "8b64d8d3-e4ac-4961-bdc0-688825eb5864",
   "metadata": {},
   "source": [
    "We'll use [LangSmith](https://docs.smith.langchain.com/) for [tracing](https://docs.smith.langchain.com/concepts/tracing).\n",
    "\n",
    "We'll log to a project, `langchain-academy`. "
   ]
  },
  {
   "cell_type": "code",
   "execution_count": null,
   "id": "dd020c79",
   "metadata": {},
   "outputs": [],
   "source": [
    "_set_env(\"LANGSMITH_API_KEY\")\n",
    "os.environ[\"LANGSMITH_TRACING\"] = \"true\"\n",
    "os.environ[\"LANGSMITH_PROJECT\"] = \"langchain-academy\""
   ]
  },
  {
   "cell_type": "code",
   "execution_count": 2,
   "id": "09ec9d2e-f925-4dd7-897a-671ea7f31af1",
   "metadata": {},
   "outputs": [
    {
     "data": {
      "text/plain": [
       "True"
      ]
     },
     "execution_count": 2,
     "metadata": {},
     "output_type": "execute_result"
    }
   ],
   "source": [
    "# i HAVE USED AN ENV FILE INSTEAD OF THE ABOVE OPTIONS\n",
    "from dotenv import load_dotenv\n",
    "load_dotenv(dotenv_path=\"C:/Users/riyaa/Documents/code/mat496/langgraphmod2/.env\", override=True)"
   ]
  },
  {
   "cell_type": "markdown",
   "id": "72f3fc90-58b6-4f7f-897e-dddf6ae532c7",
   "metadata": {},
   "source": [
    "## Messages as state\n",
    "\n",
    "First, let's define some messages."
   ]
  },
  {
   "cell_type": "code",
   "execution_count": 4,
   "id": "cf11a463-e27a-4a05-b41d-64882e38edca",
   "metadata": {},
   "outputs": [
    {
     "name": "stdout",
     "output_type": "stream",
     "text": [
      "==================================\u001b[1m Ai Message \u001b[0m==================================\n",
      "Name: BookBot\n",
      "\n",
      "I heard you're looking for fantasy book recommendations?\n",
      "================================\u001b[1m Human Message \u001b[0m=================================\n",
      "Name: Riya\n",
      "\n",
      "Yes, I love epic fantasy. What would you recommend for someone who enjoyed Lord of the Rings?\n"
     ]
    }
   ],
   "source": [
    "from pprint import pprint\n",
    "from langchain_core.messages import AIMessage, HumanMessage\n",
    "\n",
    "messages = [AIMessage(f\"I heard you're looking for fantasy book recommendations?\", name=\"BookBot\")]\n",
    "messages.append(HumanMessage(f\"Yes, I love epic fantasy. What would you recommend for someone who enjoyed Lord of the Rings?\", name=\"Riya\"))\n",
    "\n",
    "for m in messages:\n",
    "    m.pretty_print()"
   ]
  },
  {
   "cell_type": "markdown",
   "id": "b814adcb-6bf9-4b75-be11-e59f933fbd0c",
   "metadata": {},
   "source": [
    "Recall we can pass them to a chat model."
   ]
  },
  {
   "cell_type": "code",
   "execution_count": 6,
   "id": "4ac03e98-307e-4ee8-95e6-9810d80fdd66",
   "metadata": {
    "collapsed": true,
    "jupyter": {
     "outputs_hidden": true
    },
    "scrolled": true
   },
   "outputs": [
    {
     "name": "stdout",
     "output_type": "stream",
     "text": [
      "Collecting langchain_google_genai\n",
      "  Downloading langchain_google_genai-3.0.0-py3-none-any.whl.metadata (7.1 kB)\n",
      "Requirement already satisfied: langchain-core<2.0.0,>=1.0.0 in c:\\users\\riyaa\\anaconda3\\lib\\site-packages (from langchain_google_genai) (1.0.0)\n",
      "Collecting google-ai-generativelanguage<1.0.0,>=0.7.0 (from langchain_google_genai)\n",
      "  Downloading google_ai_generativelanguage-0.9.0-py3-none-any.whl.metadata (10 kB)\n",
      "Requirement already satisfied: pydantic<3.0.0,>=2.0.0 in c:\\users\\riyaa\\anaconda3\\lib\\site-packages (from langchain_google_genai) (2.10.3)\n",
      "Collecting filetype<2.0.0,>=1.2.0 (from langchain_google_genai)\n",
      "  Downloading filetype-1.2.0-py2.py3-none-any.whl.metadata (6.5 kB)\n",
      "Collecting google-api-core!=2.0.*,!=2.1.*,!=2.10.*,!=2.2.*,!=2.3.*,!=2.4.*,!=2.5.*,!=2.6.*,!=2.7.*,!=2.8.*,!=2.9.*,<3.0.0,>=1.34.1 (from google-api-core[grpc]!=2.0.*,!=2.1.*,!=2.10.*,!=2.2.*,!=2.3.*,!=2.4.*,!=2.5.*,!=2.6.*,!=2.7.*,!=2.8.*,!=2.9.*,<3.0.0,>=1.34.1->google-ai-generativelanguage<1.0.0,>=0.7.0->langchain_google_genai)\n",
      "  Downloading google_api_core-2.27.0-py3-none-any.whl.metadata (3.2 kB)\n",
      "Collecting google-auth!=2.24.0,!=2.25.0,<3.0.0,>=2.14.1 (from google-ai-generativelanguage<1.0.0,>=0.7.0->langchain_google_genai)\n",
      "  Downloading google_auth-2.41.1-py2.py3-none-any.whl.metadata (6.6 kB)\n",
      "Collecting grpcio<2.0.0,>=1.33.2 (from google-ai-generativelanguage<1.0.0,>=0.7.0->langchain_google_genai)\n",
      "  Using cached grpcio-1.76.0-cp313-cp313-win_amd64.whl.metadata (3.8 kB)\n",
      "Collecting proto-plus<2.0.0,>=1.22.3 (from google-ai-generativelanguage<1.0.0,>=0.7.0->langchain_google_genai)\n",
      "  Downloading proto_plus-1.26.1-py3-none-any.whl.metadata (2.2 kB)\n",
      "Requirement already satisfied: protobuf!=4.21.0,!=4.21.1,!=4.21.2,!=4.21.3,!=4.21.4,!=4.21.5,<7.0.0,>=3.20.2 in c:\\users\\riyaa\\anaconda3\\lib\\site-packages (from google-ai-generativelanguage<1.0.0,>=0.7.0->langchain_google_genai) (5.29.3)\n",
      "Collecting googleapis-common-protos<2.0.0,>=1.56.2 (from google-api-core!=2.0.*,!=2.1.*,!=2.10.*,!=2.2.*,!=2.3.*,!=2.4.*,!=2.5.*,!=2.6.*,!=2.7.*,!=2.8.*,!=2.9.*,<3.0.0,>=1.34.1->google-api-core[grpc]!=2.0.*,!=2.1.*,!=2.10.*,!=2.2.*,!=2.3.*,!=2.4.*,!=2.5.*,!=2.6.*,!=2.7.*,!=2.8.*,!=2.9.*,<3.0.0,>=1.34.1->google-ai-generativelanguage<1.0.0,>=0.7.0->langchain_google_genai)\n",
      "  Using cached googleapis_common_protos-1.71.0-py3-none-any.whl.metadata (9.4 kB)\n",
      "Requirement already satisfied: requests<3.0.0,>=2.18.0 in c:\\users\\riyaa\\anaconda3\\lib\\site-packages (from google-api-core!=2.0.*,!=2.1.*,!=2.10.*,!=2.2.*,!=2.3.*,!=2.4.*,!=2.5.*,!=2.6.*,!=2.7.*,!=2.8.*,!=2.9.*,<3.0.0,>=1.34.1->google-api-core[grpc]!=2.0.*,!=2.1.*,!=2.10.*,!=2.2.*,!=2.3.*,!=2.4.*,!=2.5.*,!=2.6.*,!=2.7.*,!=2.8.*,!=2.9.*,<3.0.0,>=1.34.1->google-ai-generativelanguage<1.0.0,>=0.7.0->langchain_google_genai) (2.32.3)\n",
      "Collecting grpcio-status<2.0.0,>=1.33.2 (from google-api-core[grpc]!=2.0.*,!=2.1.*,!=2.10.*,!=2.2.*,!=2.3.*,!=2.4.*,!=2.5.*,!=2.6.*,!=2.7.*,!=2.8.*,!=2.9.*,<3.0.0,>=1.34.1->google-ai-generativelanguage<1.0.0,>=0.7.0->langchain_google_genai)\n",
      "  Downloading grpcio_status-1.76.0-py3-none-any.whl.metadata (1.1 kB)\n",
      "Requirement already satisfied: cachetools<7.0,>=2.0.0 in c:\\users\\riyaa\\anaconda3\\lib\\site-packages (from google-auth!=2.24.0,!=2.25.0,<3.0.0,>=2.14.1->google-ai-generativelanguage<1.0.0,>=0.7.0->langchain_google_genai) (5.5.1)\n",
      "Requirement already satisfied: pyasn1-modules>=0.2.1 in c:\\users\\riyaa\\anaconda3\\lib\\site-packages (from google-auth!=2.24.0,!=2.25.0,<3.0.0,>=2.14.1->google-ai-generativelanguage<1.0.0,>=0.7.0->langchain_google_genai) (0.2.8)\n",
      "Collecting rsa<5,>=3.1.4 (from google-auth!=2.24.0,!=2.25.0,<3.0.0,>=2.14.1->google-ai-generativelanguage<1.0.0,>=0.7.0->langchain_google_genai)\n",
      "  Downloading rsa-4.9.1-py3-none-any.whl.metadata (5.6 kB)\n",
      "Requirement already satisfied: typing-extensions~=4.12 in c:\\users\\riyaa\\anaconda3\\lib\\site-packages (from grpcio<2.0.0,>=1.33.2->google-ai-generativelanguage<1.0.0,>=0.7.0->langchain_google_genai) (4.12.2)\n",
      "Collecting protobuf!=4.21.0,!=4.21.1,!=4.21.2,!=4.21.3,!=4.21.4,!=4.21.5,<7.0.0,>=3.20.2 (from google-ai-generativelanguage<1.0.0,>=0.7.0->langchain_google_genai)\n",
      "  Using cached protobuf-6.33.0-cp310-abi3-win_amd64.whl.metadata (593 bytes)\n",
      "Requirement already satisfied: jsonpatch<2.0.0,>=1.33.0 in c:\\users\\riyaa\\anaconda3\\lib\\site-packages (from langchain-core<2.0.0,>=1.0.0->langchain_google_genai) (1.33)\n",
      "Requirement already satisfied: langsmith<1.0.0,>=0.3.45 in c:\\users\\riyaa\\anaconda3\\lib\\site-packages (from langchain-core<2.0.0,>=1.0.0->langchain_google_genai) (0.4.37)\n",
      "Requirement already satisfied: packaging<26.0.0,>=23.2.0 in c:\\users\\riyaa\\anaconda3\\lib\\site-packages (from langchain-core<2.0.0,>=1.0.0->langchain_google_genai) (24.2)\n",
      "Requirement already satisfied: pyyaml<7.0.0,>=5.3.0 in c:\\users\\riyaa\\anaconda3\\lib\\site-packages (from langchain-core<2.0.0,>=1.0.0->langchain_google_genai) (6.0.2)\n",
      "Requirement already satisfied: tenacity!=8.4.0,<10.0.0,>=8.1.0 in c:\\users\\riyaa\\anaconda3\\lib\\site-packages (from langchain-core<2.0.0,>=1.0.0->langchain_google_genai) (9.0.0)\n",
      "Requirement already satisfied: jsonpointer>=1.9 in c:\\users\\riyaa\\anaconda3\\lib\\site-packages (from jsonpatch<2.0.0,>=1.33.0->langchain-core<2.0.0,>=1.0.0->langchain_google_genai) (2.1)\n",
      "Requirement already satisfied: httpx<1,>=0.23.0 in c:\\users\\riyaa\\anaconda3\\lib\\site-packages (from langsmith<1.0.0,>=0.3.45->langchain-core<2.0.0,>=1.0.0->langchain_google_genai) (0.28.1)\n",
      "Requirement already satisfied: orjson>=3.9.14 in c:\\users\\riyaa\\anaconda3\\lib\\site-packages (from langsmith<1.0.0,>=0.3.45->langchain-core<2.0.0,>=1.0.0->langchain_google_genai) (3.11.3)\n",
      "Requirement already satisfied: requests-toolbelt>=1.0.0 in c:\\users\\riyaa\\anaconda3\\lib\\site-packages (from langsmith<1.0.0,>=0.3.45->langchain-core<2.0.0,>=1.0.0->langchain_google_genai) (1.0.0)\n",
      "Requirement already satisfied: zstandard>=0.23.0 in c:\\users\\riyaa\\anaconda3\\lib\\site-packages (from langsmith<1.0.0,>=0.3.45->langchain-core<2.0.0,>=1.0.0->langchain_google_genai) (0.23.0)\n",
      "Requirement already satisfied: anyio in c:\\users\\riyaa\\anaconda3\\lib\\site-packages (from httpx<1,>=0.23.0->langsmith<1.0.0,>=0.3.45->langchain-core<2.0.0,>=1.0.0->langchain_google_genai) (4.7.0)\n",
      "Requirement already satisfied: certifi in c:\\users\\riyaa\\anaconda3\\lib\\site-packages (from httpx<1,>=0.23.0->langsmith<1.0.0,>=0.3.45->langchain-core<2.0.0,>=1.0.0->langchain_google_genai) (2025.10.5)\n",
      "Requirement already satisfied: httpcore==1.* in c:\\users\\riyaa\\anaconda3\\lib\\site-packages (from httpx<1,>=0.23.0->langsmith<1.0.0,>=0.3.45->langchain-core<2.0.0,>=1.0.0->langchain_google_genai) (1.0.9)\n",
      "Requirement already satisfied: idna in c:\\users\\riyaa\\anaconda3\\lib\\site-packages (from httpx<1,>=0.23.0->langsmith<1.0.0,>=0.3.45->langchain-core<2.0.0,>=1.0.0->langchain_google_genai) (3.7)\n",
      "Requirement already satisfied: h11>=0.16 in c:\\users\\riyaa\\anaconda3\\lib\\site-packages (from httpcore==1.*->httpx<1,>=0.23.0->langsmith<1.0.0,>=0.3.45->langchain-core<2.0.0,>=1.0.0->langchain_google_genai) (0.16.0)\n",
      "Requirement already satisfied: annotated-types>=0.6.0 in c:\\users\\riyaa\\anaconda3\\lib\\site-packages (from pydantic<3.0.0,>=2.0.0->langchain_google_genai) (0.6.0)\n",
      "Requirement already satisfied: pydantic-core==2.27.1 in c:\\users\\riyaa\\anaconda3\\lib\\site-packages (from pydantic<3.0.0,>=2.0.0->langchain_google_genai) (2.27.1)\n",
      "Requirement already satisfied: charset-normalizer<4,>=2 in c:\\users\\riyaa\\anaconda3\\lib\\site-packages (from requests<3.0.0,>=2.18.0->google-api-core!=2.0.*,!=2.1.*,!=2.10.*,!=2.2.*,!=2.3.*,!=2.4.*,!=2.5.*,!=2.6.*,!=2.7.*,!=2.8.*,!=2.9.*,<3.0.0,>=1.34.1->google-api-core[grpc]!=2.0.*,!=2.1.*,!=2.10.*,!=2.2.*,!=2.3.*,!=2.4.*,!=2.5.*,!=2.6.*,!=2.7.*,!=2.8.*,!=2.9.*,<3.0.0,>=1.34.1->google-ai-generativelanguage<1.0.0,>=0.7.0->langchain_google_genai) (3.3.2)\n",
      "Requirement already satisfied: urllib3<3,>=1.21.1 in c:\\users\\riyaa\\anaconda3\\lib\\site-packages (from requests<3.0.0,>=2.18.0->google-api-core!=2.0.*,!=2.1.*,!=2.10.*,!=2.2.*,!=2.3.*,!=2.4.*,!=2.5.*,!=2.6.*,!=2.7.*,!=2.8.*,!=2.9.*,<3.0.0,>=1.34.1->google-api-core[grpc]!=2.0.*,!=2.1.*,!=2.10.*,!=2.2.*,!=2.3.*,!=2.4.*,!=2.5.*,!=2.6.*,!=2.7.*,!=2.8.*,!=2.9.*,<3.0.0,>=1.34.1->google-ai-generativelanguage<1.0.0,>=0.7.0->langchain_google_genai) (2.3.0)\n",
      "Requirement already satisfied: pyasn1>=0.1.3 in c:\\users\\riyaa\\anaconda3\\lib\\site-packages (from rsa<5,>=3.1.4->google-auth!=2.24.0,!=2.25.0,<3.0.0,>=2.14.1->google-ai-generativelanguage<1.0.0,>=0.7.0->langchain_google_genai) (0.4.8)\n",
      "Requirement already satisfied: sniffio>=1.1 in c:\\users\\riyaa\\anaconda3\\lib\\site-packages (from anyio->httpx<1,>=0.23.0->langsmith<1.0.0,>=0.3.45->langchain-core<2.0.0,>=1.0.0->langchain_google_genai) (1.3.0)\n",
      "Downloading langchain_google_genai-3.0.0-py3-none-any.whl (57 kB)\n",
      "Downloading filetype-1.2.0-py2.py3-none-any.whl (19 kB)\n",
      "Downloading google_ai_generativelanguage-0.9.0-py3-none-any.whl (1.4 MB)\n",
      "   ---------------------------------------- 0.0/1.4 MB ? eta -:--:--\n",
      "   ------- -------------------------------- 0.3/1.4 MB ? eta -:--:--\n",
      "   ---------------------- ----------------- 0.8/1.4 MB 2.6 MB/s eta 0:00:01\n",
      "   ---------------------------------------- 1.4/1.4 MB 2.7 MB/s eta 0:00:00\n",
      "Downloading google_api_core-2.27.0-py3-none-any.whl (167 kB)\n",
      "Downloading google_auth-2.41.1-py2.py3-none-any.whl (221 kB)\n",
      "Using cached googleapis_common_protos-1.71.0-py3-none-any.whl (294 kB)\n",
      "Using cached grpcio-1.76.0-cp313-cp313-win_amd64.whl (4.7 MB)\n",
      "Downloading grpcio_status-1.76.0-py3-none-any.whl (14 kB)\n",
      "Downloading proto_plus-1.26.1-py3-none-any.whl (50 kB)\n",
      "Using cached protobuf-6.33.0-cp310-abi3-win_amd64.whl (436 kB)\n",
      "Downloading rsa-4.9.1-py3-none-any.whl (34 kB)\n",
      "Installing collected packages: filetype, rsa, protobuf, grpcio, proto-plus, googleapis-common-protos, google-auth, grpcio-status, google-api-core, google-ai-generativelanguage, langchain_google_genai\n",
      "\n",
      "   --- ------------------------------------  1/11 [rsa]\n",
      "  Attempting uninstall: protobuf\n",
      "   --- ------------------------------------  1/11 [rsa]\n",
      "    Found existing installation: protobuf 5.29.3\n",
      "   --- ------------------------------------  1/11 [rsa]\n",
      "   ------- --------------------------------  2/11 [protobuf]\n",
      "    Uninstalling protobuf-5.29.3:\n",
      "   ------- --------------------------------  2/11 [protobuf]\n",
      "      Successfully uninstalled protobuf-5.29.3\n",
      "   ------- --------------------------------  2/11 [protobuf]\n",
      "   ------- --------------------------------  2/11 [protobuf]\n",
      "   ------- --------------------------------  2/11 [protobuf]\n",
      "   ------- --------------------------------  2/11 [protobuf]\n",
      "   ------- --------------------------------  2/11 [protobuf]\n",
      "   ---------- -----------------------------  3/11 [grpcio]\n",
      "   ---------- -----------------------------  3/11 [grpcio]\n",
      "   ---------- -----------------------------  3/11 [grpcio]\n",
      "   ---------- -----------------------------  3/11 [grpcio]\n",
      "   -------------- -------------------------  4/11 [proto-plus]\n",
      "   ------------------ ---------------------  5/11 [googleapis-common-protos]\n",
      "   ------------------ ---------------------  5/11 [googleapis-common-protos]\n",
      "   ------------------ ---------------------  5/11 [googleapis-common-protos]\n",
      "   ------------------ ---------------------  5/11 [googleapis-common-protos]\n",
      "   --------------------- ------------------  6/11 [google-auth]\n",
      "   --------------------- ------------------  6/11 [google-auth]\n",
      "   --------------------- ------------------  6/11 [google-auth]\n",
      "   --------------------- ------------------  6/11 [google-auth]\n",
      "   ----------------------------- ----------  8/11 [google-api-core]\n",
      "   ----------------------------- ----------  8/11 [google-api-core]\n",
      "   ----------------------------- ----------  8/11 [google-api-core]\n",
      "   ------------------------------- -------  9/11 [google-ai-generativelanguage]\n",
      "   ------------------------------- -------  9/11 [google-ai-generativelanguage]\n",
      "   ------------------------------- -------  9/11 [google-ai-generativelanguage]\n",
      "   ------------------------------- -------  9/11 [google-ai-generativelanguage]\n",
      "   ------------------------------- -------  9/11 [google-ai-generativelanguage]\n",
      "   ------------------------------- -------  9/11 [google-ai-generativelanguage]\n",
      "   ------------------------------- -------  9/11 [google-ai-generativelanguage]\n",
      "   ------------------------------- -------  9/11 [google-ai-generativelanguage]\n",
      "   ------------------------------- -------  9/11 [google-ai-generativelanguage]\n",
      "   ------------------------------- -------  9/11 [google-ai-generativelanguage]\n",
      "   ------------------------------- -------  9/11 [google-ai-generativelanguage]\n",
      "   ------------------------------- -------  9/11 [google-ai-generativelanguage]\n",
      "   ------------------------------- -------  9/11 [google-ai-generativelanguage]\n",
      "   ------------------------------- -------  9/11 [google-ai-generativelanguage]\n",
      "   ------------------------------- -------  9/11 [google-ai-generativelanguage]\n",
      "   ------------------------------- -------  9/11 [google-ai-generativelanguage]\n",
      "   ------------------------------- -------  9/11 [google-ai-generativelanguage]\n",
      "   ------------------------------- -------  9/11 [google-ai-generativelanguage]\n",
      "   ------------------------------- -------  9/11 [google-ai-generativelanguage]\n",
      "   ------------------------------- -------  9/11 [google-ai-generativelanguage]\n",
      "   ------------------------------- -------  9/11 [google-ai-generativelanguage]\n",
      "   ------------------------------- -------  9/11 [google-ai-generativelanguage]\n",
      "   ------------------------------- -------  9/11 [google-ai-generativelanguage]\n",
      "   ------------------------------------ --- 10/11 [langchain_google_genai]\n",
      "   ---------------------------------------- 11/11 [langchain_google_genai]\n",
      "\n",
      "Successfully installed filetype-1.2.0 google-ai-generativelanguage-0.9.0 google-api-core-2.27.0 google-auth-2.41.1 googleapis-common-protos-1.71.0 grpcio-1.76.0 grpcio-status-1.76.0 langchain_google_genai-3.0.0 proto-plus-1.26.1 protobuf-6.33.0 rsa-4.9.1\n"
     ]
    }
   ],
   "source": [
    "!pip install langchain_google_genai"
   ]
  },
  {
   "cell_type": "code",
   "execution_count": 9,
   "id": "4712e288-e622-48a2-ad3f-a52f65f3ab08",
   "metadata": {},
   "outputs": [
    {
     "data": {
      "text/plain": [
       "AIMessage(content='Okay, excellent! Since you enjoyed Lord of the Rings, you\\'re likely looking for something with a grand scope, detailed world-building, and a classic struggle between good and evil. Here are a few recommendations, categorized by what aspect of LotR they most emulate:\\n\\n**If you loved the World-Building and Deep Lore:**\\n\\n*   **The Wheel of Time series by Robert Jordan (and Brandon Sanderson):** This is a *massive* series (14 books + a prequel). It features a complex magic system, diverse cultures, a prophecy-driven narrative, and a large cast of characters. It\\'s a long commitment, but the world is incredibly immersive. Be warned that the pacing can be slow in the middle books, but Sanderson really brings it home for the ending.\\n*   **The Malazan Book of the Fallen by Steven Erikson:** This series is known for its incredibly dense and complex world-building, with a rich history and mythology. It\\'s challenging to get into at first, as Erikson throws you right into the deep end with very little explanation, but the payoff is immense. It\\'s a more \"military\" fantasy, with lots of battles and political intrigue. Be prepared to reread sections!\\n\\n**If you loved the Heroic Journey and the Band of Companions:**\\n\\n*   **The Sword of Shannara by Terry Brooks:** This is often considered a direct descendant of Tolkien, and it shares many of the same themes and plot elements. It\\'s a good starting point if you want something familiar but with a slightly different flavor. While some criticize it for being *too* similar to LotR, it\\'s a good stepping stone.\\n*   **The Belgariad by David Eddings:** A more accessible and straightforward epic fantasy series. It features a farm boy who discovers he is destined for greatness and embarks on a quest with a group of companions. It\\'s lighter in tone than LotR but still has a strong sense of adventure.\\n\\n**If you loved the Themes of Good vs. Evil and the Power of Friendship:**\\n\\n*   **The Chronicles of Narnia by C.S. Lewis:** While technically children\\'s literature, Narnia has deep allegorical themes and a strong sense of wonder. It\\'s a shorter commitment than the other recommendations and offers a different perspective on good and evil.\\n*   **The Earthsea Cycle by Ursula K. Le Guin:** This series focuses on themes of balance, responsibility, and the power of language. It\\'s a more introspective and philosophical take on fantasy, but it still has a strong sense of adventure.\\n\\n**If you are ready for something different but equally impressive:**\\n\\n*   **A Song of Ice and Fire by George R.R. Martin:** While very different in tone (more grimdark and politically focused), it shares the epic scope and detailed world-building of LotR. Be warned that it\\'s much darker and more violent, with morally gray characters. It\\'s also famously unfinished.\\n*   **The Stormlight Archive by Brandon Sanderson:** A more modern take on epic fantasy, with a complex magic system, compelling characters, and a focus on mental health. It\\'s a fast-paced and action-packed series that\\'s sure to keep you hooked.\\n\\n**To help me narrow down the best recommendation for you, could you tell me:**\\n\\n*   **What specifically did you enjoy most about Lord of the Rings?** Was it the world, the characters, the adventure, the themes, or something else?\\n*   **Are you looking for something similar in tone and style, or are you open to something darker/more modern?**\\n*   **How long of a series are you willing to commit to?** (e.g., a single book, a trilogy, or a massive multi-book series)\\n\\nOnce I know a bit more, I can give you a more tailored recommendation!', additional_kwargs={}, response_metadata={'prompt_feedback': {'block_reason': 0, 'safety_ratings': []}, 'finish_reason': 'STOP', 'model_name': 'gemini-2.0-flash', 'safety_ratings': [], 'grounding_metadata': {}, 'model_provider': 'google_genai'}, id='lc_run--2aed5988-e868-482d-8fce-dd8a394a58da-0', usage_metadata={'input_tokens': 31, 'output_tokens': 811, 'total_tokens': 842, 'input_token_details': {'cache_read': 0}})"
      ]
     },
     "execution_count": 9,
     "metadata": {},
     "output_type": "execute_result"
    }
   ],
   "source": [
    "from langchain_google_genai import ChatGoogleGenerativeAI\n",
    "\n",
    "llm = ChatGoogleGenerativeAI(model=\"gemini-2.0-flash\")\n",
    "llm.invoke(messages)"
   ]
  },
  {
   "cell_type": "markdown",
   "id": "fbd1dab8-0af8-4621-8264-ce65065f76ec",
   "metadata": {},
   "source": [
    "We can run our chat model in a simple graph with `MessagesState`."
   ]
  },
  {
   "cell_type": "code",
   "execution_count": 10,
   "id": "bbd8c39c-633b-4176-9cc6-8318e42bb5dd",
   "metadata": {},
   "outputs": [
    {
     "data": {
      "image/png": "[encoded data removed]",
      "text/plain": [
       "<IPython.core.display.Image object>"
      ]
     },
     "metadata": {},
     "output_type": "display_data"
    }
   ],
   "source": [
    "from IPython.display import Image, display\n",
    "from langgraph.graph import MessagesState\n",
    "from langgraph.graph import StateGraph, START, END\n",
    "\n",
    "# Node\n",
    "def chat_model_node(state: MessagesState):\n",
    "    return {\"messages\": llm.invoke(state[\"messages\"])}\n",
    "\n",
    "# Build graph\n",
    "builder = StateGraph(MessagesState)\n",
    "builder.add_node(\"chat_model\", chat_model_node)\n",
    "builder.add_edge(START, \"chat_model\")\n",
    "builder.add_edge(\"chat_model\", END)\n",
    "graph = builder.compile()\n",
    "\n",
    "# View\n",
    "display(Image(graph.get_graph().draw_mermaid_png()))"
   ]
  },
  {
   "cell_type": "code",
   "execution_count": 11,
   "id": "3a5a3e4a-ccfd-4d14-81f1-f0de6e11a1e4",
   "metadata": {},
   "outputs": [
    {
     "name": "stdout",
     "output_type": "stream",
     "text": [
      "==================================\u001b[1m Ai Message \u001b[0m==================================\n",
      "Name: BookBot\n",
      "\n",
      "I heard you're looking for fantasy book recommendations?\n",
      "================================\u001b[1m Human Message \u001b[0m=================================\n",
      "Name: Riya\n",
      "\n",
      "Yes, I love epic fantasy. What would you recommend for someone who enjoyed Lord of the Rings?\n",
      "==================================\u001b[1m Ai Message \u001b[0m==================================\n",
      "\n",
      "Okay, excellent! If you loved Lord of the Rings, here are a few recommendations, categorized by what aspects of LOTR they capture:\n",
      "\n",
      "**For a similar sense of epic scope, world-building, and deep history:**\n",
      "\n",
      "*   **The Wheel of Time by Robert Jordan (and finished by Brandon Sanderson):** This is often considered the closest in scope to LOTR. It features a vast world with complex cultures, a battle between good and evil, and a Chosen One destined to save the world. Be warned, it's a very long series (14 books + a prequel), but many find it incredibly rewarding. It has a slow start, but really picks up.\n",
      "*   **The Malazan Book of the Fallen by Steven Erikson:** This is a much denser and more challenging read than Wheel of Time. It has an enormous cast of characters, a sprawling world, and a complex, morally grey plot. It's known for its philosophical themes and its focus on the common soldier. This is not for the faint of heart, but many consider it a masterpiece.\n",
      "*   **The Realm of the Elderlings by Robin Hobb:** This is actually multiple interconnected trilogies and series, all set in the same world. Hobb's writing is more character-focused than the previous two, with deep emotional resonance. Start with the *Farseer Trilogy* which follows FitzChivalry Farseer, a royal bastard trained as an assassin. The world-building is excellent, and the characters are incredibly well-developed.\n",
      "\n",
      "**For a focus on a fellowship/group dynamic and quest:**\n",
      "\n",
      "*   **The First Law Trilogy by Joe Abercrombie:** This is a grimdark fantasy series, so expect a darker tone than LOTR. However, it features a compelling group of characters who are forced to work together despite their differences on a dangerous quest. Abercrombie is known for his witty dialogue, realistic characters, and brutal action scenes.\n",
      "*   **The Black Company by Glen Cook:** This is a military fantasy series that follows a mercenary company through their battles and struggles. It's known for its gritty realism, its focus on the camaraderie of soldiers, and its morally ambiguous characters.\n",
      "\n",
      "**For the classic \"chosen one\" trope with a fresh twist:**\n",
      "\n",
      "*   **Mistborn: The Final Empire by Brandon Sanderson:** Sanderson is known for his intricate magic systems and fast-paced plots. Mistborn features a group of rebels who plot to overthrow a tyrannical emperor. It's a more action-oriented series than LOTR, but it still has a strong sense of world-building and character development.\n",
      "\n",
      "**To summarize, here's a quick breakdown:**\n",
      "\n",
      "*   **If you want something HUGE and epic with a classic feel:** Wheel of Time\n",
      "*   **If you want something complex, philosophical, and morally grey:** Malazan Book of the Fallen\n",
      "*   **If you want something character-driven and emotionally resonant:** Realm of the Elderlings (start with Farseer Trilogy)\n",
      "*   **If you want something gritty, realistic, and character-focused:** The First Law Trilogy or The Black Company\n",
      "*   **If you want something with a unique magic system and a fast-paced plot:** Mistborn\n",
      "\n",
      "Which of these sound the most appealing to you based on your preferences? I can elaborate on any of them! Also, are there any specific aspects of Lord of the Rings that you particularly enjoyed (e.g., the magic, the world-building, the characters, the themes)? Knowing that will help me narrow down the recommendations even further.\n"
     ]
    }
   ],
   "source": [
    "output = graph.invoke({'messages': messages})\n",
    "for m in output['messages']:\n",
    "    m.pretty_print()"
   ]
  },
  {
   "cell_type": "markdown",
   "id": "34c33e63-1ef4-412d-bb10-6a1b9e5b35a7",
   "metadata": {},
   "source": [
    "## Reducer\n",
    "\n",
    "A practical challenge when working with messages is managing long-running conversations. \n",
    "\n",
    "Long-running conversations result in high token usage and latency if we are not careful, because we pass a growing list of messages to the model.\n",
    "\n",
    "We have a few ways to address this.\n",
    "\n",
    "First, recall the trick we saw using `RemoveMessage` and the `add_messages` reducer."
   ]
  },
  {
   "cell_type": "code",
   "execution_count": 13,
   "id": "222c6bc5-bb0e-4a43-80f5-c8ec38d99f3a",
   "metadata": {},
   "outputs": [
    {
     "data": {
      "image/png": "[encoded data removed]",
      "text/plain": [
       "<IPython.core.display.Image object>"
      ]
     },
     "metadata": {},
     "output_type": "display_data"
    }
   ],
   "source": [
    "from langchain_core.messages import RemoveMessage\n",
    "\n",
    "# Nodes\n",
    "def filter_messages(state: MessagesState):\n",
    "    # Delete all but the 2 most recent messages\n",
    "    delete_messages = [RemoveMessage(id=m.id) for m in state[\"messages\"][:-2]]\n",
    "    return {\"messages\": delete_messages}\n",
    "\n",
    "def chat_model_node(state: MessagesState):    \n",
    "    return {\"messages\": [llm.invoke(state[\"messages\"])]}\n",
    "\n",
    "# Build graph\n",
    "builder = StateGraph(MessagesState)\n",
    "builder.add_node(\"filter\", filter_messages)\n",
    "builder.add_node(\"chat_model\", chat_model_node)\n",
    "builder.add_edge(START, \"filter\")\n",
    "builder.add_edge(\"filter\", \"chat_model\")\n",
    "builder.add_edge(\"chat_model\", END)\n",
    "graph = builder.compile()\n",
    "\n",
    "# View\n",
    "display(Image(graph.get_graph().draw_mermaid_png()))"
   ]
  },
  {
   "cell_type": "code",
   "execution_count": 14,
   "id": "95a7c2cc-54ce-43e7-9a90-abf37827d709",
   "metadata": {},
   "outputs": [
    {
     "name": "stdout",
     "output_type": "stream",
     "text": [
      "==================================\u001b[1m Ai Message \u001b[0m==================================\n",
      "Name: BookBot\n",
      "\n",
      "What kind of books are you interested in?\n",
      "================================\u001b[1m Human Message \u001b[0m=================================\n",
      "Name: Riya\n",
      "\n",
      "I love historical fiction like Babel or The Poppy War. Any recommendations?\n",
      "==================================\u001b[1m Ai Message \u001b[0m==================================\n",
      "\n",
      "Okay, based on your love for historical fiction like Babel and The Poppy War, which are both excellent and share some common themes, here are some recommendations, broken down by the elements you might enjoy from those books:\n",
      "\n",
      "**If you like the intricate world-building, historical detail, and moral complexity like in Babel:**\n",
      "\n",
      "*   **Jonathan Strange & Mr Norrell by Susanna Clarke:** A dense but rewarding read set in 19th-century England, where magic has faded but is slowly being revived. It has a similar atmosphere of academia, historical detail, and the re-emergence of something powerful and potentially dangerous.\n",
      "*   **The Golem and the Jinni by Helene Wecker:** Set in 19th-century New York City, this beautifully written novel explores the lives of a golem and a jinni who find themselves unexpectedly brought to life and grappling with their identities and the immigrant experience.  It's rich in historical detail and cultural exploration.\n",
      "*   **The Name of the Rose by Umberto Eco:** A medieval mystery set in an Italian monastery. It's dense, intellectual, and full of historical detail, exploring themes of knowledge, power, and heresy.\n",
      "*   **The Physician by Noah Gordon:** A sweeping historical saga following a young man in 11th-century England who travels to Persia to study medicine. It's a detailed and immersive look at medicine and culture in a different time.\n",
      "\n",
      "**If you like the dark fantasy, war themes, and strong female protagonist like in The Poppy War:**\n",
      "\n",
      "*   **Jade City by Fonda Lee (The Green Bone Saga #1):**  This is a fantastic trilogy set in a fictional Asian-inspired world where clans fight for control of jade, which grants magical abilities.  It has a similar blend of martial arts, political intrigue, and a compelling, morally grey protagonist.\n",
      "*   **Empire of Sand by Tasha Suri (The Books of Ambha #1):** Inspired by Mughal India, this book features a strong female protagonist with magical abilities navigating a complex political landscape. It's beautifully written and features rich world-building.\n",
      "*   **The Priory of the Orange Tree by Samantha Shannon:** A large, standalone epic fantasy with multiple perspectives, political intrigue, dragons, and a focus on strong female characters. It's a sprawling read, but worth it if you enjoy immersive world-building.\n",
      "*   **Black Sun by Rebecca Roanhorse (Between Earth and Sky #1):** Inspired by pre-Columbian Americas, this book features a diverse cast of characters, political intrigue, and a coming apocalypse. It's a compelling and unique fantasy world.\n",
      "\n",
      "**Books that share elements of BOTH:**\n",
      "\n",
      "*   **The Traitor Baru Cormorant by Seth Dickinson:**  A brilliant but ruthless woman is recruited by a vast empire and tasked with conquering her own homeland.  It's a morally complex, intellectually stimulating, and politically charged fantasy novel. It has the academic elements of Babel and the morally grey characters of The Poppy War.\n",
      "*   **The Bone Ships by RJ Barker (The Tide Child Trilogy #1):** This series features unique world-building, a strong focus on seafaring culture, and morally ambiguous characters caught in a brutal conflict. It combines the detailed world-building and historical feel with the grim realities of war.\n",
      "\n",
      "**A Few Extra Considerations:**\n",
      "\n",
      "*   **What specific aspects of Babel and The Poppy War did you enjoy the most?**  Knowing that will help me narrow down the recommendations even further.  Was it the magic system, the historical setting, the character development, the pacing, the themes of colonialism, etc.?\n",
      "*   **Are you looking for something similar in tone and style, or are you open to something a bit different?**\n",
      "\n",
      "I hope this gives you some good starting points! Let me know if you have any questions or want more specific recommendations. Happy reading!\n"
     ]
    }
   ],
   "source": [
    "# Message list with a preamble\n",
    "messages = [AIMessage(\"Hi.\", name=\"BookBot\", id=\"1\")]\n",
    "messages.append(HumanMessage(\"Hi.\", name=\"Riya\", id=\"2\"))\n",
    "messages.append(AIMessage(\"What kind of books are you interested in?\", name=\"BookBot\", id=\"3\"))\n",
    "messages.append(HumanMessage(\"I love historical fiction like Babel or The Poppy War. Any recommendations?\", name=\"Riya\", id=\"4\"))\n",
    "\n",
    "# Invoke\n",
    "output = graph.invoke({'messages': messages})\n",
    "for m in output['messages']:\n",
    "    m.pretty_print()"
   ]
  },
  {
   "cell_type": "markdown",
   "id": "f506457d-014b-4fee-a684-e5edfb4b8f0d",
   "metadata": {},
   "source": [
    "## Filtering messages\n",
    "\n",
    "If you don't need or want to modify the graph state, you can just filter the messages you pass to the chat model.\n",
    "\n",
    "For example, just pass in a filtered list: `llm.invoke(messages[-1:])` to the model."
   ]
  },
  {
   "cell_type": "code",
   "execution_count": 15,
   "id": "22d0b904-7cd6-486b-8948-105bee3d4683",
   "metadata": {},
   "outputs": [
    {
     "data": {
      "image/png": "[encoded data removed]",
      "text/plain": [
       "<IPython.core.display.Image object>"
      ]
     },
     "metadata": {},
     "output_type": "display_data"
    }
   ],
   "source": [
    "# Node\n",
    "def chat_model_node(state: MessagesState):\n",
    "    return {\"messages\": [llm.invoke(state[\"messages\"][-1:])]}\n",
    "\n",
    "# Build graph\n",
    "builder = StateGraph(MessagesState)\n",
    "builder.add_node(\"chat_model\", chat_model_node)\n",
    "builder.add_edge(START, \"chat_model\")\n",
    "builder.add_edge(\"chat_model\", END)\n",
    "graph = builder.compile()\n",
    "\n",
    "# View\n",
    "display(Image(graph.get_graph().draw_mermaid_png()))"
   ]
  },
  {
   "cell_type": "markdown",
   "id": "6f58c6fc-532f-418d-b70a-cfcb3307daf5",
   "metadata": {},
   "source": [
    "Let's take our existing list of messages, append the above LLM response, and append a follow-up question."
   ]
  },
  {
   "cell_type": "code",
   "execution_count": 16,
   "id": "16956015-1dbe-4108-89b5-4209b68b51ca",
   "metadata": {},
   "outputs": [],
   "source": [
    "messages.append(output['messages'][-1])\n",
    "messages.append(HumanMessage(f\"Tell me more about historical fiction classics!\", name=\"Riya\"))"
   ]
  },
  {
   "cell_type": "code",
   "execution_count": 17,
   "id": "85563415-c085-46a8-a4ac-155df798c54e",
   "metadata": {},
   "outputs": [
    {
     "name": "stdout",
     "output_type": "stream",
     "text": [
      "==================================\u001b[1m Ai Message \u001b[0m==================================\n",
      "Name: BookBot\n",
      "\n",
      "Hi.\n",
      "================================\u001b[1m Human Message \u001b[0m=================================\n",
      "Name: Riya\n",
      "\n",
      "Hi.\n",
      "==================================\u001b[1m Ai Message \u001b[0m==================================\n",
      "Name: BookBot\n",
      "\n",
      "What kind of books are you interested in?\n",
      "================================\u001b[1m Human Message \u001b[0m=================================\n",
      "Name: Riya\n",
      "\n",
      "I love historical fiction like Babel or The Poppy War. Any recommendations?\n",
      "==================================\u001b[1m Ai Message \u001b[0m==================================\n",
      "\n",
      "Okay, based on your love for historical fiction like Babel and The Poppy War, which are both excellent and share some common themes, here are some recommendations, broken down by the elements you might enjoy from those books:\n",
      "\n",
      "**If you like the intricate world-building, historical detail, and moral complexity like in Babel:**\n",
      "\n",
      "*   **Jonathan Strange & Mr Norrell by Susanna Clarke:** A dense but rewarding read set in 19th-century England, where magic has faded but is slowly being revived. It has a similar atmosphere of academia, historical detail, and the re-emergence of something powerful and potentially dangerous.\n",
      "*   **The Golem and the Jinni by Helene Wecker:** Set in 19th-century New York City, this beautifully written novel explores the lives of a golem and a jinni who find themselves unexpectedly brought to life and grappling with their identities and the immigrant experience.  It's rich in historical detail and cultural exploration.\n",
      "*   **The Name of the Rose by Umberto Eco:** A medieval mystery set in an Italian monastery. It's dense, intellectual, and full of historical detail, exploring themes of knowledge, power, and heresy.\n",
      "*   **The Physician by Noah Gordon:** A sweeping historical saga following a young man in 11th-century England who travels to Persia to study medicine. It's a detailed and immersive look at medicine and culture in a different time.\n",
      "\n",
      "**If you like the dark fantasy, war themes, and strong female protagonist like in The Poppy War:**\n",
      "\n",
      "*   **Jade City by Fonda Lee (The Green Bone Saga #1):**  This is a fantastic trilogy set in a fictional Asian-inspired world where clans fight for control of jade, which grants magical abilities.  It has a similar blend of martial arts, political intrigue, and a compelling, morally grey protagonist.\n",
      "*   **Empire of Sand by Tasha Suri (The Books of Ambha #1):** Inspired by Mughal India, this book features a strong female protagonist with magical abilities navigating a complex political landscape. It's beautifully written and features rich world-building.\n",
      "*   **The Priory of the Orange Tree by Samantha Shannon:** A large, standalone epic fantasy with multiple perspectives, political intrigue, dragons, and a focus on strong female characters. It's a sprawling read, but worth it if you enjoy immersive world-building.\n",
      "*   **Black Sun by Rebecca Roanhorse (Between Earth and Sky #1):** Inspired by pre-Columbian Americas, this book features a diverse cast of characters, political intrigue, and a coming apocalypse. It's a compelling and unique fantasy world.\n",
      "\n",
      "**Books that share elements of BOTH:**\n",
      "\n",
      "*   **The Traitor Baru Cormorant by Seth Dickinson:**  A brilliant but ruthless woman is recruited by a vast empire and tasked with conquering her own homeland.  It's a morally complex, intellectually stimulating, and politically charged fantasy novel. It has the academic elements of Babel and the morally grey characters of The Poppy War.\n",
      "*   **The Bone Ships by RJ Barker (The Tide Child Trilogy #1):** This series features unique world-building, a strong focus on seafaring culture, and morally ambiguous characters caught in a brutal conflict. It combines the detailed world-building and historical feel with the grim realities of war.\n",
      "\n",
      "**A Few Extra Considerations:**\n",
      "\n",
      "*   **What specific aspects of Babel and The Poppy War did you enjoy the most?**  Knowing that will help me narrow down the recommendations even further.  Was it the magic system, the historical setting, the character development, the pacing, the themes of colonialism, etc.?\n",
      "*   **Are you looking for something similar in tone and style, or are you open to something a bit different?**\n",
      "\n",
      "I hope this gives you some good starting points! Let me know if you have any questions or want more specific recommendations. Happy reading!\n",
      "================================\u001b[1m Human Message \u001b[0m=================================\n",
      "Name: Riya\n",
      "\n",
      "Tell me more about historical fiction classics!\n"
     ]
    }
   ],
   "source": [
    "for m in messages:\n",
    "    m.pretty_print()"
   ]
  },
  {
   "cell_type": "code",
   "execution_count": 18,
   "id": "23349705-a059-47b5-9760-d8f64e687393",
   "metadata": {},
   "outputs": [
    {
     "name": "stdout",
     "output_type": "stream",
     "text": [
      "==================================\u001b[1m Ai Message \u001b[0m==================================\n",
      "Name: BookBot\n",
      "\n",
      "Hi.\n",
      "================================\u001b[1m Human Message \u001b[0m=================================\n",
      "Name: Riya\n",
      "\n",
      "Hi.\n",
      "==================================\u001b[1m Ai Message \u001b[0m==================================\n",
      "Name: BookBot\n",
      "\n",
      "What kind of books are you interested in?\n",
      "================================\u001b[1m Human Message \u001b[0m=================================\n",
      "Name: Riya\n",
      "\n",
      "I love historical fiction like Babel or The Poppy War. Any recommendations?\n",
      "==================================\u001b[1m Ai Message \u001b[0m==================================\n",
      "\n",
      "Okay, based on your love for historical fiction like Babel and The Poppy War, which are both excellent and share some common themes, here are some recommendations, broken down by the elements you might enjoy from those books:\n",
      "\n",
      "**If you like the intricate world-building, historical detail, and moral complexity like in Babel:**\n",
      "\n",
      "*   **Jonathan Strange & Mr Norrell by Susanna Clarke:** A dense but rewarding read set in 19th-century England, where magic has faded but is slowly being revived. It has a similar atmosphere of academia, historical detail, and the re-emergence of something powerful and potentially dangerous.\n",
      "*   **The Golem and the Jinni by Helene Wecker:** Set in 19th-century New York City, this beautifully written novel explores the lives of a golem and a jinni who find themselves unexpectedly brought to life and grappling with their identities and the immigrant experience.  It's rich in historical detail and cultural exploration.\n",
      "*   **The Name of the Rose by Umberto Eco:** A medieval mystery set in an Italian monastery. It's dense, intellectual, and full of historical detail, exploring themes of knowledge, power, and heresy.\n",
      "*   **The Physician by Noah Gordon:** A sweeping historical saga following a young man in 11th-century England who travels to Persia to study medicine. It's a detailed and immersive look at medicine and culture in a different time.\n",
      "\n",
      "**If you like the dark fantasy, war themes, and strong female protagonist like in The Poppy War:**\n",
      "\n",
      "*   **Jade City by Fonda Lee (The Green Bone Saga #1):**  This is a fantastic trilogy set in a fictional Asian-inspired world where clans fight for control of jade, which grants magical abilities.  It has a similar blend of martial arts, political intrigue, and a compelling, morally grey protagonist.\n",
      "*   **Empire of Sand by Tasha Suri (The Books of Ambha #1):** Inspired by Mughal India, this book features a strong female protagonist with magical abilities navigating a complex political landscape. It's beautifully written and features rich world-building.\n",
      "*   **The Priory of the Orange Tree by Samantha Shannon:** A large, standalone epic fantasy with multiple perspectives, political intrigue, dragons, and a focus on strong female characters. It's a sprawling read, but worth it if you enjoy immersive world-building.\n",
      "*   **Black Sun by Rebecca Roanhorse (Between Earth and Sky #1):** Inspired by pre-Columbian Americas, this book features a diverse cast of characters, political intrigue, and a coming apocalypse. It's a compelling and unique fantasy world.\n",
      "\n",
      "**Books that share elements of BOTH:**\n",
      "\n",
      "*   **The Traitor Baru Cormorant by Seth Dickinson:**  A brilliant but ruthless woman is recruited by a vast empire and tasked with conquering her own homeland.  It's a morally complex, intellectually stimulating, and politically charged fantasy novel. It has the academic elements of Babel and the morally grey characters of The Poppy War.\n",
      "*   **The Bone Ships by RJ Barker (The Tide Child Trilogy #1):** This series features unique world-building, a strong focus on seafaring culture, and morally ambiguous characters caught in a brutal conflict. It combines the detailed world-building and historical feel with the grim realities of war.\n",
      "\n",
      "**A Few Extra Considerations:**\n",
      "\n",
      "*   **What specific aspects of Babel and The Poppy War did you enjoy the most?**  Knowing that will help me narrow down the recommendations even further.  Was it the magic system, the historical setting, the character development, the pacing, the themes of colonialism, etc.?\n",
      "*   **Are you looking for something similar in tone and style, or are you open to something a bit different?**\n",
      "\n",
      "I hope this gives you some good starting points! Let me know if you have any questions or want more specific recommendations. Happy reading!\n",
      "================================\u001b[1m Human Message \u001b[0m=================================\n",
      "Name: Riya\n",
      "\n",
      "Tell me more about historical fiction classics!\n",
      "==================================\u001b[1m Ai Message \u001b[0m==================================\n",
      "\n",
      "Okay, let's dive into the fascinating world of historical fiction classics!  This genre blends the immersive storytelling of fiction with the rich tapestry of history, offering readers a chance to experience the past in a compelling and often thought-provoking way.\n",
      "\n",
      "**What Defines a \"Historical Fiction Classic\"?**\n",
      "\n",
      "*   **Enduring Popularity & Influence:**  These books have stood the test of time, remaining widely read and discussed for decades (often generations).  They've often influenced other writers and shaped our understanding of particular historical periods.\n",
      "*   **Literary Merit:**  Beyond simply telling a story, these books are often praised for their beautiful prose, complex characters, insightful themes, and artistic execution.\n",
      "*   **Historical Accuracy (with Artistic License):**  While not documentaries, these books are generally well-researched and strive to create a believable portrayal of the past.  They capture the atmosphere, customs, and social dynamics of the era.  However, it's important to remember that they are *fiction* and authors take liberties to create a compelling narrative.\n",
      "*   **Exploration of Universal Themes:**  The best historical fiction connects the past to the present by exploring timeless human experiences like love, loss, ambition, power, justice, and the search for meaning.\n",
      "*   **Cultural Impact:**  Many have been adapted into successful films, plays, and television series, further cementing their place in popular culture.\n",
      "\n",
      "**Common Historical Periods Explored in Classics:**\n",
      "\n",
      "*   **Ancient World:**  Think Rome, Greece, Egypt.\n",
      "*   **Medieval Period:**  Knights, castles, and the rise of Europe.\n",
      "*   **Renaissance:**  Art, science, and the rebirth of learning.\n",
      "*   **Early Modern Period:**  Exploration, colonization, and religious upheaval.\n",
      "*   **18th & 19th Centuries:**  Revolutions, industrialization, and the Victorian era.\n",
      "*   **20th Century (Pre-WWII):**  The roaring twenties, the Great Depression, and the rise of fascism.\n",
      "\n",
      "**Some Notable Examples (and why they're considered classics):**\n",
      "\n",
      "*   **\"I, Claudius\" and \"Claudius the God\" by Robert Graves (Ancient Rome):**  A witty and cynical fictional autobiography of the Roman Emperor Claudius, offering a fascinating glimpse into the intrigues and decadence of the Roman court.  Graves's meticulous research and engaging narrative style made these books hugely popular.\n",
      "*   **\"Ivanhoe\" by Sir Walter Scott (Medieval England):**  A quintessential medieval romance with knights, tournaments, and damsels in distress.  Scott helped to popularize the romanticized image of the Middle Ages.\n",
      "*   **\"The Hunchback of Notre-Dame\" by Victor Hugo (Medieval France):**  A powerful story set in 15th-century Paris, exploring themes of beauty, ugliness, social injustice, and the power of love.  Hugo's vivid descriptions and compelling characters have made this a timeless classic.\n",
      "*   **\"A Tale of Two Cities\" by Charles Dickens (French Revolution):**  A dramatic and suspenseful story set against the backdrop of the French Revolution, exploring themes of sacrifice, redemption, and the consequences of social upheaval.  Dickens's powerful prose and memorable characters have made this a perennial favorite.\n",
      "*   **\"The Scarlet Letter\" by Nathaniel Hawthorne (Colonial America):**  A complex and symbolic exploration of sin, guilt, and redemption in Puritan New England.  Hawthorne's masterful use of allegory and psychological insight makes this a significant work of American literature.\n",
      "*   **\"War and Peace\" by Leo Tolstoy (Napoleonic Era in Russia):**  An epic saga that follows the lives of several aristocratic Russian families during the Napoleonic Wars.  Tolstoy explores themes of love, war, faith, and the meaning of life.  Its scope and depth make it a monumental work of literature.\n",
      "*   **\"The Three Musketeers\" by Alexandre Dumas (17th Century France):** A swashbuckling adventure filled with intrigue, heroism, and romance. Dumas's fast-paced storytelling and memorable characters have made this a beloved classic.\n",
      "*   **\"The Count of Monte Cristo\" by Alexandre Dumas (France - Post Napoleonic Era):** A tale of wrongful imprisonment, revenge, and redemption. The Count of Monte Cristo is known for its intricate plot, adventure, and exploration of themes like justice and forgiveness.\n",
      "*   **\"The Last of the Mohicans\" by James Fenimore Cooper (French and Indian War):** A classic of American literature, this adventure story explores the clash of cultures and the vanishing wilderness during the French and Indian War.\n",
      "*   **\"Gone with the Wind\" by Margaret Mitchell (American Civil War):** A sweeping romance set against the backdrop of the American Civil War and Reconstruction.  Mitchell's vivid portrayal of the South and her complex characters have made this a hugely popular, though controversial, classic.\n",
      "*   **\"Kristin Lavransdatter\" by Sigrid Undset (Medieval Norway):** This trilogy offers a deep dive into medieval Norwegian life through the eyes of a strong-willed woman.  Undset's detailed descriptions and psychological insights earned her the Nobel Prize in Literature.\n",
      "\n",
      "**Why Read Historical Fiction Classics?**\n",
      "\n",
      "*   **Learn About History in an Engaging Way:**  These books can bring history to life in a way that textbooks often can't.\n",
      "*   **Develop Empathy and Understanding:**  By immersing ourselves in the lives of people from different times and places, we can gain a deeper understanding of the human experience.\n",
      "*   **Explore Timeless Themes:**  These books often grapple with universal questions about love, loss, justice, and the meaning of life.\n",
      "*   **Enjoy Beautiful Writing:**  Many historical fiction classics are beautifully written and offer a rich and rewarding reading experience.\n",
      "*   **Gain Cultural Literacy:**  Knowing these books can help you to understand references and allusions in other works of literature, film, and art.\n",
      "\n",
      "**Things to Keep in Mind When Reading Historical Fiction:**\n",
      "\n",
      "*   **Historical Accuracy vs. Fictional License:**  Remember that these are works of fiction, not historical documents. Authors will inevitably take liberties with the facts to create a compelling narrative.  It's always a good idea to do some independent research to learn more about the historical period.\n",
      "*   **Authorial Bias:**  Authors have their own perspectives and biases, which may be reflected in their writing.  Be aware of this and consider different interpretations of the historical events.\n",
      "*   **Language and Style:**  Older books may use language and writing styles that are different from what you're used to.  Be patient and give yourself time to adjust.\n",
      "*   **Social Norms of the Time:**  Be prepared to encounter attitudes and behaviors that may seem shocking or offensive by modern standards.  It's important to understand the context of the time period.\n",
      "\n",
      "**Where to Start:**\n",
      "\n",
      "*   **Consider your interests:**  Are you fascinated by ancient Rome?  The Renaissance?  The American Civil War?  Choose a book that focuses on a period that interests you.\n",
      "*   **Read reviews and recommendations:**  Look for books that have been praised for their historical accuracy, compelling characters, and beautiful writing.\n",
      "*   **Start with a shorter book:**  If you're new to historical fiction, you might want to start with a shorter book to get a feel for the genre.\n",
      "*   **Don't be afraid to abandon a book:**  If you're not enjoying a book, don't feel obligated to finish it.  There are plenty of other great historical fiction classics to choose from.\n",
      "\n",
      "Historical fiction classics offer a unique and rewarding reading experience. They can transport you to another time and place, introduce you to fascinating characters, and help you to understand the past in a new way.  Happy reading!\n"
     ]
    }
   ],
   "source": [
    "# Invoke, using message filtering\n",
    "output = graph.invoke({'messages': messages})\n",
    "for m in output['messages']:\n",
    "    m.pretty_print()"
   ]
  },
  {
   "cell_type": "markdown",
   "id": "42e1d8d2-e297-4d78-b54c-d12b3c866745",
   "metadata": {},
   "source": [
    "The state has all of the mesages.\n",
    "\n",
    "But, let's look at the LangSmith trace to see that the model invocation only uses the last message:\n",
    "\n",
    "https://smith.langchain.com/public/75aca3ce-ef19-4b92-94be-0178c7a660d9/r"
   ]
  },
  {
   "cell_type": "code",
   "execution_count": null,
   "id": "d71a3b54-53ae-4f23-92ab-920071a384cf",
   "metadata": {},
   "outputs": [],
   "source": [
    "#screenshot of langsmith trace in README.md file"
   ]
  },
  {
   "cell_type": "markdown",
   "id": "fc40d930-3c1f-47fe-8d2a-ce174873353c",
   "metadata": {},
   "source": [
    "## Trim messages\n",
    "\n",
    "Another approach is to [trim messages](https://python.langchain.com/v0.2/docs/how_to/trim_messages/#getting-the-last-max_tokens-tokens), based upon a set number of tokens. \n",
    "\n",
    "This restricts the message history to a specified number of tokens.\n",
    "\n",
    "While filtering only returns a post-hoc subset of the messages between agents, trimming restricts the number of tokens that a chat model can use to respond.\n",
    "\n",
    "See the `trim_messages` below."
   ]
  },
  {
   "cell_type": "code",
   "execution_count": 23,
   "id": "2ff99b81-cf03-4cc2-b44f-44829a73e1fd",
   "metadata": {},
   "outputs": [
    {
     "data": {
      "image/png": "[encoded data removed]",
      "text/plain": [
       "<IPython.core.display.Image object>"
      ]
     },
     "metadata": {},
     "output_type": "display_data"
    }
   ],
   "source": [
    "from langchain_core.messages import trim_messages\n",
    "\n",
    "# Node\n",
    "def chat_model_node(state: MessagesState):\n",
    "    messages = trim_messages(\n",
    "            state[\"messages\"],\n",
    "            max_tokens=100,\n",
    "            strategy=\"last\",\n",
    "            token_counter=ChatGoogleGenerativeAI(model=\"gemini-2.0-flash\"),\n",
    "            allow_partial=False,\n",
    "        )\n",
    "    return {\"messages\": [llm.invoke(messages)]}\n",
    "\n",
    "# Build graph\n",
    "builder = StateGraph(MessagesState)\n",
    "builder.add_node(\"chat_model\", chat_model_node)\n",
    "builder.add_edge(START, \"chat_model\")\n",
    "builder.add_edge(\"chat_model\", END)\n",
    "graph = builder.compile()\n",
    "\n",
    "# View\n",
    "display(Image(graph.get_graph().draw_mermaid_png()))"
   ]
  },
  {
   "cell_type": "code",
   "execution_count": 24,
   "id": "24df63ac-da29-4874-b3df-7e390e97cc8a",
   "metadata": {},
   "outputs": [],
   "source": [
    "messages.append(output['messages'][-1])\n",
    "messages.append(HumanMessage(f\"Tell me about Brandon Sanderson's work and what I might like most from his catalogue if I like high fantasy novels!\", name=\"Riya\"))"
   ]
  },
  {
   "cell_type": "code",
   "execution_count": 25,
   "id": "6d9d8971-c75c-43ca-a209-eb1d07b2ead0",
   "metadata": {},
   "outputs": [
    {
     "data": {
      "text/plain": [
       "[HumanMessage(content=\"Tell me about Brandon Sanderson's work and what I might like most from his catalogue if I like high fantasy novels!\", additional_kwargs={}, response_metadata={}, name='Riya')]"
      ]
     },
     "execution_count": 25,
     "metadata": {},
     "output_type": "execute_result"
    }
   ],
   "source": [
    "# Example of trimming messages\n",
    "trim_messages(\n",
    "            messages,\n",
    "            max_tokens=100,\n",
    "            strategy=\"last\",\n",
    "            token_counter=ChatGoogleGenerativeAI(model=\"gemini-2.0-flash\"),\n",
    "            allow_partial=False\n",
    "        )"
   ]
  },
  {
   "cell_type": "code",
   "execution_count": 26,
   "id": "ed70a269-a869-4fa0-a1df-29736a432c51",
   "metadata": {},
   "outputs": [],
   "source": [
    "# Invoke, using message trimming in the chat_model_node \n",
    "messages_out_trim = graph.invoke({'messages': messages})"
   ]
  },
  {
   "cell_type": "markdown",
   "id": "38b3db67-380e-46b5-9a6a-20100ba52008",
   "metadata": {},
   "source": [
    "Let's look at the LangSmith trace to see the model invocation:\n",
    "\n",
    "https://smith.langchain.com/public/b153f7e9-f1a5-4d60-8074-f0d7ab5b42ef/r"
   ]
  },
  {
   "cell_type": "code",
   "execution_count": null,
   "id": "39da2bf1-1f89-4fb0-86b1-17d47f5101c4",
   "metadata": {},
   "outputs": [],
   "source": [
    "#langsmith trace screenshot is in README.md !!!"
   ]
  }
 ],
 "metadata": {
  "kernelspec": {
   "display_name": "Python [conda env:base] *",
   "language": "python",
   "name": "conda-base-py"
  },
  "language_info": {
   "codemirror_mode": {
    "name": "ipython",
    "version": 3
   },
   "file_extension": ".py",
   "mimetype": "text/x-python",
   "name": "python",
   "nbconvert_exporter": "python",
   "pygments_lexer": "ipython3",
   "version": "3.13.5"
  }
 },
 "nbformat": 4,
 "nbformat_minor": 5
}
