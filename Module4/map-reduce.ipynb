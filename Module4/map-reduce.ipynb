{
 "cells": [
  {
   "cell_type": "markdown",
   "id": "4cd4f701",
   "metadata": {
    "editable": true,
    "slideshow": {
     "slide_type": ""
    },
    "tags": []
   },
   "source": [
    "[![Open in Colab](https://colab.research.google.com/assets/colab-badge.svg)](https://colab.research.google.com/github/langchain-ai/langchain-academy/blob/main/module-4/map-reduce.ipynb) [![Open in LangChain Academy](https://cdn.prod.website-files.com/65b8cd72835ceeacd4449a53/66e9eba12c7b7688aa3dbb5e_LCA-badge-green.svg)](https://academy.langchain.com/courses/take/intro-to-langgraph/lessons/58239947-lesson-3-map-reduce)"
   ]
  },
  {
   "cell_type": "markdown",
   "id": "36737349-c949-4d64-9aa3-3767cbd02ad1",
   "metadata": {
    "editable": true,
    "slideshow": {
     "slide_type": ""
    },
    "tags": []
   },
   "source": [
    "# Map-reduce\n",
    "\n",
    "## Review\n",
    "\n",
    "We're building up to a multi-agent research assistant that ties together all of the modules from this course.\n",
    "\n",
    "To build this multi-agent assistant, we've been introducing a few LangGraph controllability topics.\n",
    "\n",
    "We just covered parallelization and sub-graphs.\n",
    "\n",
    "## Goals\n",
    "\n",
    "Now, we're going to cover [map reduce](https://docs.langchain.com/oss/python/langgraph/use-graph-api#map-reduce-and-the-send-api)."
   ]
  },
  {
   "cell_type": "code",
   "execution_count": null,
   "id": "f24e95c8",
   "metadata": {
    "editable": true,
    "slideshow": {
     "slide_type": ""
    },
    "tags": []
   },
   "outputs": [],
   "source": [
    "%%capture --no-stderr\n",
    "%pip install -U langchain_openai langgraph"
   ]
  },
  {
   "cell_type": "code",
   "execution_count": null,
   "id": "ff57cbf7",
   "metadata": {},
   "outputs": [],
   "source": [
    "import os, getpass\n",
    "\n",
    "def _set_env(var: str):\n",
    "    if not os.environ.get(var):\n",
    "        os.environ[var] = getpass.getpass(f\"{var}: \")\n",
    "\n",
    "_set_env(\"OPENAI_API_KEY\")"
   ]
  },
  {
   "cell_type": "markdown",
   "id": "cbcd868a",
   "metadata": {
    "editable": true,
    "slideshow": {
     "slide_type": ""
    },
    "tags": []
   },
   "source": [
    "We'll use [LangSmith](https://docs.langchain.com/langsmith/home) for [tracing](https://docs.langchain.com/langsmith/observability-concepts)."
   ]
  },
  {
   "cell_type": "code",
   "execution_count": null,
   "id": "9fdc647f",
   "metadata": {
    "editable": true,
    "slideshow": {
     "slide_type": ""
    },
    "tags": []
   },
   "outputs": [],
   "source": [
    "_set_env(\"LANGSMITH_API_KEY\")\n",
    "os.environ[\"LANGSMITH_TRACING\"] = \"true\"\n",
    "os.environ[\"LANGSMITH_PROJECT\"] = \"langchain-academy\""
   ]
  },
  {
   "cell_type": "code",
   "execution_count": 1,
   "id": "76efa75e-2b1d-411a-8468-2dd93bc10f54",
   "metadata": {},
   "outputs": [
    {
     "data": {
      "text/plain": [
       "True"
      ]
     },
     "execution_count": 1,
     "metadata": {},
     "output_type": "execute_result"
    }
   ],
   "source": [
    "from dotenv import load_dotenv\n",
    "load_dotenv(dotenv_path=\"C:/Users/riyaa/Documents/code/mat496/langgraphmod4/studio/.env\", override=True) #path to my env folder"
   ]
  },
  {
   "cell_type": "markdown",
   "id": "2bbe9b9f-4375-4bca-8e32-7d57cb861469",
   "metadata": {},
   "source": [
    "## Problem\n",
    "\n",
    "Map-reduce operations are essential for efficient task decomposition and parallel processing. \n",
    "\n",
    "It has two phases:\n",
    "\n",
    "(1) `Map` - Break a task into smaller sub-tasks, processing each sub-task in parallel.\n",
    "\n",
    "(2) `Reduce` - Aggregate the results across all of the completed, parallelized sub-tasks.\n",
    "\n",
    "Let's design a system that will do two things:\n",
    "\n",
    "(1) `Map` - Create a set of jokes about a topic.\n",
    "\n",
    "(2) `Reduce` - Pick the best joke from the list.\n",
    "\n",
    "We'll use an LLM to do the job generation and selection."
   ]
  },
  {
   "cell_type": "code",
   "execution_count": 2,
   "id": "994cf903-1ed6-4ae2-b32a-7891a2808f81",
   "metadata": {},
   "outputs": [],
   "source": [
    "from langchain_google_genai import ChatGoogleGenerativeAI\n",
    "\n",
    "llm = ChatGoogleGenerativeAI(\n",
    "    model=\"gemini-2.0-flash\", \n",
    "    temperature=0.7,\n",
    ")\n",
    "\n",
    "premises_prompt = \"\"\"Generate a list of 3 different story premises that are all related to this overall theme: {theme}. \n",
    "Each premise should be unique and compelling, suitable for a short story or novella.\"\"\"\n",
    "\n",
    "plot_prompt = \"\"\"Based on this story premise: {premise}\n",
    "\n",
    "Generate a detailed plot idea including:\n",
    "- Main conflict\n",
    "- Key plot points\n",
    "- Potential character arcs\n",
    "- Climax suggestion\n",
    "\n",
    "Be creative and engaging.\"\"\"\n",
    "\n",
    "best_story_prompt = \"\"\"Below are different plot ideas all related to the theme: {theme}\n",
    "\n",
    "Plot Ideas:\n",
    "{plots}\n",
    "\n",
    "Evaluate all these plot ideas and select the best one. Return the ID of the best plot idea, starting with 0 as the ID for the first plot. \n",
    "Consider originality, emotional impact, and storytelling potential.\"\"\""
   ]
  },
  {
   "cell_type": "markdown",
   "id": "f3b883cc-3469-4e96-b1a4-deadf7bf3ce5",
   "metadata": {},
   "source": [
    "## State\n",
    "\n",
    "### Parallelizing joke generation\n",
    "\n",
    "First, let's define the entry point of the graph that will:\n",
    "\n",
    "* Take a user input topic\n",
    "* Produce a list of joke topics from it\n",
    "* Send each joke topic to our above joke generation node\n",
    "\n",
    "Our state has a `jokes` key, which will accumulate jokes from parallelized joke generation"
   ]
  },
  {
   "cell_type": "code",
   "execution_count": 3,
   "id": "099218ca-ee78-4291-95a1-87ee61382e3b",
   "metadata": {},
   "outputs": [],
   "source": [
    "import operator\n",
    "from typing import Annotated\n",
    "from typing_extensions import TypedDict\n",
    "from pydantic import BaseModel\n",
    "\n",
    "class Premises(BaseModel):\n",
    "    premises: list[str]\n",
    "\n",
    "class BestPlot(BaseModel):\n",
    "    id: int\n",
    "    \n",
    "class OverallState(TypedDict):\n",
    "    theme: str\n",
    "    premises: list\n",
    "    plots: Annotated[list, operator.add]\n",
    "    selected_story: str"
   ]
  },
  {
   "cell_type": "markdown",
   "id": "c7176d1c-4a88-4b0f-a960-ee04a45279bd",
   "metadata": {},
   "source": [
    "Generate subjects for jokes."
   ]
  },
  {
   "cell_type": "code",
   "execution_count": 4,
   "id": "45010efd-ad31-4daa-b77e-aaec79ef0309",
   "metadata": {},
   "outputs": [],
   "source": [
    "def generate_premises(state: OverallState):\n",
    "    \"\"\"Generate multiple story premises based on the theme\"\"\"\n",
    "    prompt = premises_prompt.format(theme=state[\"theme\"])\n",
    "    response = llm.with_structured_output(Premises).invoke(prompt)\n",
    "    return {\"premises\": response.premises}"
   ]
  },
  {
   "cell_type": "markdown",
   "id": "e5296bb0-c163-4e5c-8181-1e305b37442a",
   "metadata": {
    "editable": true,
    "slideshow": {
     "slide_type": ""
    },
    "tags": []
   },
   "source": [
    "Here is the magic: we use the  [Send](https://docs.langchain.com/oss/python/langgraph/graph-api/#send) to create a joke for each subject.\n",
    "\n",
    "This is very useful! It can automatically parallelize joke generation for any number of subjects.\n",
    "\n",
    "* `generate_joke`: the name of the node in the graph\n",
    "* `{\"subject\": s`}: the state to send\n",
    "\n",
    "`Send` allow you to pass any state that you want to `generate_joke`! It does not have to align with `OverallState`.\n",
    "\n",
    "In this case, `generate_joke` is using its own internal state, and we can populate this via `Send`."
   ]
  },
  {
   "cell_type": "code",
   "execution_count": 5,
   "id": "bc83e575-11f6-41a9-990a-adb571bcda06",
   "metadata": {
    "editable": true,
    "slideshow": {
     "slide_type": ""
    },
    "tags": []
   },
   "outputs": [],
   "source": [
    "from langgraph.types import Send\n",
    "\n",
    "def continue_to_plots(state: OverallState):\n",
    "    \"\"\"Fan out to generate plots for each premise\"\"\"\n",
    "    return [Send(\"generate_plot\", {\"premise\": p}) for p in state[\"premises\"]]"
   ]
  },
  {
   "cell_type": "markdown",
   "id": "9847192d-d358-411e-90c0-f06be0738717",
   "metadata": {},
   "source": [
    "### Joke generation (map)\n",
    "\n",
    "Now, we just define a node that will create our jokes, `generate_joke`!\n",
    "\n",
    "We write them back out to `jokes` in `OverallState`! \n",
    "\n",
    "This key has a reducer that will combine lists."
   ]
  },
  {
   "cell_type": "code",
   "execution_count": 6,
   "id": "bcddc567-73d3-4fb3-bfc5-1bea538f2aab",
   "metadata": {},
   "outputs": [],
   "source": [
    "class PlotState(TypedDict):\n",
    "    premise: str\n",
    "\n",
    "class Plot(BaseModel):\n",
    "    plot: str\n",
    "\n",
    "def generate_plot(state: PlotState):\n",
    "    \"\"\"Generate a detailed plot idea for a given premise\"\"\"\n",
    "    prompt = plot_prompt.format(premise=state[\"premise\"])\n",
    "    response = llm.with_structured_output(Plot).invoke(prompt)\n",
    "    return {\"plots\": [response.plot]}"
   ]
  },
  {
   "cell_type": "markdown",
   "id": "02960657-d174-4076-99a8-b3f9eea015f4",
   "metadata": {},
   "source": [
    "### Best joke selection (reduce)\n",
    "\n",
    "Now, we add logic to pick the best joke."
   ]
  },
  {
   "cell_type": "code",
   "execution_count": 7,
   "id": "8d672870-75e3-4307-bda0-c41a86cbbaff",
   "metadata": {},
   "outputs": [],
   "source": [
    "def best_plot(state: OverallState):\n",
    "    \"\"\"Select the best plot from all generated plots\"\"\"\n",
    "    plots = \"\\n\\n---\\n\\n\".join([f\"Plot {i}:\\n{plot}\" for i, plot in enumerate(state[\"plots\"])])\n",
    "    prompt = best_story_prompt.format(theme=state[\"theme\"], plots=plots)\n",
    "    response = llm.with_structured_output(BestPlot).invoke(prompt)\n",
    "    return {\"selected_story\": state[\"plots\"][response.id]}"
   ]
  },
  {
   "cell_type": "markdown",
   "id": "837cd12e-5bff-426e-97f4-c774df998cfb",
   "metadata": {},
   "source": [
    "## Compile"
   ]
  },
  {
   "cell_type": "code",
   "execution_count": 8,
   "id": "2ae6be4b-144e-483c-88ad-ce86d6477a0d",
   "metadata": {},
   "outputs": [
    {
     "data": {
      "image/png": "[encoded data removed]",
      "text/plain": [
       "<IPython.core.display.Image object>"
      ]
     },
     "metadata": {},
     "output_type": "display_data"
    }
   ],
   "source": [
    "from IPython.display import Image, display\n",
    "from langgraph.graph import END, StateGraph, START\n",
    "\n",
    "# Construct the graph\n",
    "graph = StateGraph(OverallState)\n",
    "graph.add_node(\"generate_premises\", generate_premises)\n",
    "graph.add_node(\"generate_plot\", generate_plot)\n",
    "graph.add_node(\"best_plot\", best_plot)\n",
    "graph.add_edge(START, \"generate_premises\")\n",
    "graph.add_conditional_edges(\"generate_premises\", continue_to_plots, [\"generate_plot\"])\n",
    "graph.add_edge(\"generate_plot\", \"best_plot\")\n",
    "graph.add_edge(\"best_plot\", END)\n",
    "\n",
    "# Compile the graph\n",
    "app = graph.compile()\n",
    "display(Image(app.get_graph().draw_mermaid_png()))"
   ]
  },
  {
   "cell_type": "code",
   "execution_count": 9,
   "id": "e21dc7c9-0add-4125-be76-af701adb874a",
   "metadata": {},
   "outputs": [
    {
     "name": "stdout",
     "output_type": "stream",
     "text": [
      "{'generate_premises': {'premises': ['A historian travels back in time to prevent a major historical disaster, but inadvertently creates a worse catastrophe.', 'A group of friends discovers a time machine and uses it for personal gain, only to find their actions are unraveling the fabric of reality.', 'In a future where time travel is common, a temporal detective investigates a series of paradoxes that threaten to erase his own existence.']}}\n",
      "{'generate_plot': {'plots': [\"A group of college friends stumble upon a time machine hidden in the basement of their university's physics building. Initially, they use it for trivial things: acing exams, winning sports bets, and avoiding embarrassing social situations. The main conflict arises when one of them, driven by greed, decides to manipulate historical events for financial gain, creating paradoxes and unforeseen consequences that begin to destabilize their present. Key plot points include: 1) The discovery of the time machine and initial experiments with minor time alterations. 2) Escalation of time travel usage for personal gain, leading to noticeable but initially dismissed anomalies in their present. 3) A major historical alteration that causes significant and detrimental changes to the timeline, making the friends realize the gravity of their actions. 4) Internal conflict within the group as some members want to fix the timeline while others want to continue exploiting it. 5) A race against time to undo the damage they've caused, facing resistance from both the altered timeline and their own conflicting desires. Potential character arcs: - The initially reluctant friend who becomes the moral compass, fighting to restore the timeline. - The greedy friend who becomes increasingly obsessed with power and control, willing to sacrifice everything for personal gain. - The cautious friend who becomes paralyzed by fear and indecision, struggling to choose between right and wrong. Climax suggestion: The friends must decide whether to fully reset the timeline, erasing their own memories and experiences, or to live with the consequences of their actions in a distorted and unstable reality. This decision forces them to confront the true cost of their ambition and the value of their friendship.\"]}}\n",
      "{'generate_plot': {'plots': [\"Alistair, a meticulous but somewhat arrogant historian, believes he's identified the single point of failure that led to the Great Fire of London: a baker named Thomas Farriner neglecting his oven. Alistair uses a newly developed time machine to travel back to 1666, intending to subtly ensure Farriner is more careful. However, Alistair's interference, while preventing the initial oven fire, inadvertently causes a different, much larger fire. Key plot points: 1. Alistair arrives in London and, in his zeal, sabotages Farriner's oven entirely, preventing it from being used. 2. A cold snap hits London. Without Farriner's bakery, and with coal prices inflated due to a shipping delay (another unintended consequence of Alistair's presence - he startled a carrier pigeon), people turn to more dangerous methods of heating, like open fires in poorly ventilated homes. 3. A small fire starts in a slum dwelling and, fueled by the unusually dry conditions and lack of firefighting resources diverted to monitor Farriner's bakery, spreads rapidly. 4. Alistair, horrified, tries to help contain the blaze, using his knowledge of the future to guide firefighters, but his anachronistic language and strange behavior make him a suspect, hindering his efforts. 5. He realizes his actions have made things worse and desperately tries to find a way to undo the damage, even considering restarting Farriner's oven himself. Character arcs: Alistair begins as an arrogant academic, confident in his ability to manipulate the past. He becomes increasingly desperate and humbled as he witnesses the consequences of his actions, eventually learning the limits of his knowledge and the interconnectedness of history. He may even develop a grudging respect for Farriner. Climax: Alistair, now a wanted man, must choose between returning to his own time and abandoning London to its fate, or staying and using his knowledge to try and mitigate the disaster, even if it means sacrificing himself. He could potentially use his understanding of the fire's spread to create a firebreak, but this would require him to confess his time-traveling origins, risking being branded a heretic or madman. The climax involves a desperate race against time as the fire rages, with Alistair making a final, risky attempt to save the city, unsure if he will succeed or only make things worse.\"]}}\n",
      "{'generate_plot': {'plots': ['Here\\'s a detailed plot idea based on your story premise:\\n\\n*   **Main Conflict:** A series of escalating temporal paradoxes are destabilizing the timeline, threatening to unravel reality and erase the temporal detective, Elias Vance, from existence. These paradoxes are not random; they are orchestrated by a mysterious figure known only as \"Chronos,\" who seeks to rewrite history according to their own twisted vision.\\n\\n*   **Key Plot Points:**\\n    *   **The First Paradox:** Elias investigates the sudden disappearance of a renowned scientist, Dr. Aris Thorne, who was on the verge of a groundbreaking discovery in temporal mechanics. Elias discovers that Thorne vanished from multiple points in time simultaneously, a clear paradox.\\n    *   **Unraveling the Threads:** As Elias delves deeper, he uncovers a pattern: each paradox is subtly altering the past, creating ripple effects that accumulate over time. He uses his knowledge of temporal physics and detective skills to trace the source of these alterations.\\n    *   **The Chronos Connection:** Elias discovers that Chronos is using Thorne\\'s research to manipulate specific events in the past. Chronos believes that by reshaping history, they can create a \"perfect\" future, free from suffering and conflict, but at the cost of free will.\\n    *   **Personal Stakes:** Elias realizes that Chronos\\'s actions are not only destabilizing the timeline but also directly targeting his own personal history. Key moments in his past are being erased or altered, causing him to experience memory loss and existential dread.\\n    *   **The Temporal Labyrinth:** Elias must navigate a complex web of timelines, jumping between different eras to gather evidence and prevent Chronos from further manipulating the past. He encounters alternate versions of himself and others, some helpful, some hostile.\\n    *   **The Moral Dilemma:** Elias confronts the ethical implications of time travel and the potential consequences of altering the past, even with good intentions. He questions whether any future is worth sacrificing the integrity of the timeline.\\n\\n*   **Potential Character Arcs:**\\n    *   **Elias Vance:** Starts as a confident and skilled temporal detective, but becomes increasingly desperate and haunted as his own existence is threatened. He must confront his own past traumas and make difficult choices that challenge his beliefs about time and causality. His arc is about accepting the imperfections of the past and fighting for the possibility of a better future, rather than a predetermined one.\\n    *   **Chronos:** A brilliant but disillusioned historian or scientist who has lost faith in humanity\\'s ability to create a positive future. They believe that only through controlled intervention can history be guided towards a better outcome. Their arc is a tragic one, highlighting the dangers of utopian ideals and the seductive allure of absolute power.\\n    *   **Dr. Aris Thorne:** Initially a victim, Thorne could reappear later in the story as an ally or an adversary. Perhaps Chronos manipulated Thorne\\'s research or exploited a hidden desire within Thorne to control time. Thorne\\'s arc could explore the ethical responsibilities of scientific discovery and the potential for misuse of powerful technologies.\\n\\n*   **Climax Suggestion:**\\n    *   Elias confronts Chronos at the nexus point of all the paradoxes, a moment in time where the past, present, and future converge. Chronos is on the verge of enacting their final alteration, which would rewrite history on a massive scale.\\n    *   Elias must use his knowledge of temporal mechanics and his own personal connection to the timeline to disrupt Chronos\\'s plan. This could involve creating a counter-paradox, appealing to Chronos\\'s lost humanity, or finding a way to restore the original timeline without erasing the progress that has been made.\\n    *   The climax could involve a complex temporal battle, with Elias and Chronos manipulating events in different eras to gain an advantage. The fate of the timeline hangs in the balance, and Elias must make a sacrifice to ensure its survival, even if it means altering his own future or accepting the imperfections of the past.']}}\n",
      "{'best_plot': {'selected_story': 'Here\\'s a detailed plot idea based on your story premise:\\n\\n*   **Main Conflict:** A series of escalating temporal paradoxes are destabilizing the timeline, threatening to unravel reality and erase the temporal detective, Elias Vance, from existence. These paradoxes are not random; they are orchestrated by a mysterious figure known only as \"Chronos,\" who seeks to rewrite history according to their own twisted vision.\\n\\n*   **Key Plot Points:**\\n    *   **The First Paradox:** Elias investigates the sudden disappearance of a renowned scientist, Dr. Aris Thorne, who was on the verge of a groundbreaking discovery in temporal mechanics. Elias discovers that Thorne vanished from multiple points in time simultaneously, a clear paradox.\\n    *   **Unraveling the Threads:** As Elias delves deeper, he uncovers a pattern: each paradox is subtly altering the past, creating ripple effects that accumulate over time. He uses his knowledge of temporal physics and detective skills to trace the source of these alterations.\\n    *   **The Chronos Connection:** Elias discovers that Chronos is using Thorne\\'s research to manipulate specific events in the past. Chronos believes that by reshaping history, they can create a \"perfect\" future, free from suffering and conflict, but at the cost of free will.\\n    *   **Personal Stakes:** Elias realizes that Chronos\\'s actions are not only destabilizing the timeline but also directly targeting his own personal history. Key moments in his past are being erased or altered, causing him to experience memory loss and existential dread.\\n    *   **The Temporal Labyrinth:** Elias must navigate a complex web of timelines, jumping between different eras to gather evidence and prevent Chronos from further manipulating the past. He encounters alternate versions of himself and others, some helpful, some hostile.\\n    *   **The Moral Dilemma:** Elias confronts the ethical implications of time travel and the potential consequences of altering the past, even with good intentions. He questions whether any future is worth sacrificing the integrity of the timeline.\\n\\n*   **Potential Character Arcs:**\\n    *   **Elias Vance:** Starts as a confident and skilled temporal detective, but becomes increasingly desperate and haunted as his own existence is threatened. He must confront his own past traumas and make difficult choices that challenge his beliefs about time and causality. His arc is about accepting the imperfections of the past and fighting for the possibility of a better future, rather than a predetermined one.\\n    *   **Chronos:** A brilliant but disillusioned historian or scientist who has lost faith in humanity\\'s ability to create a positive future. They believe that only through controlled intervention can history be guided towards a better outcome. Their arc is a tragic one, highlighting the dangers of utopian ideals and the seductive allure of absolute power.\\n    *   **Dr. Aris Thorne:** Initially a victim, Thorne could reappear later in the story as an ally or an adversary. Perhaps Chronos manipulated Thorne\\'s research or exploited a hidden desire within Thorne to control time. Thorne\\'s arc could explore the ethical responsibilities of scientific discovery and the potential for misuse of powerful technologies.\\n\\n*   **Climax Suggestion:**\\n    *   Elias confronts Chronos at the nexus point of all the paradoxes, a moment in time where the past, present, and future converge. Chronos is on the verge of enacting their final alteration, which would rewrite history on a massive scale.\\n    *   Elias must use his knowledge of temporal mechanics and his own personal connection to the timeline to disrupt Chronos\\'s plan. This could involve creating a counter-paradox, appealing to Chronos\\'s lost humanity, or finding a way to restore the original timeline without erasing the progress that has been made.\\n    *   The climax could involve a complex temporal battle, with Elias and Chronos manipulating events in different eras to gain an advantage. The fate of the timeline hangs in the balance, and Elias must make a sacrifice to ensure its survival, even if it means altering his own future or accepting the imperfections of the past.'}}\n"
     ]
    }
   ],
   "source": [
    "for s in app.stream({\"theme\": \"time travel and consequences\"}):\n",
    "    print(s)"
   ]
  },
  {
   "attachments": {},
   "cell_type": "markdown",
   "id": "2a96517e-77ab-46e2-95e2-79168c044e9c",
   "metadata": {},
   "source": [
    "## Studio\n",
    "\n",
    "**⚠️ Notice**\n",
    "\n",
    "Since filming these videos, we've updated Studio so that it can now be run locally and accessed through your browser. This is the preferred way to run Studio instead of using the Desktop App shown in the video. It is now called _LangSmith Studio_ instead of _LangGraph Studio_. Detailed setup instructions are available in the \"Getting Setup\" guide at the start of the course. You can find a description of Studio [here](https://docs.langchain.com/langsmith/studio), and specific details for local deployment [here](https://docs.langchain.com/langsmith/quick-start-studio#local-development-server).  \n",
    "To start the local development server, run the following command in your terminal in the `/studio` directory in this module:\n",
    "\n",
    "```\n",
    "langgraph dev\n",
    "```\n",
    "\n",
    "You should see the following output:\n",
    "```\n",
    "- 🚀 API: http://127.0.0.1:2024\n",
    "- 🎨 Studio UI: https://smith.langchain.com/studio/?baseUrl=http://127.0.0.1:2024\n",
    "- 📚 API Docs: http://127.0.0.1:2024/docs\n",
    "```\n",
    "\n",
    "Open your browser and navigate to the **Studio UI** URL shown above.\n",
    "\n",
    "Let's load the above graph in the Studio UI, which uses `module-4/studio/map_reduce.py` set in `module-4/studio/langgraph.json`."
   ]
  },
  {
   "cell_type": "code",
   "execution_count": null,
   "id": "741a5e45-9a4c-43b4-8393-9298b3dcda53",
   "metadata": {},
   "outputs": [],
   "source": []
  }
 ],
 "metadata": {
  "kernelspec": {
   "display_name": "Python [conda env:base] *",
   "language": "python",
   "name": "conda-base-py"
  },
  "language_info": {
   "codemirror_mode": {
    "name": "ipython",
    "version": 3
   },
   "file_extension": ".py",
   "mimetype": "text/x-python",
   "name": "python",
   "nbconvert_exporter": "python",
   "pygments_lexer": "ipython3",
   "version": "3.13.5"
  }
 },
 "nbformat": 4,
 "nbformat_minor": 5
}
