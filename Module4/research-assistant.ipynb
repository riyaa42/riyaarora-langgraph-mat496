{
 "cells": [
  {
   "cell_type": "markdown",
   "id": "7a5c2153",
   "metadata": {
    "editable": true,
    "slideshow": {
     "slide_type": ""
    },
    "tags": []
   },
   "source": [
    "[![Open in Colab](https://colab.research.google.com/assets/colab-badge.svg)](https://colab.research.google.com/github/langchain-ai/langchain-academy/blob/main/module-4/research-assistant.ipynb) [![Open in LangChain Academy](https://cdn.prod.website-files.com/65b8cd72835ceeacd4449a53/66e9eba12c7b7688aa3dbb5e_LCA-badge-green.svg)](https://academy.langchain.com/courses/take/intro-to-langgraph/lessons/58239974-lesson-4-research-assistant)"
   ]
  },
  {
   "attachments": {},
   "cell_type": "markdown",
   "id": "e0a5763f-5f45-4b8f-b3e2-480f46c5721b",
   "metadata": {
    "editable": true,
    "slideshow": {
     "slide_type": ""
    },
    "tags": []
   },
   "source": [
    "# Research Assistant\n",
    "\n",
    "## Review\n",
    "\n",
    "We've covered a few major LangGraph themes:\n",
    "\n",
    "* Memory\n",
    "* Human-in-the-loop\n",
    "* Controllability\n",
    "\n",
    "Now, we'll bring these ideas together to tackle one of AI's most popular applications: research automation. \n",
    "\n",
    "Research is often laborious work offloaded to analysts. AI has considerable potential to assist with this.\n",
    "\n",
    "However, research demands customization: raw LLM outputs are often poorly suited for real-world decision-making workflows. \n",
    "\n",
    "Customized, AI-based [research and report generation](https://jxnl.co/writing/2024/06/05/predictions-for-the-future-of-rag/#reports-over-rag) workflows are a promising way to address this.\n",
    "\n",
    "## Goal\n",
    "\n",
    "Our goal is to build a lightweight, multi-agent system around chat models that customizes the research process.\n",
    "\n",
    "`Source Selection` \n",
    "* Users can choose any set of input sources for their research.\n",
    "  \n",
    "`Planning` \n",
    "* Users provide a topic, and the system generates a team of AI analysts, each focusing on one sub-topic.\n",
    "* `Human-in-the-loop` will be used to refine these sub-topics before research begins.\n",
    "  \n",
    "`LLM Utilization`\n",
    "* Each analyst will conduct in-depth interviews with an expert AI using the selected sources.\n",
    "* The interview will be a multi-turn conversation to extract detailed insights as shown in the [STORM](https://arxiv.org/abs/2402.14207) paper.\n",
    "* These interviews will be captured in a using `sub-graphs` with their internal state. \n",
    "   \n",
    "`Research Process`\n",
    "* Experts will gather information to answer analyst questions in `parallel`.\n",
    "* And all interviews will be conducted simultaneously through `map-reduce`.\n",
    "\n",
    "`Output Format` \n",
    "* The gathered insights from each interview will be synthesized into a final report.\n",
    "* We'll use customizable prompts for the report, allowing for a flexible output format. \n",
    "\n",
    "![Screenshot 2024-08-26 at 7.26.33 PM.png](https://cdn.prod.website-files.com/65b8cd72835ceeacd4449a53/66dbb164d61c93d48e604091_research-assistant1.png)"
   ]
  },
  {
   "cell_type": "code",
   "execution_count": 1,
   "id": "f23991e9-51b3-4e9f-86a0-dec16aa7d1e6",
   "metadata": {
    "scrolled": true
   },
   "outputs": [],
   "source": [
    "%%capture --no-stderr\n",
    "%pip install --quiet -U langgraph langchain_openai langchain_community langchain_core tavily-python wikipedia"
   ]
  },
  {
   "cell_type": "markdown",
   "id": "99a1c01d-87e1-4723-b83e-ebcf937fe914",
   "metadata": {},
   "source": [
    "## Setup"
   ]
  },
  {
   "cell_type": "code",
   "execution_count": 2,
   "id": "ba917800-10e4-4e2a-8e9e-30893b731e97",
   "metadata": {},
   "outputs": [],
   "source": [
    "import os, getpass\n",
    "\n",
    "def _set_env(var: str):\n",
    "    if not os.environ.get(var):\n",
    "        os.environ[var] = getpass.getpass(f\"{var}: \")\n",
    "\n",
    "_set_env(\"OPENAI_API_KEY\")"
   ]
  },
  {
   "cell_type": "code",
   "execution_count": 25,
   "id": "c5b714d5-0b08-472a-9a45-1a516d7b8e7d",
   "metadata": {},
   "outputs": [
    {
     "data": {
      "text/plain": [
       "True"
      ]
     },
     "execution_count": 25,
     "metadata": {},
     "output_type": "execute_result"
    }
   ],
   "source": [
    "from dotenv import load_dotenv\n",
    "load_dotenv(dotenv_path=\"C:/Users/riyaa/Documents/code/mat496/langgraphmod4/studio/.env\", override=True) #path to my env folder"
   ]
  },
  {
   "cell_type": "code",
   "execution_count": 3,
   "id": "afe9ff57-0826-4669-b88b-4d0501a509f5",
   "metadata": {},
   "outputs": [],
   "source": [
    "from langchain_google_genai import ChatGoogleGenerativeAI\n",
    "llm = ChatGoogleGenerativeAI(\n",
    "    model=\"gemini-2.0-flash\", \n",
    "    temperature=0.7,\n",
    ")"
   ]
  },
  {
   "cell_type": "markdown",
   "id": "3419257b-2c6b-4d68-ae38-4a266cc02982",
   "metadata": {
    "editable": true,
    "slideshow": {
     "slide_type": ""
    },
    "tags": []
   },
   "source": [
    "We'll use [LangSmith](https://docs.langchain.com/langsmith/home) for [tracing](https://docs.langchain.com/langsmith/observability-concepts)."
   ]
  },
  {
   "cell_type": "code",
   "execution_count": 4,
   "id": "5102cf2e-0ca9-465b-9499-67abb8132e5d",
   "metadata": {
    "editable": true,
    "slideshow": {
     "slide_type": ""
    },
    "tags": []
   },
   "outputs": [],
   "source": [
    "_set_env(\"LANGSMITH_API_KEY\")\n",
    "os.environ[\"LANGSMITH_TRACING\"] = \"true\"\n",
    "os.environ[\"LANGSMITH_PROJECT\"] = \"langchain-academy\""
   ]
  },
  {
   "cell_type": "markdown",
   "id": "f8fe5d93-e353-44bb-be3e-434654bcb7ea",
   "metadata": {},
   "source": [
    "## Generate Analysts: Human-In-The-Loop\n",
    "\n",
    "Create analysts and review them using human-in-the-loop."
   ]
  },
  {
   "cell_type": "code",
   "execution_count": 4,
   "id": "1eee8e60-e548-49b1-88ec-a4f3aef2174e",
   "metadata": {},
   "outputs": [],
   "source": [
    "# Kernel 2\n",
    "from typing import List\n",
    "from typing_extensions import TypedDict\n",
    "from pydantic import BaseModel, Field\n",
    "\n",
    "class Analyst(BaseModel):\n",
    "    affiliation: str = Field(\n",
    "        description=\"Primary affiliation of the analyst.\",\n",
    "    )\n",
    "    name: str = Field(\n",
    "        description=\"Name of the analyst.\"\n",
    "    )\n",
    "    role: str = Field(\n",
    "        description=\"Role of the analyst in the context of the topic.\",\n",
    "    )\n",
    "    description: str = Field(\n",
    "        description=\"Description of the analyst focus, concerns, and motives.\",\n",
    "    )\n",
    "    @property\n",
    "    def persona(self) -> str:\n",
    "        return f\"Name: {self.name}\\nRole: {self.role}\\nAffiliation: {self.affiliation}\\nDescription: {self.description}\\n\"\n",
    "\n",
    "class Perspectives(BaseModel):\n",
    "    analysts: List[Analyst] = Field(\n",
    "        description=\"Comprehensive list of analysts with their roles and affiliations.\",\n",
    "    )\n",
    "\n",
    "class GenerateAnalystsState(TypedDict):\n",
    "    topic: str # Research topic\n",
    "    max_analysts: int # Number of analysts\n",
    "    human_analyst_feedback: str # Human feedback\n",
    "    analysts: List[Analyst] # Analyst asking questions"
   ]
  },
  {
   "cell_type": "code",
   "execution_count": 5,
   "id": "fd088ff5-4c75-412c-85f0-04afd0900bfc",
   "metadata": {},
   "outputs": [
    {
     "data": {
      "image/png": "[encoded data removed]",
      "text/plain": [
       "<IPython.core.display.Image object>"
      ]
     },
     "metadata": {},
     "output_type": "display_data"
    }
   ],
   "source": [
    "# Kernel 3\n",
    "from IPython.display import Image, display\n",
    "from langgraph.graph import START, END, StateGraph\n",
    "from langgraph.checkpoint.memory import MemorySaver\n",
    "from langchain_core.messages import AIMessage, HumanMessage, SystemMessage\n",
    "\n",
    "analyst_instructions=\"\"\"You are tasked with creating a set of AI analyst personas. Follow these instructions carefully:\n",
    "\n",
    "1. First, review the research topic:\n",
    "{topic}\n",
    "        \n",
    "2. Examine any editorial feedback that has been optionally provided to guide creation of the analysts: \n",
    "        \n",
    "{human_analyst_feedback}\n",
    "    \n",
    "3. Determine the most interesting themes based upon documents and / or feedback above.\n",
    "                    \n",
    "4. Pick the top {max_analysts} themes.\n",
    "\n",
    "5. Assign one analyst to each theme.\"\"\"\n",
    "\n",
    "def create_analysts(state: GenerateAnalystsState):\n",
    "    \n",
    "    \"\"\" Create analysts \"\"\"\n",
    "    \n",
    "    topic=state['topic']\n",
    "    max_analysts=state['max_analysts']\n",
    "    human_analyst_feedback=state.get('human_analyst_feedback', '')\n",
    "        \n",
    "    # Enforce structured output\n",
    "    structured_llm = llm.with_structured_output(Perspectives)\n",
    "\n",
    "    # System message\n",
    "    system_message = analyst_instructions.format(topic=topic,\n",
    "                                                            human_analyst_feedback=human_analyst_feedback, \n",
    "                                                            max_analysts=max_analysts)\n",
    "\n",
    "    # Generate question \n",
    "    analysts = structured_llm.invoke([SystemMessage(content=system_message)]+[HumanMessage(content=\"Generate the set of analysts.\")])\n",
    "    \n",
    "    # Write the list of analysis to state\n",
    "    return {\"analysts\": analysts.analysts}\n",
    "\n",
    "def human_feedback(state: GenerateAnalystsState):\n",
    "    \"\"\" No-op node that should be interrupted on \"\"\"\n",
    "    pass\n",
    "\n",
    "def should_continue(state: GenerateAnalystsState):\n",
    "    \"\"\" Return the next node to execute \"\"\"\n",
    "\n",
    "    # Check if human feedback\n",
    "    human_analyst_feedback=state.get('human_analyst_feedback', None)\n",
    "    if human_analyst_feedback:\n",
    "        return \"create_analysts\"\n",
    "    \n",
    "    # Otherwise end\n",
    "    return END\n",
    "\n",
    "# Add nodes and edges \n",
    "builder = StateGraph(GenerateAnalystsState)\n",
    "builder.add_node(\"create_analysts\", create_analysts)\n",
    "builder.add_node(\"human_feedback\", human_feedback)\n",
    "builder.add_edge(START, \"create_analysts\")\n",
    "builder.add_edge(\"create_analysts\", \"human_feedback\")\n",
    "builder.add_conditional_edges(\"human_feedback\", should_continue, [\"create_analysts\", END])\n",
    "\n",
    "# Compile\n",
    "memory = MemorySaver()\n",
    "graph = builder.compile(interrupt_before=['human_feedback'], checkpointer=memory)\n",
    "\n",
    "# View\n",
    "display(Image(graph.get_graph(xray=1).draw_mermaid_png()))"
   ]
  },
  {
   "cell_type": "code",
   "execution_count": 6,
   "id": "6c22cb05-c436-4358-8f7a-72d722f9b5cc",
   "metadata": {},
   "outputs": [
    {
     "name": "stdout",
     "output_type": "stream",
     "text": [
      "Name: Dr. Anya Sharma\n",
      "Affiliation: TechMed Innovations\n",
      "Role: AI Diagnostics Specialist\n",
      "Description: Focuses on the accuracy and reliability of LLMs in medical diagnosis, particularly in complex cases. Concerned about potential biases in algorithms and the need for rigorous validation.\n",
      "--------------------------------------------------\n",
      "Name: Marcus Chen\n",
      "Affiliation: Patient Care Advocacy Group\n",
      "Role: Patient Advocate\n",
      "Description: Dedicated to ensuring patient well-being and equitable access to care.  His primary focus is on how LLMs can improve patient communication, personalize treatment plans, and address healthcare disparities, while also being wary of privacy concerns and the potential for misdiagnosis.\n",
      "--------------------------------------------------\n",
      "Name: Professor Emily Carter\n",
      "Affiliation: Healthcare Ethics Institute\n",
      "Role: Medical Ethicist\n",
      "Description: Examines the ethical implications of using LLMs in patient care, including data privacy, algorithmic transparency, and the potential impact on the doctor-patient relationship.  She is interested in establishing guidelines for responsible AI implementation in medicine.\n",
      "--------------------------------------------------\n"
     ]
    }
   ],
   "source": [
    "max_analysts = 3 \n",
    "topic = \"Large language models in medical diagnosis and patient care\"\n",
    "thread = {\"configurable\": {\"thread_id\": \"1\"}}\n",
    "\n",
    "# Run the graph until the first interruption\n",
    "for event in graph.stream({\"topic\":topic,\"max_analysts\":max_analysts,}, thread, stream_mode=\"values\"):\n",
    "    # Review\n",
    "    analysts = event.get('analysts', '')\n",
    "    if analysts:\n",
    "        for analyst in analysts:\n",
    "            print(f\"Name: {analyst.name}\")\n",
    "            print(f\"Affiliation: {analyst.affiliation}\")\n",
    "            print(f\"Role: {analyst.role}\")\n",
    "            print(f\"Description: {analyst.description}\")\n",
    "            print(\"-\" * 50)"
   ]
  },
  {
   "cell_type": "code",
   "execution_count": 7,
   "id": "2f81ad23-5656-43e6-b50a-0d7a4f69a60a",
   "metadata": {},
   "outputs": [
    {
     "data": {
      "text/plain": [
       "('human_feedback',)"
      ]
     },
     "execution_count": 7,
     "metadata": {},
     "output_type": "execute_result"
    }
   ],
   "source": [
    "# Get state and look at next node\n",
    "state = graph.get_state(thread)\n",
    "state.next"
   ]
  },
  {
   "cell_type": "code",
   "execution_count": 8,
   "id": "72b2a402-fd10-4f26-9a32-3e3c0d4aaf76",
   "metadata": {},
   "outputs": [
    {
     "data": {
      "text/plain": [
       "{'configurable': {'thread_id': '1',\n",
       "  'checkpoint_ns': '',\n",
       "  'checkpoint_id': '1f0b7270-2ae3-6e6e-8002-e528e3f85530'}}"
      ]
     },
     "execution_count": 8,
     "metadata": {},
     "output_type": "execute_result"
    }
   ],
   "source": [
    "# We now update the state as if we are the human_feedback node\n",
    "graph.update_state(thread, {\"human_analyst_feedback\": \n",
    "                            \"Add a hospital CIO/IT implementation expert\"}, as_node=\"human_feedback\")"
   ]
  },
  {
   "cell_type": "code",
   "execution_count": 9,
   "id": "b8816eb9-9906-441b-b552-be71107db14f",
   "metadata": {},
   "outputs": [
    {
     "name": "stdout",
     "output_type": "stream",
     "text": [
      "Name: Dr. Anya Sharma\n",
      "Affiliation: TechMed Innovations\n",
      "Role: AI Diagnostics Specialist\n",
      "Description: Focuses on the accuracy and reliability of LLMs in medical diagnosis, particularly in complex cases. Concerned about potential biases in algorithms and the need for rigorous validation.\n",
      "--------------------------------------------------\n",
      "Name: Marcus Chen\n",
      "Affiliation: Patient Care Advocacy Group\n",
      "Role: Patient Advocate\n",
      "Description: Dedicated to ensuring patient well-being and equitable access to care.  His primary focus is on how LLMs can improve patient communication, personalize treatment plans, and address healthcare disparities, while also being wary of privacy concerns and the potential for misdiagnosis.\n",
      "--------------------------------------------------\n",
      "Name: Professor Emily Carter\n",
      "Affiliation: Healthcare Ethics Institute\n",
      "Role: Medical Ethicist\n",
      "Description: Examines the ethical implications of using LLMs in patient care, including data privacy, algorithmic transparency, and the potential impact on the doctor-patient relationship.  She is interested in establishing guidelines for responsible AI implementation in medicine.\n",
      "--------------------------------------------------\n",
      "Name: Ava Patel\n",
      "Affiliation: Tech Hospital\n",
      "Role: AI Implementation Lead\n",
      "Description: Focused on the practical challenges of integrating large language models into existing hospital IT infrastructure, ensuring data security and patient privacy, and addressing interoperability issues with legacy systems.\n",
      "--------------------------------------------------\n",
      "Name: Dr. Ben Carter\n",
      "Affiliation: Medical AI Research Institute\n",
      "Role: AI Diagnostics Researcher\n",
      "Description: Dedicated to exploring the potential of large language models in improving the accuracy and efficiency of medical diagnoses, with a particular interest in rare diseases and complex cases.\n",
      "--------------------------------------------------\n",
      "Name: Maria Rodriguez\n",
      "Affiliation: Patient Advocacy Group\n",
      "Role: Patient Care Advocate\n",
      "Description: Passionate about ensuring that large language models are used ethically and responsibly in patient care, with a focus on accessibility, transparency, and minimizing bias in treatment recommendations.\n",
      "--------------------------------------------------\n"
     ]
    }
   ],
   "source": [
    "# Continue the graph execution\n",
    "for event in graph.stream(None, thread, stream_mode=\"values\"):\n",
    "    # Review\n",
    "    analysts = event.get('analysts', '')\n",
    "    if analysts:\n",
    "        for analyst in analysts:\n",
    "            print(f\"Name: {analyst.name}\")\n",
    "            print(f\"Affiliation: {analyst.affiliation}\")\n",
    "            print(f\"Role: {analyst.role}\")\n",
    "            print(f\"Description: {analyst.description}\")\n",
    "            print(\"-\" * 50)"
   ]
  },
  {
   "cell_type": "code",
   "execution_count": 10,
   "id": "a43ac322-5926-4932-8653-68206fec0d2c",
   "metadata": {},
   "outputs": [
    {
     "data": {
      "text/plain": [
       "{'configurable': {'thread_id': '1',\n",
       "  'checkpoint_ns': '',\n",
       "  'checkpoint_id': '1f0b7273-bdd2-64d9-8004-ec171a2a6592'}}"
      ]
     },
     "execution_count": 10,
     "metadata": {},
     "output_type": "execute_result"
    }
   ],
   "source": [
    "# If we are satisfied, then we simply supply no feedback\n",
    "further_feedack = None\n",
    "graph.update_state(thread, {\"human_analyst_feedback\": \n",
    "                            further_feedack}, as_node=\"human_feedback\")"
   ]
  },
  {
   "cell_type": "code",
   "execution_count": 11,
   "id": "ab034e65-aeee-4723-8d6d-74541b548425",
   "metadata": {},
   "outputs": [],
   "source": [
    "# Continue the graph execution to end\n",
    "for event in graph.stream(None, thread, stream_mode=\"updates\"):\n",
    "    print(\"--Node--\")\n",
    "    node_name = next(iter(event.keys()))\n",
    "    print(node_name)"
   ]
  },
  {
   "cell_type": "code",
   "execution_count": 12,
   "id": "2f204e8a-285c-4e46-8223-a695caec7764",
   "metadata": {},
   "outputs": [],
   "source": [
    "final_state = graph.get_state(thread)\n",
    "analysts = final_state.values.get('analysts')"
   ]
  },
  {
   "cell_type": "code",
   "execution_count": 13,
   "id": "59704086-cb3b-42e9-8395-37be6f0d44e9",
   "metadata": {},
   "outputs": [
    {
     "data": {
      "text/plain": [
       "()"
      ]
     },
     "execution_count": 13,
     "metadata": {},
     "output_type": "execute_result"
    }
   ],
   "source": [
    "final_state.next"
   ]
  },
  {
   "cell_type": "code",
   "execution_count": 14,
   "id": "95717ba3-aa00-48d6-bbb7-5fe4db5919bf",
   "metadata": {},
   "outputs": [
    {
     "name": "stdout",
     "output_type": "stream",
     "text": [
      "Name: Ava Patel\n",
      "Affiliation: Tech Hospital\n",
      "Role: AI Implementation Lead\n",
      "Description: Focused on the practical challenges of integrating large language models into existing hospital IT infrastructure, ensuring data security and patient privacy, and addressing interoperability issues with legacy systems.\n",
      "--------------------------------------------------\n",
      "Name: Dr. Ben Carter\n",
      "Affiliation: Medical AI Research Institute\n",
      "Role: AI Diagnostics Researcher\n",
      "Description: Dedicated to exploring the potential of large language models in improving the accuracy and efficiency of medical diagnoses, with a particular interest in rare diseases and complex cases.\n",
      "--------------------------------------------------\n",
      "Name: Maria Rodriguez\n",
      "Affiliation: Patient Advocacy Group\n",
      "Role: Patient Care Advocate\n",
      "Description: Passionate about ensuring that large language models are used ethically and responsibly in patient care, with a focus on accessibility, transparency, and minimizing bias in treatment recommendations.\n",
      "--------------------------------------------------\n"
     ]
    }
   ],
   "source": [
    "for analyst in analysts:\n",
    "    print(f\"Name: {analyst.name}\")\n",
    "    print(f\"Affiliation: {analyst.affiliation}\")\n",
    "    print(f\"Role: {analyst.role}\")\n",
    "    print(f\"Description: {analyst.description}\")\n",
    "    print(\"-\" * 50)"
   ]
  },
  {
   "cell_type": "markdown",
   "id": "7d2498e4-20ae-4503-9dd0-a4165132b7a7",
   "metadata": {},
   "source": [
    "## Conduct Interview\n",
    "\n",
    "### Generate Question\n",
    "\n",
    "The analyst will ask questions to the expert."
   ]
  },
  {
   "cell_type": "code",
   "execution_count": 19,
   "id": "e5d5f559-f42e-442b-87cd-dbf0a91abf9c",
   "metadata": {},
   "outputs": [],
   "source": [
    "\n",
    "import operator\n",
    "from typing import Annotated\n",
    "from langgraph.graph import MessagesState\n",
    "\n",
    "class InterviewState(MessagesState):\n",
    "    max_num_turns: int # Number turns of conversation\n",
    "    context: Annotated[list, operator.add] # Source docs\n",
    "    analyst: Analyst # Analyst asking questions\n",
    "    interviews: Annotated[list, operator.add] # Raw interview data for peer review\n",
    "\n",
    "class SearchQuery(BaseModel):\n",
    "    search_query: str = Field(None, description=\"Search query for retrieval.\")"
   ]
  },
  {
   "cell_type": "code",
   "execution_count": 20,
   "id": "1c2e71eb-07ad-4bea-aabc-dbaf551408c0",
   "metadata": {},
   "outputs": [],
   "source": [
    "\n",
    "question_instructions = \"\"\"You are an analyst tasked with interviewing an expert to learn about a specific topic. \n",
    "\n",
    "Your goal is boil down to interesting and specific insights related to your topic.\n",
    "\n",
    "1. Interesting: Insights that people will find surprising or non-obvious.\n",
    "        \n",
    "2. Specific: Insights that avoid generalities and include specific examples from the expert.\n",
    "\n",
    "Here is your topic of focus and set of goals: {goals}\n",
    "        \n",
    "Begin by introducing yourself using a name that fits your persona, and then ask your question.\n",
    "\n",
    "Continue to ask questions to drill down and refine your understanding of the topic.\n",
    "        \n",
    "When you are satisfied with your understanding, complete the interview with: \"Thank you so much for your help!\"\n",
    "\n",
    "Remember to stay in character throughout your response, reflecting the persona and goals provided to you.\"\"\"\n",
    "\n",
    "def generate_question(state: InterviewState):\n",
    "    \"\"\" Node to generate a question \"\"\"\n",
    "\n",
    "    # Get state\n",
    "    analyst = state[\"analyst\"]\n",
    "    messages = state[\"messages\"]\n",
    "\n",
    "    # Generate question \n",
    "    system_message = question_instructions.format(goals=analyst.persona)\n",
    "    question = llm.invoke([SystemMessage(content=system_message)]+messages)\n",
    "        \n",
    "    # Write messages to state\n",
    "    return {\"messages\": [question]}"
   ]
  },
  {
   "cell_type": "markdown",
   "id": "be2ff33a-6232-4a79-8a82-882a645394f5",
   "metadata": {
    "editable": true,
    "slideshow": {
     "slide_type": ""
    },
    "tags": []
   },
   "source": [
    "### Generate Answer: Parallelization\n",
    "\n",
    "The expert will gather information from multiple sources in parallel to answer questions.\n",
    "\n",
    "For example, we can use:\n",
    "\n",
    "* Specific web sites e.g., via [`WebBaseLoader`](https://docs.langchain.com/oss/python/integrations/document_loaders/web_base)\n",
    "* Indexed documents e.g., via [RAG](https://docs.langchain.com/oss/python/langchain/retrieval)\n",
    "* Web search\n",
    "* Wikipedia search\n",
    "\n",
    "You can try different web search tools, like [Tavily](https://tavily.com/)."
   ]
  },
  {
   "cell_type": "code",
   "execution_count": 18,
   "id": "606ea95b-e811-4299-8b66-835d4016c338",
   "metadata": {
    "editable": true,
    "slideshow": {
     "slide_type": ""
    },
    "tags": []
   },
   "outputs": [],
   "source": [
    "def _set_env(var: str):\n",
    "    if not os.environ.get(var):\n",
    "        os.environ[var] = getpass.getpass(f\"{var}: \")\n",
    "\n",
    "_set_env(\"TAVILY_API_KEY\")"
   ]
  },
  {
   "cell_type": "code",
   "execution_count": 17,
   "id": "c61ae74a-f838-4e97-8bd5-48ccd15b7789",
   "metadata": {},
   "outputs": [],
   "source": [
    "from langchain_tavily import TavilySearch\n",
    "from langchain_community.document_loaders import WikipediaLoader\n",
    "from langchain_community.utilities import PubMedAPIWrapper\n",
    "\n",
    "tavily_search = TavilySearch(max_results=3)\n",
    "pubmed = PubMedAPIWrapper()"
   ]
  },
  {
   "cell_type": "markdown",
   "id": "06cb1603",
   "metadata": {},
   "source": [
    "Now, we create nodes to search the web and wikipedia.\n",
    "\n",
    "We'll also create a node to answer analyst questions.\n",
    "\n",
    "Finally, we'll create nodes to save the full interview and to write a summary (\"section\") of the interview."
   ]
  },
  {
   "cell_type": "code",
   "execution_count": 27,
   "id": "ce81f940-d9c8-4021-add7-3197d6ca24c4",
   "metadata": {},
   "outputs": [
    {
     "name": "stdout",
     "output_type": "stream",
     "text": [
      "Collecting google-search-results\n",
      "  Downloading google_search_results-2.4.2.tar.gz (18 kB)\n",
      "  Preparing metadata (setup.py): started\n",
      "  Preparing metadata (setup.py): finished with status 'done'\n",
      "Requirement already satisfied: requests in c:\\users\\riyaa\\anaconda3\\lib\\site-packages (from google-search-results) (2.32.5)\n",
      "Requirement already satisfied: charset_normalizer<4,>=2 in c:\\users\\riyaa\\anaconda3\\lib\\site-packages (from requests->google-search-results) (3.3.2)\n",
      "Requirement already satisfied: idna<4,>=2.5 in c:\\users\\riyaa\\anaconda3\\lib\\site-packages (from requests->google-search-results) (3.7)\n",
      "Requirement already satisfied: urllib3<3,>=1.21.1 in c:\\users\\riyaa\\anaconda3\\lib\\site-packages (from requests->google-search-results) (2.3.0)\n",
      "Requirement already satisfied: certifi>=2017.4.17 in c:\\users\\riyaa\\anaconda3\\lib\\site-packages (from requests->google-search-results) (2025.10.5)\n",
      "Building wheels for collected packages: google-search-results\n",
      "  Building wheel for google-search-results (setup.py): started\n",
      "  Building wheel for google-search-results (setup.py): finished with status 'done'\n",
      "  Created wheel for google-search-results: filename=google_search_results-2.4.2-py3-none-any.whl size=32083 sha256=01055770f8afcda3553791769c517c27604c87e2968c3f8dbddc5ac5474b8abe\n",
      "  Stored in directory: c:\\users\\riyaa\\appdata\\local\\pip\\cache\\wheels\\44\\af\\e2\\dde9fab6f1876485b72b35e9cd48da741da67d20e617c3b971\n",
      "Successfully built google-search-results\n",
      "Installing collected packages: google-search-results\n",
      "Successfully installed google-search-results-2.4.2\n"
     ]
    },
    {
     "name": "stderr",
     "output_type": "stream",
     "text": [
      "  DEPRECATION: Building 'google-search-results' using the legacy setup.py bdist_wheel mechanism, which will be removed in a future version. pip 25.3 will enforce this behaviour change. A possible replacement is to use the standardized build interface by setting the `--use-pep517` option, (possibly combined with `--no-build-isolation`), or adding a `pyproject.toml` file to the source tree of 'google-search-results'. Discussion can be found at https://github.com/pypa/pip/issues/6334\n"
     ]
    }
   ],
   "source": [
    "!pip install google-search-results"
   ]
  },
  {
   "cell_type": "code",
   "execution_count": 34,
   "id": "9c863768-2278-415b-aef1-96fd18c1b1cb",
   "metadata": {},
   "outputs": [
    {
     "data": {
      "image/png": "[encoded data removed]",
      "text/plain": [
       "<IPython.core.display.Image object>"
      ]
     },
     "metadata": {},
     "output_type": "display_data"
    }
   ],
   "source": [
    "# Kernel 15\n",
    "from langchain_core.messages import get_buffer_string\n",
    "from langchain_community.document_loaders import ArxivLoader\n",
    "\n",
    "# Search query writing\n",
    "search_instructions = SystemMessage(content=f\"\"\"You will be given a conversation between an analyst and an expert. \n",
    "\n",
    "Your goal is to generate a well-structured query for use in retrieval and / or web-search related to the conversation.\n",
    "        \n",
    "First, analyze the full conversation.\n",
    "\n",
    "Pay particular attention to the final question posed by the analyst.\n",
    "\n",
    "Convert this final question into a well-structured web search query\"\"\")\n",
    "\n",
    "def search_web(state: InterviewState):\n",
    "    \n",
    "    \"\"\" Retrieve docs from web search \"\"\"\n",
    "\n",
    "    # Search query\n",
    "    structured_llm = llm.with_structured_output(SearchQuery)\n",
    "    search_query = structured_llm.invoke([search_instructions]+state['messages'])\n",
    "    \n",
    "    # Search\n",
    "    data = tavily_search.invoke({\"query\": search_query.search_query})\n",
    "    search_docs = data.get(\"results\", data)\n",
    "    \n",
    "    # Format\n",
    "    formatted_search_docs = \"\\n\\n---\\n\\n\".join(\n",
    "        [\n",
    "            f'<Document href=\"{doc[\"url\"]}\"/>\\n{doc[\"content\"]}\\n</Document>'\n",
    "            for doc in search_docs\n",
    "        ]\n",
    "    )\n",
    "\n",
    "    return {\"context\": [formatted_search_docs]} \n",
    "\n",
    "def search_wikipedia(state: InterviewState):\n",
    "    \n",
    "    \"\"\" Retrieve docs from wikipedia \"\"\"\n",
    "\n",
    "    # Search query\n",
    "    structured_llm = llm.with_structured_output(SearchQuery)\n",
    "    search_query = structured_llm.invoke([search_instructions]+state['messages'])\n",
    "    \n",
    "    # Search\n",
    "    search_docs = WikipediaLoader(query=search_query.search_query, \n",
    "                                  load_max_docs=2).load()\n",
    "\n",
    "    # Format\n",
    "    formatted_search_docs = \"\\n\\n---\\n\\n\".join(\n",
    "        [\n",
    "            f'<Document source=\"{doc.metadata[\"source\"]}\" page=\"{doc.metadata.get(\"page\", \"\")}\"/>\\n{doc.page_content}\\n</Document>'\n",
    "            for doc in search_docs\n",
    "        ]\n",
    "    )\n",
    "\n",
    "    return {\"context\": [formatted_search_docs]}\n",
    "\n",
    "def search_pubmed(state: InterviewState):\n",
    "    \n",
    "    \"\"\" Retrieve docs from PubMed \"\"\"\n",
    "\n",
    "    # Search query\n",
    "    structured_llm = llm.with_structured_output(SearchQuery)\n",
    "    search_query = structured_llm.invoke([search_instructions]+state['messages'])\n",
    "    \n",
    "    # Search\n",
    "    search_results = pubmed.run(search_query.search_query)\n",
    "    \n",
    "    # Format\n",
    "    formatted_search_docs = f'<Document source=\"PubMed\"/>\\n{search_results}\\n</Document>'\n",
    "\n",
    "    return {\"context\": [formatted_search_docs]}\n",
    "\n",
    "def search_arxiv(state: InterviewState):\n",
    "    \n",
    "    \"\"\" Retrieve docs from arXiv \"\"\"\n",
    "\n",
    "    # Search query\n",
    "    structured_llm = llm.with_structured_output(SearchQuery)\n",
    "    search_query = structured_llm.invoke([search_instructions]+state['messages'])\n",
    "    \n",
    "    try:\n",
    "        # Search arXiv\n",
    "        search_docs = ArxivLoader(query=search_query.search_query, load_max_docs=2).load()\n",
    "        \n",
    "        # Format\n",
    "        formatted_search_docs = \"\\n\\n---\\n\\n\".join(\n",
    "            [\n",
    "                f'<Document source=\"arXiv\" id=\"{doc.metadata.get(\"entry_id\", \"\")}\"/>\\n{doc.page_content[:1000]}\\n</Document>'\n",
    "                for doc in search_docs\n",
    "            ]\n",
    "        )\n",
    "    except Exception as e:\n",
    "        # If search fails, return empty result\n",
    "        formatted_search_docs = f'<Document source=\"arXiv\"/>\\nNo results found for this query.\\n</Document>'\n",
    "\n",
    "    return {\"context\": [formatted_search_docs]}\n",
    "\n",
    "answer_instructions = \"\"\"You are an expert being interviewed by an analyst.\n",
    "\n",
    "Here is analyst area of focus: {goals}. \n",
    "        \n",
    "You goal is to answer a question posed by the interviewer.\n",
    "\n",
    "To answer question, use this context:\n",
    "        \n",
    "{context}\n",
    "\n",
    "When answering questions, follow these guidelines:\n",
    "        \n",
    "1. Use only the information provided in the context. \n",
    "        \n",
    "2. Do not introduce external information or make assumptions beyond what is explicitly stated in the context.\n",
    "\n",
    "3. The context contain sources at the topic of each individual document.\n",
    "\n",
    "4. Include these sources your answer next to any relevant statements. For example, for source # 1 use [1]. \n",
    "\n",
    "5. List your sources in order at the bottom of your answer. [1] Source 1, [2] Source 2, etc\n",
    "        \n",
    "6. If the source is: <Document source=\"assistant/docs/llama3_1.pdf\" page=\"7\"/>' then just list: \n",
    "        \n",
    "[1] assistant/docs/llama3_1.pdf, page 7 \n",
    "        \n",
    "And skip the addition of the brackets as well as the Document source preamble in your citation.\"\"\"\n",
    "\n",
    "def generate_answer(state: InterviewState):\n",
    "    \n",
    "    \"\"\" Node to answer a question \"\"\"\n",
    "\n",
    "    # Get state\n",
    "    analyst = state[\"analyst\"]\n",
    "    messages = state[\"messages\"]\n",
    "    context = state[\"context\"]\n",
    "\n",
    "    # Answer question\n",
    "    system_message = answer_instructions.format(goals=analyst.persona, context=context)\n",
    "    answer = llm.invoke([SystemMessage(content=system_message)]+messages)\n",
    "            \n",
    "    # Name the message as coming from the expert\n",
    "    answer.name = \"expert\"\n",
    "    \n",
    "    # Append it to state\n",
    "    return {\"messages\": [answer]}\n",
    "\n",
    "def save_interview(state: InterviewState):\n",
    "    \n",
    "    \"\"\" Save interviews \"\"\"\n",
    "\n",
    "    # Get messages\n",
    "    messages = state[\"messages\"]\n",
    "    analyst = state[\"analyst\"]\n",
    "    context = state[\"context\"]\n",
    "    \n",
    "    # Convert interview to a string\n",
    "    interview = get_buffer_string(messages)\n",
    "    \n",
    "    # Package interview with analyst info and context\n",
    "    interview_data = {\n",
    "        \"analyst\": analyst,\n",
    "        \"interview\": interview,\n",
    "        \"context\": context\n",
    "    }\n",
    "    \n",
    "    # Save to interviews key\n",
    "    return {\"interviews\": [interview_data]}\n",
    "\n",
    "def route_messages(state: InterviewState, \n",
    "                   name: str = \"expert\"):\n",
    "\n",
    "    \"\"\" Route between question and answer \"\"\"\n",
    "    \n",
    "    # Get messages\n",
    "    messages = state[\"messages\"]\n",
    "    max_num_turns = state.get('max_num_turns',2)\n",
    "\n",
    "    # Check the number of expert answers \n",
    "    num_responses = len(\n",
    "        [m for m in messages if isinstance(m, AIMessage) and m.name == name]\n",
    "    )\n",
    "\n",
    "    # End if expert has answered more than the max turns\n",
    "    if num_responses >= max_num_turns:\n",
    "        return 'save_interview'\n",
    "\n",
    "    # This router is run after each question - answer pair \n",
    "    # Get the last question asked to check if it signals the end of discussion\n",
    "    last_question = messages[-2]\n",
    "    \n",
    "    if \"Thank you so much for your help\" in last_question.content:\n",
    "        return 'save_interview'\n",
    "    return \"ask_question\"\n",
    "\n",
    "# Add nodes and edges \n",
    "interview_builder = StateGraph(InterviewState)\n",
    "interview_builder.add_node(\"ask_question\", generate_question)\n",
    "interview_builder.add_node(\"search_web\", search_web)\n",
    "interview_builder.add_node(\"search_wikipedia\", search_wikipedia)\n",
    "interview_builder.add_node(\"search_pubmed\", search_pubmed)\n",
    "interview_builder.add_node(\"search_arxiv\", search_arxiv)\n",
    "interview_builder.add_node(\"answer_question\", generate_answer)\n",
    "interview_builder.add_node(\"save_interview\", save_interview)\n",
    "\n",
    "# Flow\n",
    "interview_builder.add_edge(START, \"ask_question\")\n",
    "interview_builder.add_edge(\"ask_question\", \"search_web\")\n",
    "interview_builder.add_edge(\"ask_question\", \"search_wikipedia\")\n",
    "interview_builder.add_edge(\"ask_question\", \"search_pubmed\")\n",
    "interview_builder.add_edge(\"ask_question\", \"search_arxiv\")\n",
    "interview_builder.add_edge(\"search_web\", \"answer_question\")\n",
    "interview_builder.add_edge(\"search_wikipedia\", \"answer_question\")\n",
    "interview_builder.add_edge(\"search_pubmed\", \"answer_question\")\n",
    "interview_builder.add_edge(\"search_arxiv\", \"answer_question\")\n",
    "interview_builder.add_conditional_edges(\"answer_question\", route_messages,['ask_question','save_interview'])\n",
    "interview_builder.add_edge(\"save_interview\", END)\n",
    "\n",
    "# Interview \n",
    "memory = MemorySaver()\n",
    "interview_graph = interview_builder.compile(checkpointer=memory).with_config(run_name=\"Conduct Interviews\")\n",
    "\n",
    "# View\n",
    "display(Image(interview_graph.get_graph().draw_mermaid_png()))"
   ]
  },
  {
   "cell_type": "code",
   "execution_count": 22,
   "id": "50f382f1-6e93-48d0-a44a-1094d26ccb1e",
   "metadata": {},
   "outputs": [
    {
     "data": {
      "text/plain": [
       "Analyst(affiliation='Tech Hospital', name='Ava Patel', role='AI Implementation Lead', description='Focused on the practical challenges of integrating large language models into existing hospital IT infrastructure, ensuring data security and patient privacy, and addressing interoperability issues with legacy systems.')"
      ]
     },
     "execution_count": 22,
     "metadata": {},
     "output_type": "execute_result"
    }
   ],
   "source": [
    "# Pick one analyst\n",
    "analysts[0]"
   ]
  },
  {
   "cell_type": "markdown",
   "id": "3750ac4f-f458-4b2d-8bad-32ce34895758",
   "metadata": {},
   "source": [
    "Here, we run the interview passing an index of the llama3.1 paper, which is related to our topic."
   ]
  },
  {
   "cell_type": "code",
   "execution_count": 35,
   "id": "b2242d4e-8430-4de9-8cf7-3ad2f9a22b28",
   "metadata": {},
   "outputs": [
    {
     "name": "stdout",
     "output_type": "stream",
     "text": [
      "Interview completed for: Ava Patel\n"
     ]
    }
   ],
   "source": [
    "\n",
    "from IPython.display import Markdown\n",
    "messages = [HumanMessage(f\"So you said you were writing an article on {topic}?\")]\n",
    "thread = {\"configurable\": {\"thread_id\": \"1\"}}\n",
    "interview = interview_graph.invoke({\"analyst\": analysts[0], \"messages\": messages, \"max_num_turns\": 2}, thread)\n",
    "# Note: interviews now returns interview data dict, not sections\n",
    "print(\"Interview completed for:\", interview['interviews'][0]['analyst'].name)"
   ]
  },
  {
   "cell_type": "markdown",
   "id": "3b739e87-68bb-4e96-a86a-704e84240a6c",
   "metadata": {},
   "source": [
    "### Parallelze interviews: Map-Reduce\n",
    "\n",
    "We parallelize the interviews via the `Send()` API, a map step.\n",
    "\n",
    "We combine them into the report body in a reduce step.\n",
    "\n",
    "### Finalize\n",
    "\n",
    "We add a final step to write an intro and conclusion to the final report."
   ]
  },
  {
   "cell_type": "code",
   "execution_count": 39,
   "id": "6a0042f9-5b9f-441a-9e8d-7d8189f44140",
   "metadata": {},
   "outputs": [],
   "source": [
    "class ResearchGraphState(TypedDict):\n",
    "    topic: str # Research topic\n",
    "    max_analysts: int # Number of analysts\n",
    "    human_analyst_feedback: str # Human feedback\n",
    "    analysts: List[Analyst] # Analyst asking questions\n",
    "    sections: Annotated[list, operator.add] # Send() API key\n",
    "    interviews: Annotated[list, operator.add] # Interview results  \n",
    "    peer_reviews: Annotated[list, operator.add] # Peer review results\n",
    "    introduction: str # Introduction for the final report\n",
    "    content: str # Content for the final report\n",
    "    conclusion: str # Conclusion for the final report\n",
    "    executive_summary: str # Executive summary with confidence ratings\n",
    "    final_report: str # Final report"
   ]
  },
  {
   "cell_type": "code",
   "execution_count": 41,
   "id": "c2224592-d2ff-469d-97bd-928809f896d7",
   "metadata": {},
   "outputs": [
    {
     "data": {
      "image/png": "[encoded data removed]",
      "text/plain": [
       "<IPython.core.display.Image object>"
      ]
     },
     "metadata": {},
     "output_type": "display_data"
    }
   ],
   "source": [
    "\n",
    "import operator\n",
    "from typing import Annotated\n",
    "from langgraph.types import Send\n",
    "\n",
    "class ResearchGraphState(TypedDict):\n",
    "    topic: str # Research topic\n",
    "    max_analysts: int # Number of analysts\n",
    "    human_analyst_feedback: str # Human feedback\n",
    "    analysts: List[Analyst] # Analyst asking questions\n",
    "    sections: Annotated[list, operator.add] # Send() API key\n",
    "    interviews: Annotated[list, operator.add] # Interview results  \n",
    "    peer_reviews: Annotated[list, operator.add] # Peer review results\n",
    "    introduction: str # Introduction for the final report\n",
    "    content: str # Content for the final report\n",
    "    conclusion: str # Conclusion for the final report\n",
    "    executive_summary: str # Executive summary with confidence ratings\n",
    "    final_report: str # Final report\n",
    "\n",
    "def initiate_all_interviews(state: ResearchGraphState):\n",
    "    \"\"\" This is the \"map\" step where we run each interview sub-graph using Send API \"\"\"    \n",
    "\n",
    "    # Check if human feedback\n",
    "    human_analyst_feedback=state.get('human_analyst_feedback')\n",
    "    if human_analyst_feedback:\n",
    "        # Return to create_analysts\n",
    "        return \"create_analysts\"\n",
    "\n",
    "    # Otherwise kick off interviews in parallel via Send() API\n",
    "    else:\n",
    "        topic = state[\"topic\"]\n",
    "        return [Send(\"conduct_interview\", {\"analyst\": analyst,\n",
    "                                           \"messages\": [HumanMessage(\n",
    "                                               content=f\"So you said you were writing an article on {topic}?\"\n",
    "                                           )\n",
    "                                                       ]}) for analyst in state[\"analysts\"]]\n",
    "\n",
    "peer_review_instructions = \"\"\"You are an analyst reviewing findings from a colleague's research.\n",
    "\n",
    "Your colleague: {peer_name} ({peer_role})\n",
    "Their research focus: {peer_focus}\n",
    "\n",
    "Their interview transcript and sources:\n",
    "{peer_interview}\n",
    "\n",
    "Your own research focus: {own_focus}\n",
    "\n",
    "Provide a brief peer review (150-200 words) addressing:\n",
    "1. How their findings relate to or complement your research area\n",
    "2. Key insights that strengthen the overall research\n",
    "3. Any gaps, conflicts, or concerns you identify\n",
    "4. Confidence level in their findings (HIGH/MEDIUM/LOW) with brief justification\n",
    "\n",
    "Be constructive and focus on synthesis opportunities.\"\"\"\n",
    "\n",
    "def conduct_peer_review(state: ResearchGraphState):\n",
    "    \"\"\" Analysts review each other's raw interview findings \"\"\"\n",
    "    \n",
    "    interviews = state[\"interviews\"]\n",
    "    analysts = state[\"analysts\"]\n",
    "    \n",
    "    peer_reviews = []\n",
    "    \n",
    "    # Each analyst reviews all other analysts' interviews\n",
    "    for i, reviewer in enumerate(analysts):\n",
    "        for j, interview_data in enumerate(interviews):\n",
    "            reviewed_analyst = interview_data[\"analyst\"]\n",
    "            # Don't review your own work\n",
    "            if reviewer.name != reviewed_analyst.name:\n",
    "                system_message = peer_review_instructions.format(\n",
    "                    peer_name=reviewed_analyst.name,\n",
    "                    peer_role=reviewed_analyst.role,\n",
    "                    peer_focus=reviewed_analyst.description,\n",
    "                    peer_interview=interview_data[\"interview\"],\n",
    "                    own_focus=reviewer.description\n",
    "                )\n",
    "                review = llm.invoke([SystemMessage(content=system_message)]+[HumanMessage(content=\"Provide your peer review.\")])\n",
    "                peer_reviews.append({\n",
    "                    \"reviewer\": reviewer.name,\n",
    "                    \"reviewed\": reviewed_analyst.name,\n",
    "                    \"review\": review.content\n",
    "                })\n",
    "    \n",
    "    return {\"peer_reviews\": peer_reviews}\n",
    "\n",
    "section_writer_instructions = \"\"\"You are an expert technical writer. \n",
    "            \n",
    "Your task is to create a short, easily digestible section of a report based on interview findings and peer feedback.\n",
    "\n",
    "1. Analyze the interview transcript and source documents.\n",
    "\n",
    "2. Consider the peer reviews which may highlight:\n",
    "   - Connections to other research areas\n",
    "   - Potential conflicts or gaps\n",
    "   - Confidence levels in findings\n",
    "\n",
    "3. Create a report structure using markdown formatting:\n",
    "- Use ## for the section title\n",
    "- Use ### for sub-section headers\n",
    "        \n",
    "4. Write the report following this structure:\n",
    "a. Title (## header)\n",
    "b. Summary (### header)\n",
    "c. Sources (### header)\n",
    "\n",
    "5. Make your title engaging based upon the focus area: {focus}\n",
    "\n",
    "6. For the summary section:\n",
    "- Set up summary with general background / context\n",
    "- Emphasize what is novel, interesting, or surprising\n",
    "- Address any concerns raised in peer reviews\n",
    "- Acknowledge areas of uncertainty if identified\n",
    "- Create a numbered list of source documents as you use them\n",
    "- Do not mention analyst or expert names\n",
    "- Aim for approximately 400 words maximum\n",
    "- Use numbered sources in your report (e.g., [1], [2])\n",
    "        \n",
    "7. In the Sources section:\n",
    "- Include all sources used\n",
    "- Provide full links to relevant websites or specific document paths\n",
    "- Separate each source by a newline with two spaces at the end\n",
    "- Combine redundant sources\n",
    "\n",
    "8. Final review:\n",
    "- Ensure the report follows the required structure\n",
    "- Include no preamble before the title\n",
    "- Check that all guidelines have been followed\n",
    "\n",
    "Interview transcript:\n",
    "{interview}\n",
    "\n",
    "Source documents:\n",
    "{context}\n",
    "\n",
    "Peer reviews of this research:\n",
    "{peer_reviews}\"\"\"\n",
    "\n",
    "def write_sections(state: ResearchGraphState):\n",
    "    \"\"\" Write sections incorporating peer feedback \"\"\"\n",
    "    \n",
    "    interviews = state[\"interviews\"]\n",
    "    peer_reviews = state.get(\"peer_reviews\", [])\n",
    "    \n",
    "    sections = []\n",
    "    \n",
    "    for interview_data in interviews:\n",
    "        analyst = interview_data[\"analyst\"]\n",
    "        interview = interview_data[\"interview\"]\n",
    "        context = interview_data[\"context\"]\n",
    "        \n",
    "        # Get peer reviews for this analyst\n",
    "        relevant_reviews = [pr[\"review\"] for pr in peer_reviews if pr[\"reviewed\"] == analyst.name]\n",
    "        formatted_reviews = \"\\n\\n\".join(relevant_reviews) if relevant_reviews else \"No peer reviews available.\"\n",
    "        \n",
    "        # Write section\n",
    "        system_message = section_writer_instructions.format(\n",
    "            focus=analyst.description,\n",
    "            interview=interview,\n",
    "            context=context,\n",
    "            peer_reviews=formatted_reviews\n",
    "        )\n",
    "        section = llm.invoke([SystemMessage(content=system_message)]+[HumanMessage(content=\"Write the section incorporating peer feedback.\")])\n",
    "        sections.append(section.content)\n",
    "    \n",
    "    return {\"sections\": sections}\n",
    "\n",
    "report_writer_instructions = \"\"\"You are a technical writer creating a report on this overall topic: \n",
    "\n",
    "{topic}\n",
    "    \n",
    "You have a team of analysts. Each analyst:\n",
    "1. Conducted an interview with an expert\n",
    "2. Received peer reviews from colleagues\n",
    "3. Wrote a memo incorporating that feedback\n",
    "\n",
    "Your task: \n",
    "\n",
    "1. You will be given memos that already incorporate peer review insights.\n",
    "2. Think carefully about the insights from each memo.\n",
    "3. Consolidate these into a crisp overall summary that ties together central ideas. \n",
    "4. Summarize the central points into a cohesive single narrative.\n",
    "\n",
    "To format your report:\n",
    " \n",
    "1. Use markdown formatting. \n",
    "2. Include no pre-amble for the report.\n",
    "3. Use no sub-heading. \n",
    "4. Start your report with a single title header: ## Insights\n",
    "5. Do not mention any analyst names in your report.\n",
    "6. Preserve any citations in the memos, which will be annotated in brackets, for example [1] or [2].\n",
    "7. Create a final, consolidated list of sources and add to a Sources section with the `## Sources` header.\n",
    "8. List your sources in order and do not repeat.\n",
    "\n",
    "[1] Source 1\n",
    "[2] Source 2\n",
    "\n",
    "Here are the memos from your analysts: \n",
    "\n",
    "{context}\"\"\"\n",
    "\n",
    "def write_report(state: ResearchGraphState):\n",
    "    # Full set of sections\n",
    "    sections = state[\"sections\"]\n",
    "    topic = state[\"topic\"]\n",
    "\n",
    "    # Concat all sections together\n",
    "    formatted_str_sections = \"\\n\\n\".join([f\"{section}\" for section in sections])\n",
    "    \n",
    "    # Summarize the sections into a final report\n",
    "    system_message = report_writer_instructions.format(\n",
    "        topic=topic, \n",
    "        context=formatted_str_sections\n",
    "    )    \n",
    "    report = llm.invoke([SystemMessage(content=system_message)]+[HumanMessage(content=f\"Write a report based upon these memos.\")]) \n",
    "    return {\"content\": report.content}\n",
    "\n",
    "intro_conclusion_instructions = \"\"\"You are a technical writer finishing a report on {topic}\n",
    "\n",
    "You will be given all of the sections of the report.\n",
    "\n",
    "You job is to write a crisp and compelling introduction or conclusion section.\n",
    "\n",
    "The user will instruct you whether to write the introduction or conclusion.\n",
    "\n",
    "Include no pre-amble for either section.\n",
    "\n",
    "Target around 100 words, crisply previewing (for introduction) or recapping (for conclusion) all of the sections of the report.\n",
    "\n",
    "Use markdown formatting. \n",
    "\n",
    "For your introduction, create a compelling title and use the # header for the title.\n",
    "\n",
    "For your introduction, use ## Introduction as the section header. \n",
    "\n",
    "For your conclusion, use ## Conclusion as the section header.\n",
    "\n",
    "Here are the sections to reflect on for writing: {formatted_str_sections}\"\"\"\n",
    "\n",
    "def write_introduction(state: ResearchGraphState):\n",
    "    # Full set of sections\n",
    "    sections = state[\"sections\"]\n",
    "    topic = state[\"topic\"]\n",
    "\n",
    "    # Concat all sections together\n",
    "    formatted_str_sections = \"\\n\\n\".join([f\"{section}\" for section in sections])\n",
    "    \n",
    "    # Summarize the sections into a final report\n",
    "    \n",
    "    instructions = intro_conclusion_instructions.format(topic=topic, formatted_str_sections=formatted_str_sections)    \n",
    "    intro = llm.invoke([instructions]+[HumanMessage(content=f\"Write the report introduction\")]) \n",
    "    return {\"introduction\": intro.content}\n",
    "\n",
    "def write_conclusion(state: ResearchGraphState):\n",
    "    # Full set of sections\n",
    "    sections = state[\"sections\"]\n",
    "    topic = state[\"topic\"]\n",
    "\n",
    "    # Concat all sections together\n",
    "    formatted_str_sections = \"\\n\\n\".join([f\"{section}\" for section in sections])\n",
    "    \n",
    "    # Summarize the sections into a final report\n",
    "    \n",
    "    instructions = intro_conclusion_instructions.format(topic=topic, formatted_str_sections=formatted_str_sections)    \n",
    "    conclusion = llm.invoke([instructions]+[HumanMessage(content=f\"Write the report conclusion\")]) \n",
    "    return {\"conclusion\": conclusion.content}\n",
    "\n",
    "executive_summary_instructions = \"\"\"You are creating an executive summary with confidence ratings for a research report on {topic}.\n",
    "\n",
    "Based on the full report content and the collaborative research process, create a brief executive summary (150-200 words) that includes:\n",
    "\n",
    "1. 3-5 key findings with confidence levels\n",
    "2. Critical insights that surprised or stood out\n",
    "3. Areas of uncertainty or conflicting evidence identified during peer review\n",
    "\n",
    "For each key finding, assign a confidence level:\n",
    "- HIGH: Strongly supported by multiple sources and analyst agreement\n",
    "- MEDIUM: Supported but with some gaps or minor conflicts noted\n",
    "- LOW: Limited evidence or significant uncertainty identified\n",
    "\n",
    "Format as:\n",
    "## Executive Summary\n",
    "\n",
    "**Key Finding 1** (Confidence: HIGH/MEDIUM/LOW)\n",
    "Brief description\n",
    "\n",
    "**Key Finding 2** (Confidence: HIGH/MEDIUM/LOW)\n",
    "Brief description\n",
    "\n",
    "Continue for all findings, then add a brief note on overall research confidence and collaboration quality.\n",
    "\n",
    "Here is the full report content:\n",
    "{content}\"\"\"\n",
    "\n",
    "def write_executive_summary(state: ResearchGraphState):\n",
    "    content = state[\"content\"]\n",
    "    topic = state[\"topic\"]\n",
    "    \n",
    "    instructions = executive_summary_instructions.format(\n",
    "        topic=topic,\n",
    "        content=content\n",
    "    )\n",
    "    \n",
    "    exec_summary = llm.invoke([SystemMessage(content=instructions)]+[HumanMessage(content=\"Write the executive summary with confidence ratings.\")])\n",
    "    \n",
    "    return {\"executive_summary\": exec_summary.content}\n",
    "\n",
    "def finalize_report(state: ResearchGraphState):\n",
    "    \"\"\" The is the \"reduce\" step where we gather all the sections, combine them, and reflect on them to write the intro/conclusion \"\"\"\n",
    "    # Save full final report\n",
    "    content = state[\"content\"]\n",
    "    if content.startswith(\"## Insights\"):\n",
    "        content = content.strip(\"## Insights\")\n",
    "    if \"## Sources\" in content:\n",
    "        try:\n",
    "            content, sources = content.split(\"\\n## Sources\\n\")\n",
    "        except:\n",
    "            sources = None\n",
    "    else:\n",
    "        sources = None\n",
    "\n",
    "    exec_summary = state.get(\"executive_summary\", \"\")\n",
    "    final_report = state[\"introduction\"] + \"\\n\\n---\\n\\n\" + exec_summary + \"\\n\\n---\\n\\n\" + content + \"\\n\\n---\\n\\n\" + state[\"conclusion\"]\n",
    "    if sources is not None:\n",
    "        final_report += \"\\n\\n## Sources\\n\" + sources\n",
    "    return {\"final_report\": final_report}\n",
    "\n",
    "# Add nodes and edges \n",
    "builder = StateGraph(ResearchGraphState)\n",
    "builder.add_node(\"create_analysts\", create_analysts)\n",
    "builder.add_node(\"human_feedback\", human_feedback)\n",
    "builder.add_node(\"conduct_interview\", interview_builder.compile())\n",
    "builder.add_node(\"peer_review\", conduct_peer_review)\n",
    "builder.add_node(\"write_sections\", write_sections)\n",
    "builder.add_node(\"write_report\",write_report)\n",
    "builder.add_node(\"write_introduction\",write_introduction)\n",
    "builder.add_node(\"write_conclusion\",write_conclusion)\n",
    "builder.add_node(\"write_executive_summary\",write_executive_summary)\n",
    "builder.add_node(\"finalize_report\",finalize_report)\n",
    "\n",
    "# Logic\n",
    "builder.add_edge(START, \"create_analysts\")\n",
    "builder.add_edge(\"create_analysts\", \"human_feedback\")\n",
    "builder.add_conditional_edges(\"human_feedback\", initiate_all_interviews, [\"create_analysts\", \"conduct_interview\"])\n",
    "builder.add_edge(\"conduct_interview\", \"peer_review\")\n",
    "builder.add_edge(\"peer_review\", \"write_sections\")\n",
    "builder.add_edge(\"write_sections\", \"write_report\")\n",
    "builder.add_edge(\"write_sections\", \"write_introduction\")\n",
    "builder.add_edge(\"write_sections\", \"write_conclusion\")\n",
    "builder.add_edge(\"write_report\", \"write_executive_summary\")\n",
    "builder.add_edge([\"write_conclusion\", \"write_executive_summary\", \"write_introduction\"], \"finalize_report\")\n",
    "builder.add_edge(\"finalize_report\", END)\n",
    "\n",
    "# Compile\n",
    "memory = MemorySaver()\n",
    "graph = builder.compile(interrupt_before=['human_feedback'], checkpointer=memory)\n",
    "display(Image(graph.get_graph(xray=1).draw_mermaid_png()))"
   ]
  },
  {
   "cell_type": "markdown",
   "id": "1b64ba9a-2b5e-40e1-a778-0f635aa3f6d0",
   "metadata": {},
   "source": [
    "Let's ask an open-ended question about LangGraph."
   ]
  },
  {
   "cell_type": "code",
   "execution_count": 42,
   "id": "362932ee-4106-4a2d-a32d-b812eafcf9df",
   "metadata": {},
   "outputs": [
    {
     "name": "stdout",
     "output_type": "stream",
     "text": [
      "Name: Dr. Anya Sharma\n",
      "Affiliation: TechMed Innovations\n",
      "Role: AI Ethics Consultant\n",
      "Description: Focuses on the ethical implications of using LLMs in medical diagnosis, ensuring patient privacy, data security, and algorithmic fairness.\n",
      "--------------------------------------------------\n",
      "Name: Dr. Ben Carter\n",
      "Affiliation: Global Health Analytics\n",
      "Role: Medical Data Analyst\n",
      "Description: Concerned with the accuracy and reliability of LLMs in diagnosing diseases, particularly in underserved communities with limited access to healthcare resources.\n",
      "--------------------------------------------------\n",
      "Name: Ms. Chloe Davis\n",
      "Affiliation: Patient Care Advocates\n",
      "Role: Patient Advocate\n",
      "Description: Dedicated to ensuring that LLMs enhance patient care and improve patient outcomes, while also emphasizing the importance of human oversight and personalized treatment plans.\n",
      "--------------------------------------------------\n"
     ]
    }
   ],
   "source": [
    "\n",
    "# Inputs\n",
    "max_analysts = 3 \n",
    "topic = \"Large language models in medical diagnosis and patient care\"\n",
    "thread = {\"configurable\": {\"thread_id\": \"1\"}}\n",
    "# Run the graph until the first interruption\n",
    "for event in graph.stream({\"topic\":topic,\n",
    "                           \"max_analysts\":max_analysts}, \n",
    "                          thread, \n",
    "                          stream_mode=\"values\"):\n",
    "    \n",
    "    analysts = event.get('analysts', '')\n",
    "    if analysts:\n",
    "        for analyst in analysts:\n",
    "            print(f\"Name: {analyst.name}\")\n",
    "            print(f\"Affiliation: {analyst.affiliation}\")\n",
    "            print(f\"Role: {analyst.role}\")\n",
    "            print(f\"Description: {analyst.description}\")\n",
    "            print(\"-\" * 50)"
   ]
  },
  {
   "cell_type": "code",
   "execution_count": 43,
   "id": "ac521a5f-5a4f-44f9-8af9-d05228e20882",
   "metadata": {},
   "outputs": [
    {
     "data": {
      "text/plain": [
       "{'configurable': {'thread_id': '1',\n",
       "  'checkpoint_ns': '',\n",
       "  'checkpoint_id': '1f0b7311-03b8-6896-8002-37d2b22aeb47'}}"
      ]
     },
     "execution_count": 43,
     "metadata": {},
     "output_type": "execute_result"
    }
   ],
   "source": [
    "# We now update the state as if we are the human_feedback node\n",
    "graph.update_state(thread, {\"human_analyst_feedback\": \n",
    "                                \"Add a hospital CIO/IT implementation expert\"}, as_node=\"human_feedback\")"
   ]
  },
  {
   "cell_type": "code",
   "execution_count": 44,
   "id": "a3be311f-62ee-49e7-b037-75c53d8960a8",
   "metadata": {},
   "outputs": [
    {
     "name": "stdout",
     "output_type": "stream",
     "text": [
      "Name: Dr. Anya Sharma\n",
      "Affiliation: TechMed Innovations\n",
      "Role: AI Ethics Consultant\n",
      "Description: Focuses on the ethical implications of using LLMs in medical diagnosis, ensuring patient privacy, data security, and algorithmic fairness.\n",
      "--------------------------------------------------\n",
      "Name: Dr. Ben Carter\n",
      "Affiliation: Global Health Analytics\n",
      "Role: Medical Data Analyst\n",
      "Description: Concerned with the accuracy and reliability of LLMs in diagnosing diseases, particularly in underserved communities with limited access to healthcare resources.\n",
      "--------------------------------------------------\n",
      "Name: Ms. Chloe Davis\n",
      "Affiliation: Patient Care Advocates\n",
      "Role: Patient Advocate\n",
      "Description: Dedicated to ensuring that LLMs enhance patient care and improve patient outcomes, while also emphasizing the importance of human oversight and personalized treatment plans.\n",
      "--------------------------------------------------\n",
      "Name: Ava Patel\n",
      "Affiliation: Tech Hospital\n",
      "Role: CIO\n",
      "Description: Focused on the IT infrastructure and data security aspects of implementing LLMs in medical diagnosis and patient care. Concerned with data privacy, system integration, and cost-effectiveness.\n",
      "--------------------------------------------------\n",
      "Name: Dr. Ben Carter\n",
      "Affiliation: Medical AI Research Institute\n",
      "Role: AI Ethics Researcher\n",
      "Description: Specializes in the ethical implications of AI in healthcare. Interested in patient data privacy, algorithmic bias, and ensuring equitable access to LLM-powered diagnostics.\n",
      "--------------------------------------------------\n",
      "Name: Dr. Chloe Davis\n",
      "Affiliation: National Institute of Health\n",
      "Role: Medical Diagnostic Specialist\n",
      "Description: Focuses on the accuracy and reliability of LLMs in medical diagnosis. Interested in how LLMs can improve diagnostic accuracy, reduce errors, and enhance patient outcomes.\n",
      "--------------------------------------------------\n"
     ]
    }
   ],
   "source": [
    "# Check\n",
    "for event in graph.stream(None, thread, stream_mode=\"values\"):\n",
    "    analysts = event.get('analysts', '')\n",
    "    if analysts:\n",
    "        for analyst in analysts:\n",
    "            print(f\"Name: {analyst.name}\")\n",
    "            print(f\"Affiliation: {analyst.affiliation}\")\n",
    "            print(f\"Role: {analyst.role}\")\n",
    "            print(f\"Description: {analyst.description}\")\n",
    "            print(\"-\" * 50)  "
   ]
  },
  {
   "cell_type": "code",
   "execution_count": 45,
   "id": "0af41f54-88d9-4597-98b0-444c08322095",
   "metadata": {},
   "outputs": [
    {
     "data": {
      "text/plain": [
       "{'configurable': {'thread_id': '1',\n",
       "  'checkpoint_ns': '',\n",
       "  'checkpoint_id': '1f0b7311-c294-6ab4-8004-27920fec62f7'}}"
      ]
     },
     "execution_count": 45,
     "metadata": {},
     "output_type": "execute_result"
    }
   ],
   "source": [
    "# Confirm we are happy\n",
    "graph.update_state(thread, {\"human_analyst_feedback\": \n",
    "                            None}, as_node=\"human_feedback\")"
   ]
  },
  {
   "cell_type": "code",
   "execution_count": 47,
   "id": "37123ca7-c20b-43c1-9a71-39ba344e7ca6",
   "metadata": {},
   "outputs": [
    {
     "name": "stdout",
     "output_type": "stream",
     "text": [
      "--Node--\n",
      "write_executive_summary\n",
      "--Node--\n",
      "finalize_report\n"
     ]
    }
   ],
   "source": [
    "# Continue\n",
    "for event in graph.stream(None, thread, stream_mode=\"updates\"):\n",
    "    print(\"--Node--\")\n",
    "    node_name = next(iter(event.keys()))\n",
    "    print(node_name)"
   ]
  },
  {
   "cell_type": "code",
   "execution_count": 48,
   "id": "f8f66ad8-80fd-4eb2-96b6-6ae9dffd060c",
   "metadata": {},
   "outputs": [
    {
     "data": {
      "text/markdown": [
       "# The Promise and Peril of LLMs in Healthcare\n",
       "\n",
       "## Introduction\n",
       "\n",
       "This report explores the multifaceted impact of Large Language Models (LLMs) on medical diagnosis and patient care. We begin by examining the potential of LLMs in the early diagnosis of rare genetic disorders, highlighting both their surprising accuracy and tendency towards over-diagnosis. Next, we delve into the ethical minefield of \"epistemic injustice,\" where LLMs risk devaluing patients' subjective experiences and intuitive knowledge. Finally, we address the practical challenges of integrating LLMs into healthcare IT infrastructure, focusing on data security, legacy system compatibility, and HIPAA compliance. This analysis underscores the need for careful consideration of both the benefits and risks associated with LLM implementation in medicine.\n",
       "\n",
       "---\n",
       "\n",
       "## Executive Summary\n",
       "\n",
       "**Key Finding 1** (Confidence: HIGH)\n",
       "LLMs show promise in early detection of rare genetic disorders by identifying subtle connections between symptoms that might be missed by clinicians. However, realizing this potential is contingent on addressing challenges related to data security, ethical considerations, and diagnostic accuracy.\n",
       "\n",
       "**Key Finding 2** (Confidence: MEDIUM)\n",
       "Integrating LLMs with existing legacy EMR systems presents a significant technical hurdle. The development of custom APIs for real-time data exchange introduces both expense and potential security vulnerabilities. While de-identification techniques are employed, concerns remain about potential re-identification and the impact on LLM accuracy.\n",
       "\n",
       "**Key Finding 3** (Confidence: MEDIUM)\n",
       "LLMs may perpetuate epistemic injustice by prioritizing \"objective\" data over patients' subjective experiences. This is especially problematic in diagnosing rare or poorly understood conditions, potentially silencing patient voices and hindering holistic diagnoses, particularly within marginalized communities.\n",
       "\n",
       "**Key Finding 4** (Confidence: MEDIUM)\n",
       "LLMs exhibit a tendency to \"over-diagnose,\" leading to higher false positive rates. This raises concerns about data bias, algorithmic transparency, and the potential for increased patient anxiety and unnecessary testing. Further research is needed to validate findings and mitigate the risks associated with false positives.\n",
       "\n",
       "Overall research confidence is considered medium, reflecting the inherent limitations of current data and the evolving nature of LLM technology. Collaboration throughout the research process was strong, facilitating robust discussion and critical evaluation of the evidence.\n",
       "\n",
       "---\n",
       "\n",
       "\n",
       "\n",
       "The integration of Large Language Models (LLMs) into medical diagnosis and patient care presents a complex landscape of opportunities and challenges. While LLMs demonstrate promise in areas such as early detection of rare genetic disorders [1, 2], their implementation raises critical concerns related to data security, ethical considerations, and diagnostic accuracy.\n",
       "\n",
       "A significant hurdle lies in integrating LLMs with existing legacy Electronic Medical Record (EMR) systems. Many healthcare providers rely on older systems not designed for the real-time data exchange that LLMs require, which necessitates the development of custom APIs [3]. These APIs can be expensive and introduce potential security vulnerabilities [2]. Moreover, the need to de-identify patient data before use raises concerns about potential re-identification, even with techniques like differential privacy, which can impact LLM accuracy [1, 3]. Maintaining rigorous security protocols while fostering innovation requires a critical balancing act.\n",
       "\n",
       "Beyond technical challenges, ethical considerations surrounding epistemic injustice demand attention. LLMs risk devaluing patients' subjective experiences by prioritizing \"objective\" data [5, 6, 7]. This is particularly problematic in diagnosing rare or poorly understood conditions where a patient's intuitive understanding of their symptoms may be dismissed. Such devaluation can silence patient voices and hinder accurate, holistic diagnoses, especially within marginalized communities [8, 9].\n",
       "\n",
       "Furthermore, while LLMs can identify subtle connections between seemingly unrelated symptoms, potentially leading to earlier diagnosis of rare diseases, they also exhibit a tendency to \"over-diagnose,\" resulting in higher false positive rates [3, 4]. This tendency raises concerns about data bias, algorithmic transparency, and the potential for increased patient anxiety and unnecessary testing. Rigorous clinical trials with larger, diverse datasets are necessary to validate these findings and mitigate the risks associated with false positives. Further research should focus on the cost-effectiveness of LLM-assisted diagnosis compared to traditional methods.\n",
       "\n",
       "Ultimately, successful implementation of LLMs in healthcare requires careful consideration of data security, ethical implications, and diagnostic accuracy. Addressing these challenges is crucial to harnessing the potential benefits of LLMs while safeguarding patient well-being and promoting equitable healthcare practices.\n",
       "\n",
       "\n",
       "---\n",
       "\n",
       "## Conclusion\n",
       "\n",
       "LLMs present a complex landscape for medical diagnosis and patient care. While showing promise in early detection of rare genetic disorders, even outperforming specialists in some instances, the risk of over-diagnosis and false positives remains a concern. Further, the integration of LLMs with legacy healthcare systems poses data security and interoperability challenges, demanding careful navigation of HIPAA compliance and custom API development. Beyond technical hurdles, the potential for epistemic injustice, where patient experiences are devalued, requires careful consideration. Successfully deploying LLMs in healthcare necessitates balancing innovation with ethical considerations, data security, and the imperative to amplify, not silence, patient voices.\n",
       "\n",
       "## Sources\n",
       "\n",
       "[1] styrk.ai/balancing-llm-innovation-with-security/\n",
       "[2] https://www.rsna.org/news/2025/may/llm-cybersecurity-threats\n",
       "[3] sphereinc.com/blogs/data-for-llm-healthcare/\n",
       "[4] medium.com/@projects_24920/leveraging-on-premise-llms-in-healthcare-navigating-hipaa-compliance-9e34a518430c\n",
       "[5] JMIR: J Med Internet Res. 2024;26:e60083. https://www.jmir.org/2024/1/e60083/\n",
       "[6] Review of ChatGPT-based Diagnostic Medicine Applications. https://pmc.ncbi.nlm.nih.gov/articles/PMC10898121/\n",
       "[7] BMC Medical Informatics and Decision Making. https://bmcmedinformdecismak.biomedcentral.com/articles/10.1186/s12911-024-02656-3\n",
       "[8] Ethics of artificial intelligence - Wikipedia. https://en.wikipedia.org/wiki/Ethics_of_artificial_intelligence\n",
       "[9] Epistemic Injustice in Medical AI. https://papers.ssrn.com/sol3/papers.cfm?abstract_id=5212457\n",
       "[10] G. Pozzi, PhD Dissertation. https://research.tudelft.nl/files/180125148/PhD_Dissertation_G_Pozzi.pdf\n",
       "[11] J Med Ethics 2023;49:536-540. https://jme.bmj.com/content/49/8/536\n",
       "[12] Twice exceptional - Wikipedia. https://en.wikipedia.org/wiki/Twice_exceptional\n",
       "[13] Disability - Wikipedia. https://en.wikipedia.org/wiki/Disability\n",
       "[14] https://ggc.org/lysosomal-storage-disorders-gaucher-and-fabry-disease/\n",
       "[15] https://pubmed.ncbi.nlm.nih.gov/39384207/\n",
       "[16] https://worldsymposia.org/worldsymposium-2025-speed-mentoring/\n",
       "[17] https://intuitionlabs.ai/articles/llm-physician-diagnostic-accuracy"
      ],
      "text/plain": [
       "<IPython.core.display.Markdown object>"
      ]
     },
     "execution_count": 48,
     "metadata": {},
     "output_type": "execute_result"
    }
   ],
   "source": [
    "from IPython.display import Markdown\n",
    "final_state = graph.get_state(thread)\n",
    "report = final_state.values.get('final_report')\n",
    "Markdown(report)"
   ]
  },
  {
   "cell_type": "markdown",
   "id": "e9bf8edd-fb42-496c-9bdb-3f5d7b4d79d3",
   "metadata": {},
   "source": [
    "We can look at the trace:\n",
    "\n",
    "https://smith.langchain.com/public/2933a7bb-bcef-4d2d-9b85-cc735b22ca0c/r"
   ]
  },
  {
   "cell_type": "code",
   "execution_count": null,
   "id": "808bd094",
   "metadata": {},
   "outputs": [],
   "source": []
  }
 ],
 "metadata": {
  "kernelspec": {
   "display_name": "Python [conda env:base] *",
   "language": "python",
   "name": "conda-base-py"
  },
  "language_info": {
   "codemirror_mode": {
    "name": "ipython",
    "version": 3
   },
   "file_extension": ".py",
   "mimetype": "text/x-python",
   "name": "python",
   "nbconvert_exporter": "python",
   "pygments_lexer": "ipython3",
   "version": "3.13.5"
  }
 },
 "nbformat": 4,
 "nbformat_minor": 5
}
