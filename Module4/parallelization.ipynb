{
 "cells": [
  {
   "cell_type": "markdown",
   "id": "0d0e279f",
   "metadata": {
    "editable": true,
    "slideshow": {
     "slide_type": ""
    },
    "tags": []
   },
   "source": [
    "[![Open in Colab](https://colab.research.google.com/assets/colab-badge.svg)](https://colab.research.google.com/github/langchain-ai/langchain-academy/blob/main/module-4/parallelization.ipynb) [![Open in LangChain Academy](https://cdn.prod.website-files.com/65b8cd72835ceeacd4449a53/66e9eba12c7b7688aa3dbb5e_LCA-badge-green.svg)](https://academy.langchain.com/courses/take/intro-to-langgraph/lessons/58239934-lesson-1-parallelization)"
   ]
  },
  {
   "cell_type": "markdown",
   "id": "f4169bfb-769a-4db3-833e-c827f19024b2",
   "metadata": {
    "editable": true,
    "slideshow": {
     "slide_type": ""
    },
    "tags": []
   },
   "source": [
    "# Parallel node execution\n",
    "\n",
    "## Review\n",
    "\n",
    "In module 3, we went in-depth on `human-in-the loop`, showing 3 common use-cases:\n",
    "\n",
    "(1) `Approval` - We can interrupt our agent, surface state to a user, and allow the user to accept an action\n",
    "\n",
    "(2) `Debugging` - We can rewind the graph to reproduce or avoid issues\n",
    "\n",
    "(3) `Editing` - You can modify the state \n",
    "\n",
    "## Goals\n",
    "\n",
    "This module will build on `human-in-the-loop` as well as the `memory` concepts discussed in module 2.\n",
    "\n",
    "We will dive into `multi-agent` workflows and build up to a multi-agent research assistant that ties together all of the modules from this course.\n",
    "\n",
    "To build this multi-agent research assistant, we'll first discuss a few LangGraph controllability topics.\n",
    "\n",
    "We'll start with [parallelization](https://docs.langchain.com/oss/python/langgraph/how-tos/graph-api#create-branches).\n",
    "\n",
    "## Fan out and fan in\n",
    "\n",
    "Let's build a simple linear graph that over-writes the state at each step."
   ]
  },
  {
   "cell_type": "code",
   "execution_count": 1,
   "id": "618eab5c-4ef7-4273-8e0b-a9c847897ed7",
   "metadata": {
    "editable": true,
    "slideshow": {
     "slide_type": ""
    },
    "tags": []
   },
   "outputs": [],
   "source": [
    "%%capture --no-stderr\n",
    "%pip install -U  langgraph langgraph_tavily wikipedia langchain_openai langchain_community langgraph_sdk"
   ]
  },
  {
   "cell_type": "code",
   "execution_count": 2,
   "id": "31bbec0d",
   "metadata": {
    "editable": true,
    "slideshow": {
     "slide_type": ""
    },
    "tags": []
   },
   "outputs": [],
   "source": [
    "import os, getpass\n",
    "\n",
    "def _set_env(var: str):\n",
    "    if not os.environ.get(var):\n",
    "        os.environ[var] = getpass.getpass(f\"{var}: \")\n",
    "\n",
    "_set_env(\"OPENAI_API_KEY\")"
   ]
  },
  {
   "cell_type": "code",
   "execution_count": 16,
   "id": "d1233980-f8fe-4dbb-8525-259c147e4069",
   "metadata": {},
   "outputs": [
    {
     "data": {
      "text/plain": [
       "True"
      ]
     },
     "execution_count": 16,
     "metadata": {},
     "output_type": "execute_result"
    }
   ],
   "source": [
    "from dotenv import load_dotenv\n",
    "load_dotenv(dotenv_path=\"C:/Users/riyaa/Documents/code/mat496/langgraphmod4/studio/.env\", override=True) #path to my env folder"
   ]
  },
  {
   "cell_type": "code",
   "execution_count": 2,
   "id": "1dd77093-1794-4bd7-8c57-58f59a74c20b",
   "metadata": {},
   "outputs": [
    {
     "data": {
      "image/png": "[encoded data removed]",
      "text/plain": [
       "<IPython.core.display.Image object>"
      ]
     },
     "metadata": {},
     "output_type": "display_data"
    }
   ],
   "source": [
    "from IPython.display import Image, display\n",
    "\n",
    "from typing import Any, List\n",
    "from typing_extensions import TypedDict\n",
    "\n",
    "from langgraph.graph import StateGraph, START, END\n",
    "\n",
    "class State(TypedDict):\n",
    "    # Note, no reducer function. \n",
    "    state: List[str]\n",
    "\n",
    "class ReturnNodeValue:\n",
    "    def __init__(self, node_secret: str):\n",
    "        self._value = node_secret\n",
    "\n",
    "    def __call__(self, state: State) -> Any:\n",
    "        print(f\"Adding {self._value} to {state['state']}\")\n",
    "        return {\"state\": [self._value]}\n",
    "\n",
    "# Add nodes\n",
    "builder = StateGraph(State)\n",
    "\n",
    "# Initialize each node with node_secret \n",
    "builder.add_node(\"a\", ReturnNodeValue(\"I'm A\"))\n",
    "builder.add_node(\"b\", ReturnNodeValue(\"I'm B\"))\n",
    "builder.add_node(\"c\", ReturnNodeValue(\"I'm C\"))\n",
    "builder.add_node(\"d\", ReturnNodeValue(\"I'm D\"))\n",
    "builder.add_node(\"e\", ReturnNodeValue(\"I'm E\"))\n",
    "builder.add_node(\"f\", ReturnNodeValue(\"I'm F\"))\n",
    "builder.add_node(\"g\", ReturnNodeValue(\"I'm G\"))\n",
    "\n",
    "# Flow\n",
    "builder.add_edge(START, \"a\")\n",
    "builder.add_edge(\"a\", \"b\")\n",
    "builder.add_edge(\"b\", \"c\")\n",
    "builder.add_edge(\"c\", \"d\")\n",
    "builder.add_edge(\"d\", \"e\")\n",
    "builder.add_edge(\"e\", \"f\")\n",
    "builder.add_edge(\"f\", \"g\")\n",
    "builder.add_edge(\"g\", END)\n",
    "graph = builder.compile()\n",
    "\n",
    "display(Image(graph.get_graph().draw_mermaid_png()))"
   ]
  },
  {
   "cell_type": "markdown",
   "id": "bdd027d3-ef9f-4d43-b190-e9f07d521e18",
   "metadata": {},
   "source": [
    "We over-write state, as expected."
   ]
  },
  {
   "cell_type": "code",
   "execution_count": 3,
   "id": "bf260088-90d5-45b2-93ab-42f241560840",
   "metadata": {},
   "outputs": [
    {
     "name": "stdout",
     "output_type": "stream",
     "text": [
      "Adding I'm A to []\n",
      "Adding I'm B to [\"I'm A\"]\n",
      "Adding I'm C to [\"I'm B\"]\n",
      "Adding I'm D to [\"I'm C\"]\n",
      "Adding I'm E to [\"I'm D\"]\n",
      "Adding I'm F to [\"I'm E\"]\n",
      "Adding I'm G to [\"I'm F\"]\n"
     ]
    },
    {
     "data": {
      "text/plain": [
       "{'state': [\"I'm G\"]}"
      ]
     },
     "execution_count": 3,
     "metadata": {},
     "output_type": "execute_result"
    }
   ],
   "source": [
    "graph.invoke({\"state\": []})"
   ]
  },
  {
   "cell_type": "markdown",
   "id": "a9dec27d-dc43-4088-beb2-53ad090d2971",
   "metadata": {},
   "source": [
    "Now, let's run `b` and `c` in parallel. \n",
    "\n",
    "And then run `d`.\n",
    "\n",
    "We can do this easily with fan-out from `a` to `b` and `c`, and then fan-in to `d`.\n",
    "\n",
    "The the state updates are applied at the end of each step.\n",
    "\n",
    "Let's run it."
   ]
  },
  {
   "cell_type": "code",
   "execution_count": 4,
   "id": "8fdeaaab-a8c3-470f-89ef-9cf0a2760667",
   "metadata": {},
   "outputs": [
    {
     "data": {
      "image/png": "[encoded data removed]",
      "text/plain": [
       "<IPython.core.display.Image object>"
      ]
     },
     "metadata": {},
     "output_type": "display_data"
    }
   ],
   "source": [
    "builder = StateGraph(State)\n",
    "\n",
    "# Initialize each node with node_secret \n",
    "builder.add_node(\"a\", ReturnNodeValue(\"I'm A\"))\n",
    "builder.add_node(\"b\", ReturnNodeValue(\"I'm B\"))\n",
    "builder.add_node(\"c\", ReturnNodeValue(\"I'm C\"))\n",
    "builder.add_node(\"d\", ReturnNodeValue(\"I'm D\"))\n",
    "builder.add_node(\"e\", ReturnNodeValue(\"I'm E\"))\n",
    "builder.add_node(\"f\", ReturnNodeValue(\"I'm F\"))\n",
    "builder.add_node(\"g\", ReturnNodeValue(\"I'm G\"))\n",
    "\n",
    "# Flow\n",
    "builder.add_edge(START, \"a\")\n",
    "builder.add_edge(\"a\", \"b\")\n",
    "builder.add_edge(\"a\", \"c\")\n",
    "builder.add_edge(\"b\", \"d\")\n",
    "builder.add_edge(\"b\", \"e\")\n",
    "builder.add_edge(\"d\", \"f\")\n",
    "builder.add_edge(\"e\", \"f\")\n",
    "builder.add_edge(\"f\", \"g\")\n",
    "builder.add_edge(\"c\", \"g\")\n",
    "builder.add_edge(\"g\", END)\n",
    "graph = builder.compile()\n",
    "\n",
    "display(Image(graph.get_graph().draw_mermaid_png()))"
   ]
  },
  {
   "cell_type": "markdown",
   "id": "35238fde-0230-4ae8-9200-158a8835c4f1",
   "metadata": {},
   "source": [
    "**We see an error**! \n",
    "\n",
    "This is because both `b` and `c` are writing to the same state key / channel in the same step. "
   ]
  },
  {
   "cell_type": "code",
   "execution_count": 5,
   "id": "9048b041-6849-4f09-9811-6b7a80f67859",
   "metadata": {},
   "outputs": [
    {
     "name": "stdout",
     "output_type": "stream",
     "text": [
      "Adding I'm A to []\n",
      "Adding I'm B to [\"I'm A\"]\n",
      "Adding I'm C to [\"I'm A\"]\n",
      "An error occurred: At key 'state': Can receive only one value per step. Use an Annotated key to handle multiple values.\n",
      "For troubleshooting, visit: https://python.langchain.com/docs/troubleshooting/errors/INVALID_CONCURRENT_GRAPH_UPDATE\n"
     ]
    }
   ],
   "source": [
    "from langgraph.errors import InvalidUpdateError\n",
    "try:\n",
    "    graph.invoke({\"state\": []})\n",
    "except InvalidUpdateError as e:\n",
    "    print(f\"An error occurred: {e}\")"
   ]
  },
  {
   "cell_type": "markdown",
   "id": "64cc329d-59fa-4c26-adcf-9122a824955d",
   "metadata": {},
   "source": [
    "When using fan out, we need to be sure that we are using a reducer if steps are writing to the same the channel / key. \n",
    "\n",
    "As we touched on in Module 2, `operator.add` is a function from Python's built-in operator module.\n",
    "\n",
    "When `operator.add` is applied to lists, it performs list concatenation."
   ]
  },
  {
   "cell_type": "code",
   "execution_count": 6,
   "id": "8f1292ac-510a-4801-b2a3-e2c6d2d9582a",
   "metadata": {},
   "outputs": [
    {
     "data": {
      "image/png": "[encoded data removed]",
      "text/plain": [
       "<IPython.core.display.Image object>"
      ]
     },
     "metadata": {},
     "output_type": "display_data"
    }
   ],
   "source": [
    "import operator\n",
    "from typing import Annotated\n",
    "\n",
    "class State(TypedDict):\n",
    "    # The operator.add reducer fn makes this append-only\n",
    "    state: Annotated[list, operator.add]\n",
    "\n",
    "# Add nodes\n",
    "builder = StateGraph(State)\n",
    "\n",
    "# Initialize each node with node_secret \n",
    "builder.add_node(\"a\", ReturnNodeValue(\"I'm A\"))\n",
    "builder.add_node(\"b\", ReturnNodeValue(\"I'm B\"))\n",
    "builder.add_node(\"c\", ReturnNodeValue(\"I'm C\"))\n",
    "builder.add_node(\"d\", ReturnNodeValue(\"I'm D\"))\n",
    "builder.add_node(\"e\", ReturnNodeValue(\"I'm E\"))\n",
    "builder.add_node(\"f\", ReturnNodeValue(\"I'm F\"))\n",
    "builder.add_node(\"g\", ReturnNodeValue(\"I'm G\"))\n",
    "\n",
    "# Flow\n",
    "builder.add_edge(START, \"a\")\n",
    "builder.add_edge(\"a\", \"b\")\n",
    "builder.add_edge(\"a\", \"c\")\n",
    "builder.add_edge(\"b\", \"d\")\n",
    "builder.add_edge(\"b\", \"e\")\n",
    "builder.add_edge(\"d\", \"f\")\n",
    "builder.add_edge(\"e\", \"f\")\n",
    "builder.add_edge(\"f\", \"g\")\n",
    "builder.add_edge(\"c\", \"g\")\n",
    "builder.add_edge(\"g\", END)\n",
    "graph = builder.compile()\n",
    "\n",
    "\n",
    "display(Image(graph.get_graph().draw_mermaid_png()))"
   ]
  },
  {
   "cell_type": "code",
   "execution_count": 7,
   "id": "ffbad231-fc1d-49b1-a9fc-ed9153fa3977",
   "metadata": {},
   "outputs": [
    {
     "name": "stdout",
     "output_type": "stream",
     "text": [
      "Adding I'm A to []\n",
      "Adding I'm B to [\"I'm A\"]\n",
      "Adding I'm C to [\"I'm A\"]\n",
      "Adding I'm D to [\"I'm A\", \"I'm B\", \"I'm C\"]\n",
      "Adding I'm G to [\"I'm A\", \"I'm B\", \"I'm C\"]\n",
      "Adding I'm E to [\"I'm A\", \"I'm B\", \"I'm C\"]\n",
      "Adding I'm F to [\"I'm A\", \"I'm B\", \"I'm C\", \"I'm D\", \"I'm E\", \"I'm G\"]\n",
      "Adding I'm G to [\"I'm A\", \"I'm B\", \"I'm C\", \"I'm D\", \"I'm E\", \"I'm G\", \"I'm F\"]\n"
     ]
    },
    {
     "data": {
      "text/plain": [
       "{'state': [\"I'm A\",\n",
       "  \"I'm B\",\n",
       "  \"I'm C\",\n",
       "  \"I'm D\",\n",
       "  \"I'm E\",\n",
       "  \"I'm G\",\n",
       "  \"I'm F\",\n",
       "  \"I'm G\"]}"
      ]
     },
     "execution_count": 7,
     "metadata": {},
     "output_type": "execute_result"
    }
   ],
   "source": [
    "graph.invoke({\"state\": []})"
   ]
  },
  {
   "cell_type": "markdown",
   "id": "bdf5baa2-cecd-44b6-b0c4-d258340783f8",
   "metadata": {},
   "source": [
    "Now we see that we append to state for the updates made in parallel by `b` and `c`."
   ]
  },
  {
   "cell_type": "markdown",
   "id": "ed6fc7c7-198d-41be-867f-e77c93ba3217",
   "metadata": {},
   "source": [
    "## Waiting for nodes to finish\n",
    "\n",
    "Now, lets consider a case where one parallel path has more steps than the other one."
   ]
  },
  {
   "cell_type": "code",
   "execution_count": 10,
   "id": "f50b5d4f-dd39-4c22-b623-e0abc23f9144",
   "metadata": {},
   "outputs": [
    {
     "data": {
      "image/png": "[encoded data removed]",
      "text/plain": [
       "<IPython.core.display.Image object>"
      ]
     },
     "metadata": {},
     "output_type": "display_data"
    }
   ],
   "source": [
    "builder = StateGraph(State)\n",
    "\n",
    "# Initialize each node with node_secret \n",
    "builder.add_node(\"a\", ReturnNodeValue(\"I'm A\"))\n",
    "builder.add_node(\"b\", ReturnNodeValue(\"I'm B\"))\n",
    "builder.add_node(\"b2\", ReturnNodeValue(\"I'm B2\"))\n",
    "builder.add_node(\"c\", ReturnNodeValue(\"I'm C\"))\n",
    "builder.add_node(\"d\", ReturnNodeValue(\"I'm D\"))\n",
    "\n",
    "# Flow\n",
    "builder.add_edge(START, \"a\")\n",
    "builder.add_edge(\"a\", \"b\")\n",
    "builder.add_edge(\"a\", \"c\")\n",
    "builder.add_edge(\"b\", \"b2\")\n",
    "builder.add_edge([\"b2\", \"c\"], \"d\")\n",
    "builder.add_edge(\"d\", END)\n",
    "graph = builder.compile()\n",
    "\n",
    "display(Image(graph.get_graph().draw_mermaid_png()))"
   ]
  },
  {
   "cell_type": "markdown",
   "id": "11640e6f-ac62-4ad4-89d9-7f6f9b56bf7a",
   "metadata": {},
   "source": [
    "In this case, `b`, `b2`, and `c` are all part of the same step.\n",
    "\n",
    "The graph will wait for all of these to be completed before proceeding to step `d`. "
   ]
  },
  {
   "cell_type": "code",
   "execution_count": 11,
   "id": "fafda930-e75b-410f-ba93-eb5fc0219303",
   "metadata": {},
   "outputs": [
    {
     "name": "stdout",
     "output_type": "stream",
     "text": [
      "Adding I'm A to []\n",
      "Adding I'm B to [\"I'm A\"]\n",
      "Adding I'm C to [\"I'm A\"]\n",
      "Adding I'm B2 to [\"I'm A\", \"I'm B\", \"I'm C\"]\n",
      "Adding I'm D to [\"I'm A\", \"I'm B\", \"I'm B2\", \"I'm C\"]\n"
     ]
    },
    {
     "data": {
      "text/plain": [
       "{'state': [\"I'm A\", \"I'm B\", \"I'm B2\", \"I'm C\", \"I'm D\"]}"
      ]
     },
     "execution_count": 11,
     "metadata": {},
     "output_type": "execute_result"
    }
   ],
   "source": [
    "graph.invoke({\"state\": []})"
   ]
  },
  {
   "cell_type": "markdown",
   "id": "6610a2e3-b053-47e8-bf4e-0968dfaa0a5d",
   "metadata": {},
   "source": [
    "## Setting the order of state updates\n",
    "\n",
    "However, within each step we don't have specific control over the order of the state updates!\n",
    "\n",
    "In simple terms, it is a deterministic order determined by LangGraph based upon graph topology that **we do not control**. \n",
    "\n",
    "Above, we see that `c` is added before `b2`.\n",
    "\n",
    "However, we can use a custom reducer to customize this e.g., sort state updates."
   ]
  },
  {
   "cell_type": "code",
   "execution_count": 12,
   "id": "24788e73-0950-432e-ad32-7987ea076529",
   "metadata": {},
   "outputs": [
    {
     "data": {
      "image/png": "[encoded data removed]",
      "text/plain": [
       "<IPython.core.display.Image object>"
      ]
     },
     "metadata": {},
     "output_type": "display_data"
    }
   ],
   "source": [
    "def sorting_reducer(left, right):\n",
    "    \"\"\" Combines and sorts the values in a list\"\"\"\n",
    "    if not isinstance(left, list):\n",
    "        left = [left]\n",
    "\n",
    "    if not isinstance(right, list):\n",
    "        right = [right]\n",
    "    \n",
    "    return sorted(left + right, reverse=False)\n",
    "\n",
    "class State(TypedDict):\n",
    "    # sorting_reducer will sort the values in state\n",
    "    state: Annotated[list, sorting_reducer]\n",
    "\n",
    "# Add nodes\n",
    "builder = StateGraph(State)\n",
    "\n",
    "# Initialize each node with node_secret \n",
    "builder.add_node(\"a\", ReturnNodeValue(\"I'm A\"))\n",
    "builder.add_node(\"b\", ReturnNodeValue(\"I'm B\"))\n",
    "builder.add_node(\"b2\", ReturnNodeValue(\"I'm B2\"))\n",
    "builder.add_node(\"c\", ReturnNodeValue(\"I'm C\"))\n",
    "builder.add_node(\"d\", ReturnNodeValue(\"I'm D\"))\n",
    "\n",
    "# Flow\n",
    "builder.add_edge(START, \"a\")\n",
    "builder.add_edge(\"a\", \"b\")\n",
    "builder.add_edge(\"a\", \"c\")\n",
    "builder.add_edge(\"b\", \"b2\")\n",
    "builder.add_edge([\"b2\", \"c\"], \"d\")\n",
    "builder.add_edge(\"d\", END)\n",
    "graph = builder.compile()\n",
    "\n",
    "display(Image(graph.get_graph().draw_mermaid_png()))"
   ]
  },
  {
   "cell_type": "code",
   "execution_count": 13,
   "id": "607dba2e-f9f0-4bc7-8ba6-684521a49bdc",
   "metadata": {},
   "outputs": [
    {
     "name": "stdout",
     "output_type": "stream",
     "text": [
      "Adding I'm A to []\n",
      "Adding I'm B to [\"I'm A\"]\n",
      "Adding I'm C to [\"I'm A\"]\n",
      "Adding I'm B2 to [\"I'm A\", \"I'm B\", \"I'm C\"]\n",
      "Adding I'm D to [\"I'm A\", \"I'm B\", \"I'm B2\", \"I'm C\"]\n"
     ]
    },
    {
     "data": {
      "text/plain": [
       "{'state': [\"I'm A\", \"I'm B\", \"I'm B2\", \"I'm C\", \"I'm D\"]}"
      ]
     },
     "execution_count": 13,
     "metadata": {},
     "output_type": "execute_result"
    }
   ],
   "source": [
    "graph.invoke({\"state\": []})"
   ]
  },
  {
   "cell_type": "markdown",
   "id": "fb1714c0-e881-48e7-bcb8-a60016f0485e",
   "metadata": {
    "editable": true,
    "slideshow": {
     "slide_type": ""
    },
    "tags": []
   },
   "source": [
    "Now, the reducer sorts the updated state values!\n",
    "\n",
    "The `sorting_reducer` example sorts all values globally. We can also: \n",
    "\n",
    "1. Write outputs to a separate field in the state during the parallel step\n",
    "2. Use a \"sink\" node after the parallel step to combine and order those outputs\n",
    "3. Clear the temporary field after combining\n",
    "\n",
    "<!-- See the [~docs~](https://langchain-ai.github.io/langgraph/how-tos/branching/#stable-sorting) [docs](https://docs.langchain.com/oss/python/langgraph/how-tos/graph-api#create-branches) for more details.-->\n"
   ]
  },
  {
   "cell_type": "markdown",
   "id": "34e0750b-e6af-40d9-835c-c664da5a2d3b",
   "metadata": {
    "editable": true,
    "slideshow": {
     "slide_type": ""
    },
    "tags": []
   },
   "source": [
    "## Working with LLMs\n",
    "\n",
    "Now, lets add a realistic example! \n",
    "\n",
    "We want to gather context from two external sources (Wikipedia and Web-Search) and have an LLM answer a question."
   ]
  },
  {
   "cell_type": "code",
   "execution_count": 14,
   "id": "e1e9d03c-cb41-415c-862d-c9616d5a2d07",
   "metadata": {},
   "outputs": [],
   "source": [
    "from langchain_google_genai import ChatGoogleGenerativeAI\n",
    "llm = ChatGoogleGenerativeAI(\n",
    "    model=\"gemini-2.0-flash\", \n",
    "    temperature=0.7,\n",
    ")"
   ]
  },
  {
   "cell_type": "code",
   "execution_count": 53,
   "id": "0f75cc78-d1a1-47a5-8648-bf5a79c883de",
   "metadata": {},
   "outputs": [],
   "source": [
    "class State(TypedDict):\n",
    "    question: str\n",
    "    answer: str\n",
    "    context: Annotated[list, operator.add]"
   ]
  },
  {
   "cell_type": "markdown",
   "id": "9e714ea8-095c-461a-98bc-ee782a84ef5c",
   "metadata": {},
   "source": [
    "You can try different web search tools. [Tavily](https://tavily.com/) is one nice option to consider, but ensure your `TAVILY_API_KEY` is set."
   ]
  },
  {
   "cell_type": "code",
   "execution_count": 15,
   "id": "c8bb519a-d08a-4ec7-8f0b-2ce6a9bf7342",
   "metadata": {},
   "outputs": [],
   "source": [
    "import os, getpass\n",
    "def _set_env(var: str):\n",
    "    if not os.environ.get(var):\n",
    "        os.environ[var] = getpass.getpass(f\"{var}: \")\n",
    "_set_env(\"TAVILY_API_KEY\") #api key already in .env so this is not needed"
   ]
  },
  {
   "cell_type": "code",
   "execution_count": 19,
   "id": "a9ed7ef5-a229-4b6d-a282-7ba37a5716ae",
   "metadata": {
    "collapsed": true,
    "jupyter": {
     "outputs_hidden": true
    },
    "scrolled": true
   },
   "outputs": [
    {
     "name": "stdout",
     "output_type": "stream",
     "text": [
      "Collecting langchain_community\n",
      "  Downloading langchain_community-0.4.1-py3-none-any.whl.metadata (3.0 kB)\n",
      "Collecting langchain-core<2.0.0,>=1.0.1 (from langchain_community)\n",
      "  Downloading langchain_core-1.0.2-py3-none-any.whl.metadata (3.5 kB)\n",
      "Collecting langchain-classic<2.0.0,>=1.0.0 (from langchain_community)\n",
      "  Using cached langchain_classic-1.0.0-py3-none-any.whl.metadata (3.9 kB)\n",
      "Requirement already satisfied: SQLAlchemy<3.0.0,>=1.4.0 in c:\\users\\riyaa\\anaconda3\\lib\\site-packages (from langchain_community) (2.0.39)\n",
      "Collecting requests<3.0.0,>=2.32.5 (from langchain_community)\n",
      "  Using cached requests-2.32.5-py3-none-any.whl.metadata (4.9 kB)\n",
      "Requirement already satisfied: PyYAML<7.0.0,>=5.3.0 in c:\\users\\riyaa\\anaconda3\\lib\\site-packages (from langchain_community) (6.0.2)\n",
      "Requirement already satisfied: aiohttp<4.0.0,>=3.8.3 in c:\\users\\riyaa\\anaconda3\\lib\\site-packages (from langchain_community) (3.11.10)\n",
      "Requirement already satisfied: tenacity!=8.4.0,<10.0.0,>=8.1.0 in c:\\users\\riyaa\\anaconda3\\lib\\site-packages (from langchain_community) (9.0.0)\n",
      "Collecting dataclasses-json<0.7.0,>=0.6.7 (from langchain_community)\n",
      "  Using cached dataclasses_json-0.6.7-py3-none-any.whl.metadata (25 kB)\n",
      "Collecting pydantic-settings<3.0.0,>=2.10.1 (from langchain_community)\n",
      "  Using cached pydantic_settings-2.11.0-py3-none-any.whl.metadata (3.4 kB)\n",
      "Requirement already satisfied: langsmith<1.0.0,>=0.1.125 in c:\\users\\riyaa\\anaconda3\\lib\\site-packages (from langchain_community) (0.4.37)\n",
      "Collecting httpx-sse<1.0.0,>=0.4.0 (from langchain_community)\n",
      "  Using cached httpx_sse-0.4.3-py3-none-any.whl.metadata (9.7 kB)\n",
      "Requirement already satisfied: numpy>=2.1.0 in c:\\users\\riyaa\\anaconda3\\lib\\site-packages (from langchain_community) (2.1.3)\n",
      "Requirement already satisfied: aiohappyeyeballs>=2.3.0 in c:\\users\\riyaa\\anaconda3\\lib\\site-packages (from aiohttp<4.0.0,>=3.8.3->langchain_community) (2.4.4)\n",
      "Requirement already satisfied: aiosignal>=1.1.2 in c:\\users\\riyaa\\anaconda3\\lib\\site-packages (from aiohttp<4.0.0,>=3.8.3->langchain_community) (1.2.0)\n",
      "Requirement already satisfied: attrs>=17.3.0 in c:\\users\\riyaa\\anaconda3\\lib\\site-packages (from aiohttp<4.0.0,>=3.8.3->langchain_community) (24.3.0)\n",
      "Requirement already satisfied: frozenlist>=1.1.1 in c:\\users\\riyaa\\anaconda3\\lib\\site-packages (from aiohttp<4.0.0,>=3.8.3->langchain_community) (1.5.0)\n",
      "Requirement already satisfied: multidict<7.0,>=4.5 in c:\\users\\riyaa\\anaconda3\\lib\\site-packages (from aiohttp<4.0.0,>=3.8.3->langchain_community) (6.1.0)\n",
      "Requirement already satisfied: propcache>=0.2.0 in c:\\users\\riyaa\\anaconda3\\lib\\site-packages (from aiohttp<4.0.0,>=3.8.3->langchain_community) (0.3.1)\n",
      "Requirement already satisfied: yarl<2.0,>=1.17.0 in c:\\users\\riyaa\\anaconda3\\lib\\site-packages (from aiohttp<4.0.0,>=3.8.3->langchain_community) (1.18.0)\n",
      "Collecting marshmallow<4.0.0,>=3.18.0 (from dataclasses-json<0.7.0,>=0.6.7->langchain_community)\n",
      "  Using cached marshmallow-3.26.1-py3-none-any.whl.metadata (7.3 kB)\n",
      "Collecting typing-inspect<1,>=0.4.0 (from dataclasses-json<0.7.0,>=0.6.7->langchain_community)\n",
      "  Using cached typing_inspect-0.9.0-py3-none-any.whl.metadata (1.5 kB)\n",
      "Collecting langchain-text-splitters<2.0.0,>=1.0.0 (from langchain-classic<2.0.0,>=1.0.0->langchain_community)\n",
      "  Using cached langchain_text_splitters-1.0.0-py3-none-any.whl.metadata (2.6 kB)\n",
      "Requirement already satisfied: pydantic<3.0.0,>=2.7.4 in c:\\users\\riyaa\\anaconda3\\lib\\site-packages (from langchain-classic<2.0.0,>=1.0.0->langchain_community) (2.10.3)\n",
      "Requirement already satisfied: jsonpatch<2.0.0,>=1.33.0 in c:\\users\\riyaa\\anaconda3\\lib\\site-packages (from langchain-core<2.0.0,>=1.0.1->langchain_community) (1.33)\n",
      "Requirement already satisfied: packaging<26.0.0,>=23.2.0 in c:\\users\\riyaa\\anaconda3\\lib\\site-packages (from langchain-core<2.0.0,>=1.0.1->langchain_community) (24.2)\n",
      "Requirement already satisfied: typing-extensions<5.0.0,>=4.7.0 in c:\\users\\riyaa\\anaconda3\\lib\\site-packages (from langchain-core<2.0.0,>=1.0.1->langchain_community) (4.12.2)\n",
      "Requirement already satisfied: jsonpointer>=1.9 in c:\\users\\riyaa\\anaconda3\\lib\\site-packages (from jsonpatch<2.0.0,>=1.33.0->langchain-core<2.0.0,>=1.0.1->langchain_community) (2.1)\n",
      "Requirement already satisfied: httpx<1,>=0.23.0 in c:\\users\\riyaa\\anaconda3\\lib\\site-packages (from langsmith<1.0.0,>=0.1.125->langchain_community) (0.28.1)\n",
      "Requirement already satisfied: orjson>=3.9.14 in c:\\users\\riyaa\\anaconda3\\lib\\site-packages (from langsmith<1.0.0,>=0.1.125->langchain_community) (3.11.3)\n",
      "Requirement already satisfied: requests-toolbelt>=1.0.0 in c:\\users\\riyaa\\anaconda3\\lib\\site-packages (from langsmith<1.0.0,>=0.1.125->langchain_community) (1.0.0)\n",
      "Requirement already satisfied: zstandard>=0.23.0 in c:\\users\\riyaa\\anaconda3\\lib\\site-packages (from langsmith<1.0.0,>=0.1.125->langchain_community) (0.23.0)\n",
      "Requirement already satisfied: anyio in c:\\users\\riyaa\\anaconda3\\lib\\site-packages (from httpx<1,>=0.23.0->langsmith<1.0.0,>=0.1.125->langchain_community) (4.7.0)\n",
      "Requirement already satisfied: certifi in c:\\users\\riyaa\\anaconda3\\lib\\site-packages (from httpx<1,>=0.23.0->langsmith<1.0.0,>=0.1.125->langchain_community) (2025.10.5)\n",
      "Requirement already satisfied: httpcore==1.* in c:\\users\\riyaa\\anaconda3\\lib\\site-packages (from httpx<1,>=0.23.0->langsmith<1.0.0,>=0.1.125->langchain_community) (1.0.9)\n",
      "Requirement already satisfied: idna in c:\\users\\riyaa\\anaconda3\\lib\\site-packages (from httpx<1,>=0.23.0->langsmith<1.0.0,>=0.1.125->langchain_community) (3.7)\n",
      "Requirement already satisfied: h11>=0.16 in c:\\users\\riyaa\\anaconda3\\lib\\site-packages (from httpcore==1.*->httpx<1,>=0.23.0->langsmith<1.0.0,>=0.1.125->langchain_community) (0.16.0)\n",
      "Requirement already satisfied: annotated-types>=0.6.0 in c:\\users\\riyaa\\anaconda3\\lib\\site-packages (from pydantic<3.0.0,>=2.7.4->langchain-classic<2.0.0,>=1.0.0->langchain_community) (0.6.0)\n",
      "Requirement already satisfied: pydantic-core==2.27.1 in c:\\users\\riyaa\\anaconda3\\lib\\site-packages (from pydantic<3.0.0,>=2.7.4->langchain-classic<2.0.0,>=1.0.0->langchain_community) (2.27.1)\n",
      "Requirement already satisfied: python-dotenv>=0.21.0 in c:\\users\\riyaa\\anaconda3\\lib\\site-packages (from pydantic-settings<3.0.0,>=2.10.1->langchain_community) (1.1.0)\n",
      "Collecting typing-inspection>=0.4.0 (from pydantic-settings<3.0.0,>=2.10.1->langchain_community)\n",
      "  Using cached typing_inspection-0.4.2-py3-none-any.whl.metadata (2.6 kB)\n",
      "Requirement already satisfied: charset_normalizer<4,>=2 in c:\\users\\riyaa\\anaconda3\\lib\\site-packages (from requests<3.0.0,>=2.32.5->langchain_community) (3.3.2)\n",
      "Requirement already satisfied: urllib3<3,>=1.21.1 in c:\\users\\riyaa\\anaconda3\\lib\\site-packages (from requests<3.0.0,>=2.32.5->langchain_community) (2.3.0)\n",
      "Requirement already satisfied: greenlet!=0.4.17 in c:\\users\\riyaa\\anaconda3\\lib\\site-packages (from SQLAlchemy<3.0.0,>=1.4.0->langchain_community) (3.1.1)\n",
      "Requirement already satisfied: mypy-extensions>=0.3.0 in c:\\users\\riyaa\\anaconda3\\lib\\site-packages (from typing-inspect<1,>=0.4.0->dataclasses-json<0.7.0,>=0.6.7->langchain_community) (1.0.0)\n",
      "Requirement already satisfied: sniffio>=1.1 in c:\\users\\riyaa\\anaconda3\\lib\\site-packages (from anyio->httpx<1,>=0.23.0->langsmith<1.0.0,>=0.1.125->langchain_community) (1.3.0)\n",
      "Downloading langchain_community-0.4.1-py3-none-any.whl (2.5 MB)\n",
      "   ---------------------------------------- 0.0/2.5 MB ? eta -:--:--\n",
      "   ---------------------------- ----------- 1.8/2.5 MB 11.8 MB/s eta 0:00:01\n",
      "   ---------------------------------------- 2.5/2.5 MB 11.3 MB/s eta 0:00:00\n",
      "Using cached dataclasses_json-0.6.7-py3-none-any.whl (28 kB)\n",
      "Using cached httpx_sse-0.4.3-py3-none-any.whl (9.0 kB)\n",
      "Using cached langchain_classic-1.0.0-py3-none-any.whl (1.0 MB)\n",
      "Downloading langchain_core-1.0.2-py3-none-any.whl (469 kB)\n",
      "Using cached langchain_text_splitters-1.0.0-py3-none-any.whl (33 kB)\n",
      "Using cached marshmallow-3.26.1-py3-none-any.whl (50 kB)\n",
      "Using cached pydantic_settings-2.11.0-py3-none-any.whl (48 kB)\n",
      "Using cached requests-2.32.5-py3-none-any.whl (64 kB)\n",
      "Using cached typing_inspect-0.9.0-py3-none-any.whl (8.8 kB)\n",
      "Using cached typing_inspection-0.4.2-py3-none-any.whl (14 kB)\n",
      "Installing collected packages: typing-inspection, typing-inspect, requests, marshmallow, httpx-sse, dataclasses-json, pydantic-settings, langchain-core, langchain-text-splitters, langchain-classic, langchain_community\n",
      "\n",
      "  Attempting uninstall: requests\n",
      "\n",
      "    Found existing installation: requests 2.32.3\n",
      "\n",
      "    Uninstalling requests-2.32.3:\n",
      "\n",
      "      Successfully uninstalled requests-2.32.3\n",
      "\n",
      "   ---------- -----------------------------  3/11 [marshmallow]\n",
      "  Attempting uninstall: pydantic-settings\n",
      "   ---------- -----------------------------  3/11 [marshmallow]\n",
      "    Found existing installation: pydantic-settings 2.6.1\n",
      "   ---------- -----------------------------  3/11 [marshmallow]\n",
      "    Uninstalling pydantic-settings-2.6.1:\n",
      "   ---------- -----------------------------  3/11 [marshmallow]\n",
      "      Successfully uninstalled pydantic-settings-2.6.1\n",
      "   ---------- -----------------------------  3/11 [marshmallow]\n",
      "  Attempting uninstall: langchain-core\n",
      "   ---------- -----------------------------  3/11 [marshmallow]\n",
      "    Found existing installation: langchain-core 1.0.0\n",
      "   ---------- -----------------------------  3/11 [marshmallow]\n",
      "   ------------------------- --------------  7/11 [langchain-core]\n",
      "    Uninstalling langchain-core-1.0.0:\n",
      "   ------------------------- --------------  7/11 [langchain-core]\n",
      "      Successfully uninstalled langchain-core-1.0.0\n",
      "   ------------------------- --------------  7/11 [langchain-core]\n",
      "   ------------------------- --------------  7/11 [langchain-core]\n",
      "   ------------------------- --------------  7/11 [langchain-core]\n",
      "   ------------------------- --------------  7/11 [langchain-core]\n",
      "   ----------------------------- ----------  8/11 [langchain-text-splitters]\n",
      "   -------------------------------- -------  9/11 [langchain-classic]\n",
      "   -------------------------------- -------  9/11 [langchain-classic]\n",
      "   -------------------------------- -------  9/11 [langchain-classic]\n",
      "   -------------------------------- -------  9/11 [langchain-classic]\n",
      "   -------------------------------- -------  9/11 [langchain-classic]\n",
      "   -------------------------------- -------  9/11 [langchain-classic]\n",
      "   -------------------------------- -------  9/11 [langchain-classic]\n",
      "   -------------------------------- -------  9/11 [langchain-classic]\n",
      "   -------------------------------- -------  9/11 [langchain-classic]\n",
      "   -------------------------------- -------  9/11 [langchain-classic]\n",
      "   -------------------------------- -------  9/11 [langchain-classic]\n",
      "   -------------------------------- -------  9/11 [langchain-classic]\n",
      "   -------------------------------- -------  9/11 [langchain-classic]\n",
      "   -------------------------------- -------  9/11 [langchain-classic]\n",
      "   -------------------------------- -------  9/11 [langchain-classic]\n",
      "   -------------------------------- -------  9/11 [langchain-classic]\n",
      "   -------------------------------- -------  9/11 [langchain-classic]\n",
      "   -------------------------------- -------  9/11 [langchain-classic]\n",
      "   -------------------------------- -------  9/11 [langchain-classic]\n",
      "   -------------------------------- -------  9/11 [langchain-classic]\n",
      "   -------------------------------- -------  9/11 [langchain-classic]\n",
      "   -------------------------------- -------  9/11 [langchain-classic]\n",
      "   -------------------------------- -------  9/11 [langchain-classic]\n",
      "   -------------------------------- -------  9/11 [langchain-classic]\n",
      "   -------------------------------- -------  9/11 [langchain-classic]\n",
      "   -------------------------------- -------  9/11 [langchain-classic]\n",
      "   -------------------------------- -------  9/11 [langchain-classic]\n",
      "   -------------------------------- -------  9/11 [langchain-classic]\n",
      "   -------------------------------- -------  9/11 [langchain-classic]\n",
      "   -------------------------------- -------  9/11 [langchain-classic]\n",
      "   ------------------------------------ --- 10/11 [langchain_community]\n",
      "   ------------------------------------ --- 10/11 [langchain_community]\n",
      "   ------------------------------------ --- 10/11 [langchain_community]\n",
      "   ------------------------------------ --- 10/11 [langchain_community]\n",
      "   ------------------------------------ --- 10/11 [langchain_community]\n",
      "   ------------------------------------ --- 10/11 [langchain_community]\n",
      "   ------------------------------------ --- 10/11 [langchain_community]\n",
      "   ------------------------------------ --- 10/11 [langchain_community]\n",
      "   ------------------------------------ --- 10/11 [langchain_community]\n",
      "   ------------------------------------ --- 10/11 [langchain_community]\n",
      "   ------------------------------------ --- 10/11 [langchain_community]\n",
      "   ------------------------------------ --- 10/11 [langchain_community]\n",
      "   ------------------------------------ --- 10/11 [langchain_community]\n",
      "   ------------------------------------ --- 10/11 [langchain_community]\n",
      "   ------------------------------------ --- 10/11 [langchain_community]\n",
      "   ------------------------------------ --- 10/11 [langchain_community]\n",
      "   ------------------------------------ --- 10/11 [langchain_community]\n",
      "   ------------------------------------ --- 10/11 [langchain_community]\n",
      "   ------------------------------------ --- 10/11 [langchain_community]\n",
      "   ------------------------------------ --- 10/11 [langchain_community]\n",
      "   ------------------------------------ --- 10/11 [langchain_community]\n",
      "   ------------------------------------ --- 10/11 [langchain_community]\n",
      "   ------------------------------------ --- 10/11 [langchain_community]\n",
      "   ------------------------------------ --- 10/11 [langchain_community]\n",
      "   ------------------------------------ --- 10/11 [langchain_community]\n",
      "   ------------------------------------ --- 10/11 [langchain_community]\n",
      "   ------------------------------------ --- 10/11 [langchain_community]\n",
      "   ------------------------------------ --- 10/11 [langchain_community]\n",
      "   ------------------------------------ --- 10/11 [langchain_community]\n",
      "   ------------------------------------ --- 10/11 [langchain_community]\n",
      "   ------------------------------------ --- 10/11 [langchain_community]\n",
      "   ------------------------------------ --- 10/11 [langchain_community]\n",
      "   ------------------------------------ --- 10/11 [langchain_community]\n",
      "   ------------------------------------ --- 10/11 [langchain_community]\n",
      "   ------------------------------------ --- 10/11 [langchain_community]\n",
      "   ------------------------------------ --- 10/11 [langchain_community]\n",
      "   ------------------------------------ --- 10/11 [langchain_community]\n",
      "   ------------------------------------ --- 10/11 [langchain_community]\n",
      "   ------------------------------------ --- 10/11 [langchain_community]\n",
      "   ------------------------------------ --- 10/11 [langchain_community]\n",
      "   ------------------------------------ --- 10/11 [langchain_community]\n",
      "   ------------------------------------ --- 10/11 [langchain_community]\n",
      "   ------------------------------------ --- 10/11 [langchain_community]\n",
      "   ------------------------------------ --- 10/11 [langchain_community]\n",
      "   ------------------------------------ --- 10/11 [langchain_community]\n",
      "   ------------------------------------ --- 10/11 [langchain_community]\n",
      "   ---------------------------------------- 11/11 [langchain_community]\n",
      "\n",
      "Successfully installed dataclasses-json-0.6.7 httpx-sse-0.4.3 langchain-classic-1.0.0 langchain-core-1.0.2 langchain-text-splitters-1.0.0 langchain_community-0.4.1 marshmallow-3.26.1 pydantic-settings-2.11.0 requests-2.32.5 typing-inspect-0.9.0 typing-inspection-0.4.2\n",
      "Note: you may need to restart the kernel to use updated packages.\n"
     ]
    }
   ],
   "source": [
    "pip install langchain_community\n"
   ]
  },
  {
   "cell_type": "code",
   "execution_count": 21,
   "id": "4629231b-1e89-4b99-b63e-de3e4d91ff1c",
   "metadata": {
    "collapsed": true,
    "jupyter": {
     "outputs_hidden": true
    }
   },
   "outputs": [
    {
     "name": "stdout",
     "output_type": "stream",
     "text": [
      "Collecting langchain_tavily\n",
      "  Downloading langchain_tavily-0.2.12-py3-none-any.whl.metadata (21 kB)\n",
      "Collecting aiohttp<4.0.0,>=3.11.14 (from langchain_tavily)\n",
      "  Downloading aiohttp-3.13.2-cp313-cp313-win_amd64.whl.metadata (8.4 kB)\n",
      "Collecting langchain<2.0.0,>=0.3.20 (from langchain_tavily)\n",
      "  Downloading langchain-1.0.3-py3-none-any.whl.metadata (4.7 kB)\n",
      "Requirement already satisfied: langchain-core<2.0.0,>=0.3.15 in c:\\users\\riyaa\\anaconda3\\lib\\site-packages (from langchain_tavily) (1.0.2)\n",
      "Requirement already satisfied: requests<3.0.0,>=2.32.3 in c:\\users\\riyaa\\anaconda3\\lib\\site-packages (from langchain_tavily) (2.32.5)\n",
      "Collecting aiohappyeyeballs>=2.5.0 (from aiohttp<4.0.0,>=3.11.14->langchain_tavily)\n",
      "  Using cached aiohappyeyeballs-2.6.1-py3-none-any.whl.metadata (5.9 kB)\n",
      "Collecting aiosignal>=1.4.0 (from aiohttp<4.0.0,>=3.11.14->langchain_tavily)\n",
      "  Using cached aiosignal-1.4.0-py3-none-any.whl.metadata (3.7 kB)\n",
      "Requirement already satisfied: attrs>=17.3.0 in c:\\users\\riyaa\\anaconda3\\lib\\site-packages (from aiohttp<4.0.0,>=3.11.14->langchain_tavily) (24.3.0)\n",
      "Requirement already satisfied: frozenlist>=1.1.1 in c:\\users\\riyaa\\anaconda3\\lib\\site-packages (from aiohttp<4.0.0,>=3.11.14->langchain_tavily) (1.5.0)\n",
      "Requirement already satisfied: multidict<7.0,>=4.5 in c:\\users\\riyaa\\anaconda3\\lib\\site-packages (from aiohttp<4.0.0,>=3.11.14->langchain_tavily) (6.1.0)\n",
      "Requirement already satisfied: propcache>=0.2.0 in c:\\users\\riyaa\\anaconda3\\lib\\site-packages (from aiohttp<4.0.0,>=3.11.14->langchain_tavily) (0.3.1)\n",
      "Requirement already satisfied: yarl<2.0,>=1.17.0 in c:\\users\\riyaa\\anaconda3\\lib\\site-packages (from aiohttp<4.0.0,>=3.11.14->langchain_tavily) (1.18.0)\n",
      "Collecting langgraph<1.1.0,>=1.0.2 (from langchain<2.0.0,>=0.3.20->langchain_tavily)\n",
      "  Downloading langgraph-1.0.2-py3-none-any.whl.metadata (7.4 kB)\n",
      "Requirement already satisfied: pydantic<3.0.0,>=2.7.4 in c:\\users\\riyaa\\anaconda3\\lib\\site-packages (from langchain<2.0.0,>=0.3.20->langchain_tavily) (2.10.3)\n",
      "Requirement already satisfied: jsonpatch<2.0.0,>=1.33.0 in c:\\users\\riyaa\\anaconda3\\lib\\site-packages (from langchain-core<2.0.0,>=0.3.15->langchain_tavily) (1.33)\n",
      "Requirement already satisfied: langsmith<1.0.0,>=0.3.45 in c:\\users\\riyaa\\anaconda3\\lib\\site-packages (from langchain-core<2.0.0,>=0.3.15->langchain_tavily) (0.4.37)\n",
      "Requirement already satisfied: packaging<26.0.0,>=23.2.0 in c:\\users\\riyaa\\anaconda3\\lib\\site-packages (from langchain-core<2.0.0,>=0.3.15->langchain_tavily) (24.2)\n",
      "Requirement already satisfied: pyyaml<7.0.0,>=5.3.0 in c:\\users\\riyaa\\anaconda3\\lib\\site-packages (from langchain-core<2.0.0,>=0.3.15->langchain_tavily) (6.0.2)\n",
      "Requirement already satisfied: tenacity!=8.4.0,<10.0.0,>=8.1.0 in c:\\users\\riyaa\\anaconda3\\lib\\site-packages (from langchain-core<2.0.0,>=0.3.15->langchain_tavily) (9.0.0)\n",
      "Requirement already satisfied: typing-extensions<5.0.0,>=4.7.0 in c:\\users\\riyaa\\anaconda3\\lib\\site-packages (from langchain-core<2.0.0,>=0.3.15->langchain_tavily) (4.12.2)\n",
      "Requirement already satisfied: jsonpointer>=1.9 in c:\\users\\riyaa\\anaconda3\\lib\\site-packages (from jsonpatch<2.0.0,>=1.33.0->langchain-core<2.0.0,>=0.3.15->langchain_tavily) (2.1)\n",
      "Requirement already satisfied: langgraph-checkpoint<4.0.0,>=2.1.0 in c:\\users\\riyaa\\anaconda3\\lib\\site-packages (from langgraph<1.1.0,>=1.0.2->langchain<2.0.0,>=0.3.20->langchain_tavily) (3.0.0)\n",
      "Collecting langgraph-prebuilt<1.1.0,>=1.0.2 (from langgraph<1.1.0,>=1.0.2->langchain<2.0.0,>=0.3.20->langchain_tavily)\n",
      "  Downloading langgraph_prebuilt-1.0.2-py3-none-any.whl.metadata (5.0 kB)\n",
      "Requirement already satisfied: langgraph-sdk<0.3.0,>=0.2.2 in c:\\users\\riyaa\\anaconda3\\lib\\site-packages (from langgraph<1.1.0,>=1.0.2->langchain<2.0.0,>=0.3.20->langchain_tavily) (0.2.9)\n",
      "Requirement already satisfied: xxhash>=3.5.0 in c:\\users\\riyaa\\anaconda3\\lib\\site-packages (from langgraph<1.1.0,>=1.0.2->langchain<2.0.0,>=0.3.20->langchain_tavily) (3.6.0)\n",
      "Requirement already satisfied: ormsgpack>=1.10.0 in c:\\users\\riyaa\\anaconda3\\lib\\site-packages (from langgraph-checkpoint<4.0.0,>=2.1.0->langgraph<1.1.0,>=1.0.2->langchain<2.0.0,>=0.3.20->langchain_tavily) (1.11.0)\n",
      "Requirement already satisfied: httpx>=0.25.2 in c:\\users\\riyaa\\anaconda3\\lib\\site-packages (from langgraph-sdk<0.3.0,>=0.2.2->langgraph<1.1.0,>=1.0.2->langchain<2.0.0,>=0.3.20->langchain_tavily) (0.28.1)\n",
      "Requirement already satisfied: orjson>=3.10.1 in c:\\users\\riyaa\\anaconda3\\lib\\site-packages (from langgraph-sdk<0.3.0,>=0.2.2->langgraph<1.1.0,>=1.0.2->langchain<2.0.0,>=0.3.20->langchain_tavily) (3.11.3)\n",
      "Requirement already satisfied: requests-toolbelt>=1.0.0 in c:\\users\\riyaa\\anaconda3\\lib\\site-packages (from langsmith<1.0.0,>=0.3.45->langchain-core<2.0.0,>=0.3.15->langchain_tavily) (1.0.0)\n",
      "Requirement already satisfied: zstandard>=0.23.0 in c:\\users\\riyaa\\anaconda3\\lib\\site-packages (from langsmith<1.0.0,>=0.3.45->langchain-core<2.0.0,>=0.3.15->langchain_tavily) (0.23.0)\n",
      "Requirement already satisfied: anyio in c:\\users\\riyaa\\anaconda3\\lib\\site-packages (from httpx>=0.25.2->langgraph-sdk<0.3.0,>=0.2.2->langgraph<1.1.0,>=1.0.2->langchain<2.0.0,>=0.3.20->langchain_tavily) (4.7.0)\n",
      "Requirement already satisfied: certifi in c:\\users\\riyaa\\anaconda3\\lib\\site-packages (from httpx>=0.25.2->langgraph-sdk<0.3.0,>=0.2.2->langgraph<1.1.0,>=1.0.2->langchain<2.0.0,>=0.3.20->langchain_tavily) (2025.10.5)\n",
      "Requirement already satisfied: httpcore==1.* in c:\\users\\riyaa\\anaconda3\\lib\\site-packages (from httpx>=0.25.2->langgraph-sdk<0.3.0,>=0.2.2->langgraph<1.1.0,>=1.0.2->langchain<2.0.0,>=0.3.20->langchain_tavily) (1.0.9)\n",
      "Requirement already satisfied: idna in c:\\users\\riyaa\\anaconda3\\lib\\site-packages (from httpx>=0.25.2->langgraph-sdk<0.3.0,>=0.2.2->langgraph<1.1.0,>=1.0.2->langchain<2.0.0,>=0.3.20->langchain_tavily) (3.7)\n",
      "Requirement already satisfied: h11>=0.16 in c:\\users\\riyaa\\anaconda3\\lib\\site-packages (from httpcore==1.*->httpx>=0.25.2->langgraph-sdk<0.3.0,>=0.2.2->langgraph<1.1.0,>=1.0.2->langchain<2.0.0,>=0.3.20->langchain_tavily) (0.16.0)\n",
      "Requirement already satisfied: annotated-types>=0.6.0 in c:\\users\\riyaa\\anaconda3\\lib\\site-packages (from pydantic<3.0.0,>=2.7.4->langchain<2.0.0,>=0.3.20->langchain_tavily) (0.6.0)\n",
      "Requirement already satisfied: pydantic-core==2.27.1 in c:\\users\\riyaa\\anaconda3\\lib\\site-packages (from pydantic<3.0.0,>=2.7.4->langchain<2.0.0,>=0.3.20->langchain_tavily) (2.27.1)\n",
      "Requirement already satisfied: charset_normalizer<4,>=2 in c:\\users\\riyaa\\anaconda3\\lib\\site-packages (from requests<3.0.0,>=2.32.3->langchain_tavily) (3.3.2)\n",
      "Requirement already satisfied: urllib3<3,>=1.21.1 in c:\\users\\riyaa\\anaconda3\\lib\\site-packages (from requests<3.0.0,>=2.32.3->langchain_tavily) (2.3.0)\n",
      "Requirement already satisfied: sniffio>=1.1 in c:\\users\\riyaa\\anaconda3\\lib\\site-packages (from anyio->httpx>=0.25.2->langgraph-sdk<0.3.0,>=0.2.2->langgraph<1.1.0,>=1.0.2->langchain<2.0.0,>=0.3.20->langchain_tavily) (1.3.0)\n",
      "Downloading langchain_tavily-0.2.12-py3-none-any.whl (25 kB)\n",
      "Downloading aiohttp-3.13.2-cp313-cp313-win_amd64.whl (452 kB)\n",
      "Downloading langchain-1.0.3-py3-none-any.whl (91 kB)\n",
      "Downloading langgraph-1.0.2-py3-none-any.whl (156 kB)\n",
      "Downloading langgraph_prebuilt-1.0.2-py3-none-any.whl (34 kB)\n",
      "Using cached aiohappyeyeballs-2.6.1-py3-none-any.whl (15 kB)\n",
      "Using cached aiosignal-1.4.0-py3-none-any.whl (7.5 kB)\n",
      "Installing collected packages: aiosignal, aiohappyeyeballs, aiohttp, langgraph-prebuilt, langgraph, langchain, langchain_tavily\n",
      "\n",
      "  Attempting uninstall: aiosignal\n",
      "\n",
      "    Found existing installation: aiosignal 1.2.0\n",
      "\n",
      "    Uninstalling aiosignal-1.2.0:\n",
      "\n",
      "      Successfully uninstalled aiosignal-1.2.0\n",
      "\n",
      "  Attempting uninstall: aiohappyeyeballs\n",
      "\n",
      "    Found existing installation: aiohappyeyeballs 2.4.4\n",
      "\n",
      "    Uninstalling aiohappyeyeballs-2.4.4:\n",
      "\n",
      "      Successfully uninstalled aiohappyeyeballs-2.4.4\n",
      "\n",
      "  Attempting uninstall: aiohttp\n",
      "\n",
      "    Found existing installation: aiohttp 3.11.10\n",
      "\n",
      "    Uninstalling aiohttp-3.11.10:\n",
      "\n",
      "      Successfully uninstalled aiohttp-3.11.10\n",
      "\n",
      "   ----------- ---------------------------- 2/7 [aiohttp]\n",
      "   ----------- ---------------------------- 2/7 [aiohttp]\n",
      "  Attempting uninstall: langgraph-prebuilt\n",
      "   ----------- ---------------------------- 2/7 [aiohttp]\n",
      "    Found existing installation: langgraph-prebuilt 1.0.1\n",
      "   ----------- ---------------------------- 2/7 [aiohttp]\n",
      "    Uninstalling langgraph-prebuilt-1.0.1:\n",
      "   ----------- ---------------------------- 2/7 [aiohttp]\n",
      "      Successfully uninstalled langgraph-prebuilt-1.0.1\n",
      "   ----------- ---------------------------- 2/7 [aiohttp]\n",
      "  Attempting uninstall: langgraph\n",
      "   ----------- ---------------------------- 2/7 [aiohttp]\n",
      "    Found existing installation: langgraph 1.0.1\n",
      "   ----------- ---------------------------- 2/7 [aiohttp]\n",
      "    Uninstalling langgraph-1.0.1:\n",
      "   ----------- ---------------------------- 2/7 [aiohttp]\n",
      "      Successfully uninstalled langgraph-1.0.1\n",
      "   ----------- ---------------------------- 2/7 [aiohttp]\n",
      "   ---------------------- ----------------- 4/7 [langgraph]\n",
      "   ---------------------- ----------------- 4/7 [langgraph]\n",
      "   ---------------------------------------- 7/7 [langchain_tavily]\n",
      "\n",
      "Successfully installed aiohappyeyeballs-2.6.1 aiohttp-3.13.2 aiosignal-1.4.0 langchain-1.0.3 langchain_tavily-0.2.12 langgraph-1.0.2 langgraph-prebuilt-1.0.2\n"
     ]
    }
   ],
   "source": [
    "!pip install langchain_tavily"
   ]
  },
  {
   "cell_type": "code",
   "execution_count": 23,
   "id": "53574a44-a13f-45cf-ac40-4c10b730e24d",
   "metadata": {
    "collapsed": true,
    "jupyter": {
     "outputs_hidden": true
    }
   },
   "outputs": [
    {
     "name": "stdout",
     "output_type": "stream",
     "text": [
      "Requirement already satisfied: langchain_core in c:\\users\\riyaa\\anaconda3\\lib\\site-packages (1.0.2)\n",
      "Requirement already satisfied: jsonpatch<2.0.0,>=1.33.0 in c:\\users\\riyaa\\anaconda3\\lib\\site-packages (from langchain_core) (1.33)\n",
      "Requirement already satisfied: langsmith<1.0.0,>=0.3.45 in c:\\users\\riyaa\\anaconda3\\lib\\site-packages (from langchain_core) (0.4.37)\n",
      "Requirement already satisfied: packaging<26.0.0,>=23.2.0 in c:\\users\\riyaa\\anaconda3\\lib\\site-packages (from langchain_core) (24.2)\n",
      "Requirement already satisfied: pydantic<3.0.0,>=2.7.4 in c:\\users\\riyaa\\anaconda3\\lib\\site-packages (from langchain_core) (2.10.3)\n",
      "Requirement already satisfied: pyyaml<7.0.0,>=5.3.0 in c:\\users\\riyaa\\anaconda3\\lib\\site-packages (from langchain_core) (6.0.2)\n",
      "Requirement already satisfied: tenacity!=8.4.0,<10.0.0,>=8.1.0 in c:\\users\\riyaa\\anaconda3\\lib\\site-packages (from langchain_core) (9.0.0)\n",
      "Requirement already satisfied: typing-extensions<5.0.0,>=4.7.0 in c:\\users\\riyaa\\anaconda3\\lib\\site-packages (from langchain_core) (4.12.2)\n",
      "Requirement already satisfied: jsonpointer>=1.9 in c:\\users\\riyaa\\anaconda3\\lib\\site-packages (from jsonpatch<2.0.0,>=1.33.0->langchain_core) (2.1)\n",
      "Requirement already satisfied: httpx<1,>=0.23.0 in c:\\users\\riyaa\\anaconda3\\lib\\site-packages (from langsmith<1.0.0,>=0.3.45->langchain_core) (0.28.1)\n",
      "Requirement already satisfied: orjson>=3.9.14 in c:\\users\\riyaa\\anaconda3\\lib\\site-packages (from langsmith<1.0.0,>=0.3.45->langchain_core) (3.11.3)\n",
      "Requirement already satisfied: requests-toolbelt>=1.0.0 in c:\\users\\riyaa\\anaconda3\\lib\\site-packages (from langsmith<1.0.0,>=0.3.45->langchain_core) (1.0.0)\n",
      "Requirement already satisfied: requests>=2.0.0 in c:\\users\\riyaa\\anaconda3\\lib\\site-packages (from langsmith<1.0.0,>=0.3.45->langchain_core) (2.32.5)\n",
      "Requirement already satisfied: zstandard>=0.23.0 in c:\\users\\riyaa\\anaconda3\\lib\\site-packages (from langsmith<1.0.0,>=0.3.45->langchain_core) (0.23.0)\n",
      "Requirement already satisfied: anyio in c:\\users\\riyaa\\anaconda3\\lib\\site-packages (from httpx<1,>=0.23.0->langsmith<1.0.0,>=0.3.45->langchain_core) (4.7.0)\n",
      "Requirement already satisfied: certifi in c:\\users\\riyaa\\anaconda3\\lib\\site-packages (from httpx<1,>=0.23.0->langsmith<1.0.0,>=0.3.45->langchain_core) (2025.10.5)\n",
      "Requirement already satisfied: httpcore==1.* in c:\\users\\riyaa\\anaconda3\\lib\\site-packages (from httpx<1,>=0.23.0->langsmith<1.0.0,>=0.3.45->langchain_core) (1.0.9)\n",
      "Requirement already satisfied: idna in c:\\users\\riyaa\\anaconda3\\lib\\site-packages (from httpx<1,>=0.23.0->langsmith<1.0.0,>=0.3.45->langchain_core) (3.7)\n",
      "Requirement already satisfied: h11>=0.16 in c:\\users\\riyaa\\anaconda3\\lib\\site-packages (from httpcore==1.*->httpx<1,>=0.23.0->langsmith<1.0.0,>=0.3.45->langchain_core) (0.16.0)\n",
      "Requirement already satisfied: annotated-types>=0.6.0 in c:\\users\\riyaa\\anaconda3\\lib\\site-packages (from pydantic<3.0.0,>=2.7.4->langchain_core) (0.6.0)\n",
      "Requirement already satisfied: pydantic-core==2.27.1 in c:\\users\\riyaa\\anaconda3\\lib\\site-packages (from pydantic<3.0.0,>=2.7.4->langchain_core) (2.27.1)\n",
      "Requirement already satisfied: charset_normalizer<4,>=2 in c:\\users\\riyaa\\anaconda3\\lib\\site-packages (from requests>=2.0.0->langsmith<1.0.0,>=0.3.45->langchain_core) (3.3.2)\n",
      "Requirement already satisfied: urllib3<3,>=1.21.1 in c:\\users\\riyaa\\anaconda3\\lib\\site-packages (from requests>=2.0.0->langsmith<1.0.0,>=0.3.45->langchain_core) (2.3.0)\n",
      "Requirement already satisfied: sniffio>=1.1 in c:\\users\\riyaa\\anaconda3\\lib\\site-packages (from anyio->httpx<1,>=0.23.0->langsmith<1.0.0,>=0.3.45->langchain_core) (1.3.0)\n"
     ]
    }
   ],
   "source": [
    "!pip install langchain_core"
   ]
  },
  {
   "cell_type": "code",
   "execution_count": 38,
   "id": "4d71b632-3412-4f02-babb-3419ac1297c6",
   "metadata": {
    "collapsed": true,
    "jupyter": {
     "outputs_hidden": true
    },
    "scrolled": true
   },
   "outputs": [
    {
     "name": "stdout",
     "output_type": "stream",
     "text": [
      "^C\n",
      "Collecting wikipedia\n",
      "  Downloading wikipedia-1.4.0.tar.gz (27 kB)\n",
      "  Preparing metadata (setup.py): started\n",
      "  Preparing metadata (setup.py): finished with status 'done'\n",
      "Requirement already satisfied: beautifulsoup4 in c:\\users\\riyaa\\anaconda3\\lib\\site-packages (from wikipedia) (4.12.3)\n",
      "Requirement already satisfied: requests<3.0.0,>=2.0.0 in c:\\users\\riyaa\\anaconda3\\lib\\site-packages (from wikipedia) (2.32.5)\n",
      "Requirement already satisfied: charset_normalizer<4,>=2 in c:\\users\\riyaa\\anaconda3\\lib\\site-packages (from requests<3.0.0,>=2.0.0->wikipedia) (3.3.2)\n",
      "Requirement already satisfied: idna<4,>=2.5 in c:\\users\\riyaa\\anaconda3\\lib\\site-packages (from requests<3.0.0,>=2.0.0->wikipedia) (3.7)\n",
      "Requirement already satisfied: urllib3<3,>=1.21.1 in c:\\users\\riyaa\\anaconda3\\lib\\site-packages (from requests<3.0.0,>=2.0.0->wikipedia) (2.3.0)\n",
      "Requirement already satisfied: certifi>=2017.4.17 in c:\\users\\riyaa\\anaconda3\\lib\\site-packages (from requests<3.0.0,>=2.0.0->wikipedia) (2025.10.5)\n",
      "Requirement already satisfied: soupsieve>1.2 in c:\\users\\riyaa\\anaconda3\\lib\\site-packages (from beautifulsoup4->wikipedia) (2.5)\n",
      "Building wheels for collected packages: wikipedia\n",
      "  Building wheel for wikipedia (setup.py): started\n",
      "  Building wheel for wikipedia (setup.py): finished with status 'done'\n",
      "  Created wheel for wikipedia: filename=wikipedia-1.4.0-py3-none-any.whl size=11704 sha256=fca6e19b79299e2d83f8052ff8011574d4e981e91678fd6e6d4403db4209102e\n",
      "  Stored in directory: c:\\users\\riyaa\\appdata\\local\\pip\\cache\\wheels\\79\\1d\\c8\\b64e19423cc5a2a339450ea5d145e7c8eb3d4aa2b150cde33b\n",
      "Successfully built wikipedia\n",
      "Installing collected packages: wikipedia\n",
      "Successfully installed wikipedia-1.4.0\n"
     ]
    },
    {
     "name": "stderr",
     "output_type": "stream",
     "text": [
      "  DEPRECATION: Building 'wikipedia' using the legacy setup.py bdist_wheel mechanism, which will be removed in a future version. pip 25.3 will enforce this behaviour change. A possible replacement is to use the standardized build interface by setting the `--use-pep517` option, (possibly combined with `--no-build-isolation`), or adding a `pyproject.toml` file to the source tree of 'wikipedia'. Discussion can be found at https://github.com/pypa/pip/issues/6334\n"
     ]
    }
   ],
   "source": [
    "!pip install wikipedia"
   ]
  },
  {
   "cell_type": "code",
   "execution_count": 54,
   "id": "86c94eb2-5137-4c75-8786-c3b68f7c01e8",
   "metadata": {
    "collapsed": true,
    "jupyter": {
     "outputs_hidden": true
    },
    "scrolled": true
   },
   "outputs": [
    {
     "name": "stdout",
     "output_type": "stream",
     "text": [
      "Collecting newsapi-python\n",
      "  Downloading newsapi_python-0.2.7-py2.py3-none-any.whl.metadata (1.2 kB)\n",
      "Requirement already satisfied: requests<3.0.0 in c:\\users\\riyaa\\anaconda3\\lib\\site-packages (from newsapi-python) (2.32.5)\n",
      "Requirement already satisfied: charset_normalizer<4,>=2 in c:\\users\\riyaa\\anaconda3\\lib\\site-packages (from requests<3.0.0->newsapi-python) (3.3.2)\n",
      "Requirement already satisfied: idna<4,>=2.5 in c:\\users\\riyaa\\anaconda3\\lib\\site-packages (from requests<3.0.0->newsapi-python) (3.7)\n",
      "Requirement already satisfied: urllib3<3,>=1.21.1 in c:\\users\\riyaa\\anaconda3\\lib\\site-packages (from requests<3.0.0->newsapi-python) (2.3.0)\n",
      "Requirement already satisfied: certifi>=2017.4.17 in c:\\users\\riyaa\\anaconda3\\lib\\site-packages (from requests<3.0.0->newsapi-python) (2025.10.5)\n",
      "Downloading newsapi_python-0.2.7-py2.py3-none-any.whl (7.9 kB)\n",
      "Installing collected packages: newsapi-python\n",
      "Successfully installed newsapi-python-0.2.7\n"
     ]
    }
   ],
   "source": [
    "!pip install newsapi-python"
   ]
  },
  {
   "cell_type": "code",
   "execution_count": 79,
   "id": "2bfe3e0f-b999-4c73-806d-cf4cb785e519",
   "metadata": {
    "collapsed": true,
    "jupyter": {
     "outputs_hidden": true
    }
   },
   "outputs": [
    {
     "name": "stdout",
     "output_type": "stream",
     "text": [
      "Collecting xmltodict\n",
      "  Using cached xmltodict-1.0.2-py3-none-any.whl.metadata (15 kB)\n",
      "Using cached xmltodict-1.0.2-py3-none-any.whl (13 kB)\n",
      "Installing collected packages: xmltodict\n",
      "Successfully installed xmltodict-1.0.2\n"
     ]
    }
   ],
   "source": [
    "!pip install xmltodict"
   ]
  },
  {
   "cell_type": "code",
   "execution_count": 78,
   "id": "bfb4f56c-3334-4927-8ed8-62fd384ee43e",
   "metadata": {},
   "outputs": [
    {
     "data": {
      "image/png": "[encoded data removed]",
      "text/plain": [
       "<IPython.core.display.Image object>"
      ]
     },
     "metadata": {},
     "output_type": "display_data"
    }
   ],
   "source": [
    "from langchain_core.messages import HumanMessage, SystemMessage\n",
    "\n",
    "from langchain_community.document_loaders import WikipediaLoader\n",
    "from langchain_tavily import TavilySearch  # updated since filming\n",
    "\n",
    "def search_web(state):\n",
    "    \n",
    "    \"\"\" Retrieve docs from web search \"\"\"\n",
    "\n",
    "    # Search\n",
    "    tavily_search = TavilySearch(max_results=3)\n",
    "    data = tavily_search.invoke({\"query\": state['question']})\n",
    "    search_docs = data.get(\"results\", data)\n",
    "\n",
    "     # Format\n",
    "    formatted_search_docs = \"\\n\\n---\\n\\n\".join(\n",
    "        [\n",
    "            f'<Document href=\"{doc[\"url\"]}\">\\n{doc[\"content\"]}\\n</Document>'\n",
    "            for doc in search_docs\n",
    "        ]\n",
    "    )\n",
    "\n",
    "    return {\"context\": [formatted_search_docs]} \n",
    "\n",
    "def search_wikipedia(state):\n",
    "    \n",
    "    \"\"\" Retrieve docs from wikipedia \"\"\"\n",
    "\n",
    "    # Search\n",
    "    search_docs = WikipediaLoader(query=state['question'], \n",
    "                                  load_max_docs=2).load()\n",
    "\n",
    "     # Format\n",
    "    formatted_search_docs = \"\\n\\n---\\n\\n\".join(\n",
    "        [\n",
    "            f'<Document source=\"{doc.metadata[\"source\"]}\" page=\"{doc.metadata.get(\"page\", \"\")}\">\\n{doc.page_content}\\n</Document>'\n",
    "            for doc in search_docs\n",
    "        ]\n",
    "    )\n",
    "\n",
    "    return {\"context\": [formatted_search_docs]} \n",
    "\n",
    "from langchain_community.document_loaders import NewsURLLoader\n",
    "\n",
    "'''def search_news(state):\n",
    "    \"\"\" Retrieve recent news articles \"\"\"\n",
    "    from newsapi import NewsApiClient  \n",
    "    \n",
    "    newsapi = NewsApiClient(api_key='YOUR_API_KEY')\n",
    "    articles = newsapi.get_everything(q=state['question'], \n",
    "                                     language='en',\n",
    "                                     sort_by='relevancy',\n",
    "                                     page_size=3)\n",
    "    \n",
    "    # Format\n",
    "    formatted_search_docs = \"\\n\\n---\\n\\n\".join(\n",
    "        [\n",
    "            f'<Document source=\"{article[\"source\"][\"name\"]}\" url=\"{article[\"url\"]}\">\\n{article[\"title\"]}\\n{article.get(\"description\", \"\")}\\n</Document>'\n",
    "            for article in articles['articles']\n",
    "        ]\n",
    "    )\n",
    "    return {\"context\": [formatted_search_docs]}'''\n",
    "\n",
    "from langchain_community.document_loaders import PubMedLoader\n",
    "\n",
    "def search_pubmed(state):\n",
    "    \"\"\" Retrieve medical/scientific papers from PubMed \"\"\"\n",
    "    search_docs = PubMedLoader(query=state['question'], load_max_docs=3).load()\n",
    "    \n",
    "    # Format\n",
    "    formatted_search_docs = \"\\n\\n---\\n\\n\".join(\n",
    "        [\n",
    "            f'<Document source=\"PubMed\" uid=\"{doc.metadata.get(\"uid\", \"\")}\">\\n{doc.page_content[:1000]}\\n</Document>'\n",
    "            for doc in search_docs\n",
    "        ]\n",
    "    )\n",
    "    return {\"context\": [formatted_search_docs]}\n",
    "\n",
    "def generate_answer(state):\n",
    "    \n",
    "    \"\"\" Node to answer a question \"\"\"\n",
    "\n",
    "    # Get state\n",
    "    context = state[\"context\"]\n",
    "    question = state[\"question\"]\n",
    "\n",
    "    # Template\n",
    "    answer_template = \"\"\"Answer the question {question} using this context: {context}\"\"\"\n",
    "    answer_instructions = answer_template.format(question=question, \n",
    "                                                       context=context)    \n",
    "    \n",
    "    # Answer\n",
    "    answer = llm.invoke([SystemMessage(content=answer_instructions)]+[HumanMessage(content=f\"Answer the question.\")])\n",
    "      \n",
    "    # Append it to state\n",
    "    return {\"answer\": answer}\n",
    "\n",
    "\n",
    "\n",
    "# Add nodes\n",
    "builder = StateGraph(State)\n",
    "\n",
    "# Initialize each node with node_secret \n",
    "builder.add_node(\"search_web\",search_web)\n",
    "builder.add_node(\"search_wikipedia\", search_wikipedia)\n",
    "builder.add_node(\"generate_answer\", generate_answer)\n",
    "builder.add_node(\"search_pubmed\", search_pubmed)\n",
    "\n",
    "# Flow\n",
    "builder.add_edge(START, \"search_wikipedia\")\n",
    "builder.add_edge(START, \"search_web\")\n",
    "builder.add_edge(START, \"search_pubmed\")\n",
    "builder.add_edge(\"search_wikipedia\", \"generate_answer\")\n",
    "builder.add_edge(\"search_web\", \"generate_answer\")\n",
    "builder.add_edge(\"search_pubmed\", \"generate_answer\")\n",
    "builder.add_edge(\"generate_answer\", END)\n",
    "graph = builder.compile()\n",
    "\n",
    "display(Image(graph.get_graph().draw_mermaid_png()))\n"
   ]
  },
  {
   "cell_type": "code",
   "execution_count": 74,
   "id": "ecd095d9-4cf6-464a-bce3-ed97d4b35b79",
   "metadata": {
    "scrolled": true
   },
   "outputs": [
    {
     "data": {
      "text/plain": [
       "\"Nvidia's Q2 2025 earnings exceeded expectations. The company reported an EPS of $1.04, beating the forecast of $1.01. Revenue also exceeded expectations. Adjusted earnings per share were reported as $1.05, also beating analyst estimates.\""
      ]
     },
     "execution_count": 74,
     "metadata": {},
     "output_type": "execute_result"
    }
   ],
   "source": [
    "result = graph.invoke({\"question\": \"How were Nvidia's Q2 2025 earnings\"})\n",
    "result['answer'].content"
   ]
  },
  {
   "attachments": {},
   "cell_type": "markdown",
   "id": "3dbbecab-80eb-4f0c-b43a-45542fc0ae9c",
   "metadata": {},
   "source": [
    "## Using with LangGraph API\n",
    "\n",
    "**⚠️ Notice**\n",
    "\n",
    "Since filming these videos, we've updated Studio so that it can now be run locally and accessed through your browser. This is the preferred way to run Studio instead of using the Desktop App shown in the video. It is now called _LangSmith Studio_ instead of _LangGraph Studio_. Detailed setup instructions are available in the \"Getting Setup\" guide at the start of the course. You can find a description of Studio [here](https://docs.langchain.com/langsmith/studio), and specific details for local deployment [here](https://docs.langchain.com/langsmith/quick-start-studio#local-development-server).  \n",
    "To start the local development server, run the following command in your terminal in the `/studio` directory in this module:\n",
    "\n",
    "```\n",
    "langgraph dev\n",
    "```\n",
    "\n",
    "You should see the following output:\n",
    "```\n",
    "- 🚀 API: http://127.0.0.1:2024\n",
    "- 🎨 Studio UI: https://smith.langchain.com/studio/?baseUrl=http://127.0.0.1:2024\n",
    "- 📚 API Docs: http://127.0.0.1:2024/docs\n",
    "```\n",
    "\n",
    "Open your browser and navigate to the **Studio UI** URL shown above."
   ]
  },
  {
   "cell_type": "code",
   "execution_count": 18,
   "id": "4bc8ad8d-1365-4801-a8a5-b85cd4965119",
   "metadata": {},
   "outputs": [],
   "source": [
    "if 'google.colab' in str(get_ipython()):\n",
    "    raise Exception(\"Unfortunately LangSmith Studio is currently not supported on Google Colab\")"
   ]
  },
  {
   "cell_type": "code",
   "execution_count": 71,
   "id": "23919dc9-27d8-4d10-b91d-24acdf8c0fb9",
   "metadata": {},
   "outputs": [],
   "source": [
    "from langgraph_sdk import get_client\n",
    "client = get_client(url=\"http://127.0.0.1:2024\")"
   ]
  },
  {
   "cell_type": "code",
   "execution_count": 75,
   "id": "32e8008a-3a27-41f8-b8ac-4970f0e980ed",
   "metadata": {},
   "outputs": [],
   "source": [
    "from langgraph_sdk import get_client\n",
    "client = get_client(url=\"http://127.0.0.1:2024\")"
   ]
  },
  {
   "cell_type": "code",
   "execution_count": 72,
   "id": "629fb718-e00c-43bb-85f7-0eac1d820af3",
   "metadata": {},
   "outputs": [
    {
     "name": "stdout",
     "output_type": "stream",
     "text": [
      "I am sorry, but I do not have the ability to answer the question \"How were Nvidia Q2 2025 earnings?\" as I do not have access to the internet to get the latest financial data.\n",
      "Nvidia's Q2 2025 earnings were strong, exceeding expectations.\n",
      "\n",
      "Here's a breakdown:\n",
      "\n",
      "*   **EPS:** Reported at $1.04, beating the forecast of $1.01.\n",
      "*   **Revenue:** Reached $46.74 billion, surpassing both analyst estimates and the previous quarter's record.\n"
     ]
    }
   ],
   "source": [
    "thread = await client.threads.create()\n",
    "input_question = {\"question\": \"How were Nvidia Q2 2025 earnings?\"}\n",
    "async for event in client.runs.stream(thread[\"thread_id\"], \n",
    "                                      assistant_id=\"parallelization\", \n",
    "                                      input=input_question, \n",
    "                                      stream_mode=\"values\"):\n",
    "    # Check if answer has been added to state  \n",
    "    if event.data is not None:\n",
    "        answer = event.data.get('answer', None)\n",
    "        if answer:\n",
    "            print(answer['content'])"
   ]
  },
  {
   "cell_type": "code",
   "execution_count": 80,
   "id": "9682f8e4-ffca-4374-bad0-a368229d24a4",
   "metadata": {},
   "outputs": [
    {
     "name": "stdout",
     "output_type": "stream",
     "text": [
      "Intermittent fasting (IF) may offer several health benefits:\n",
      "\n",
      "*   **Weight Loss:** IF can be used as a method for weight loss.\n",
      "*   **Heart Health:** IF may benefit heart health.\n",
      "*   **Metabolic Health:** IF may improve metabolic outcomes in overweight or obese adults.\n",
      "*   **Reduce Inflammation:** IF may reduce inflammation.\n",
      "*   **Cell Repair:** IF may improve cell repair processes.\n",
      "*   **Extended Longevity:** IF may contribute to extended longevity.\n",
      "*   **Counteracting Disease Conditions:** IF may counteract various disease conditions.\n",
      "*   **Improve Blood Pressure, Lipid Profiles, and Glucose Regulation:** Time-restricted eating (TRE), a type of IF, has been shown to improve these markers.\n",
      "*   **Improved Alertness, Mood, and Cognitive Performance:** Fasting may improve these aspects of mental health.\n"
     ]
    }
   ],
   "source": [
    "thread = await client.threads.create()\n",
    "input_question = {\"question\": \"What are the health benefits of intermittent fasting?\"}\n",
    "async for event in client.runs.stream(thread[\"thread_id\"], \n",
    "                                      assistant_id=\"parallelization\", \n",
    "                                      input=input_question, \n",
    "                                      stream_mode=\"values\"):\n",
    "    # Check if answer has been added to state  \n",
    "    if event.data is not None:\n",
    "        answer = event.data.get('answer', None)\n",
    "        if answer:\n",
    "            print(answer['content'])"
   ]
  },
  {
   "cell_type": "code",
   "execution_count": null,
   "id": "54da0234-bddb-4c5b-9b93-b75b7c824d3b",
   "metadata": {},
   "outputs": [],
   "source": []
  }
 ],
 "metadata": {
  "kernelspec": {
   "display_name": "Python [conda env:base] *",
   "language": "python",
   "name": "conda-base-py"
  },
  "language_info": {
   "codemirror_mode": {
    "name": "ipython",
    "version": 3
   },
   "file_extension": ".py",
   "mimetype": "text/x-python",
   "name": "python",
   "nbconvert_exporter": "python",
   "pygments_lexer": "ipython3",
   "version": "3.13.5"
  }
 },
 "nbformat": 4,
 "nbformat_minor": 5
}
